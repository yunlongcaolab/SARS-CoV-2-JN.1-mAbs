{
 "cells": [
  {
   "cell_type": "code",
   "execution_count": 12,
   "id": "f688da6d-9b75-4db2-a04d-82b92c30e80a",
   "metadata": {
    "vscode": {
     "languageId": "r"
    }
   },
   "outputs": [
    {
     "data": {
      "image/png": "[encoded data removed]",
      "text/plain": [
       "plot without title"
      ]
     },
     "metadata": {
      "image/png": {
       "height": 420,
       "width": 420
      }
     },
     "output_type": "display_data"
    }
   ],
   "source": [
    "library(ggplot2)\n",
    "library(tidyverse)\n",
    "\n",
    "df <- read.csv(\"../data/_A1_breadth.csv\") %>% filter(v_gene_H == \"IGHV3-53\" | v_gene_H == \"IGHV3-66\")\n",
    "ggplot(df, aes(breadth, cdrh3_len))+geom_dotplot(binwidth = 0.5, stackdir = \"center\", dotsize = 0.2, binaxis = 'y')+theme_classic()"
   ]
  },
  {
   "cell_type": "code",
   "execution_count": 13,
   "id": "e0a25688-3f79-42f3-8d18-610972251847",
   "metadata": {
    "vscode": {
     "languageId": "r"
    }
   },
   "outputs": [
    {
     "data": {
      "text/html": [
       "<strong>pdf:</strong> 3"
      ],
      "text/latex": [
       "\\textbf{pdf:} 3"
      ],
      "text/markdown": [
       "**pdf:** 3"
      ],
      "text/plain": [
       "pdf \n",
       "  3 "
      ]
     },
     "metadata": {},
     "output_type": "display_data"
    },
    {
     "data": {
      "text/html": [
       "<strong>pdf:</strong> 3"
      ],
      "text/latex": [
       "\\textbf{pdf:} 3"
      ],
      "text/markdown": [
       "**pdf:** 3"
      ],
      "text/plain": [
       "pdf \n",
       "  3 "
      ]
     },
     "metadata": {},
     "output_type": "display_data"
    },
    {
     "data": {
      "text/html": [
       "<strong>pdf:</strong> 3"
      ],
      "text/latex": [
       "\\textbf{pdf:} 3"
      ],
      "text/markdown": [
       "**pdf:** 3"
      ],
      "text/plain": [
       "pdf \n",
       "  3 "
      ]
     },
     "metadata": {},
     "output_type": "display_data"
    },
    {
     "name": "stdout",
     "output_type": "stream",
     "text": [
      "using Gonnet\n"
     ]
    },
    {
     "data": {
      "text/html": [
       "<strong>null device:</strong> 1"
      ],
      "text/latex": [
       "\\textbf{null device:} 1"
      ],
      "text/markdown": [
       "**null device:** 1"
      ],
      "text/plain": [
       "null device \n",
       "          1 "
      ]
     },
     "metadata": {},
     "output_type": "display_data"
    },
    {
     "data": {
      "text/html": [
       "<strong>png:</strong> 2"
      ],
      "text/latex": [
       "\\textbf{png:} 2"
      ],
      "text/markdown": [
       "**png:** 2"
      ],
      "text/plain": [
       "png \n",
       "  2 "
      ]
     },
     "metadata": {},
     "output_type": "display_data"
    }
   ],
   "source": [
    "library(ggseqlogo)\n",
    "\n",
    "df <- read.csv(\"../data/_A1_breadth.csv\") %>% filter(v_gene_H == \"IGHV3-53\" | v_gene_H == \"IGHV3-66\") %>% mutate(\n",
    "    KP3_prop = (KP3_IC50 < 0.05)\n",
    ")\n",
    "\n",
    "dev.off()\n",
    "pdf(\"../plots/Extended/A1_CDRH1_logo.pdf\", width=5, height=3)\n",
    "\n",
    "for (prop in unique(df$breadth)){\n",
    "    print(\n",
    "        ggseqlogo((df%>%filter(breadth == prop & str_length(cdrh1) == 8))$cdrh1)+ggtitle(prop)\n",
    "    )\n",
    "}\n",
    "\n",
    "dev.off()\n",
    "\n",
    "pdf(\"../plots/Extended/A1_CDRH2_logo.pdf\", width=5, height=3)\n",
    "\n",
    "for (prop in unique(df$breadth)){\n",
    "    print(\n",
    "        ggseqlogo((df%>%filter(breadth == prop & str_length(cdrh2) == 7))$cdrh2)+ggtitle(prop)\n",
    "    )\n",
    "}\n",
    "\n",
    "dev.off()\n",
    "\n",
    "library(msa)\n",
    "\n",
    "seq_align <- msa(AAStringSet(df$cdrh3), method = \"ClustalOmega\") %>% AAStringSet %>% as.character\n",
    "df$cdrh3_aln <- seq_align\n",
    "dev.off()\n",
    "pdf(\"../plots/Extended/A1_CDRH3_logo.pdf\", width=5, height=3)\n",
    "\n",
    "for (prop in unique(df$breadth)){\n",
    "    print(\n",
    "        ggseqlogo((df%>%filter(breadth == prop))$cdrh3_aln)+ggtitle(prop)\n",
    "    )\n",
    "}\n",
    "dev.off()\n"
   ]
  },
  {
   "cell_type": "code",
   "execution_count": 14,
   "id": "9c43520c-d720-4f6a-9e2d-613c4fd28f26",
   "metadata": {
    "vscode": {
     "languageId": "r"
    }
   },
   "outputs": [
    {
     "name": "stdout",
     "output_type": "stream",
     "text": [
      "using Gonnet\n"
     ]
    },
    {
     "data": {
      "text/html": [
       "<strong>null device:</strong> 1"
      ],
      "text/latex": [
       "\\textbf{null device:} 1"
      ],
      "text/markdown": [
       "**null device:** 1"
      ],
      "text/plain": [
       "null device \n",
       "          1 "
      ]
     },
     "metadata": {},
     "output_type": "display_data"
    },
    {
     "name": "stderr",
     "output_type": "stream",
     "text": [
      "Warning message:\n",
      "“\u001b[1m\u001b[22mNo shared levels found between `names(values)` of the manual scale and the data's \u001b[32mfill\u001b[39m values.”\n",
      "Warning message:\n",
      "“\u001b[1m\u001b[22mNo shared levels found between `names(values)` of the manual scale and the data's \u001b[32mfill\u001b[39m values.”\n"
     ]
    },
    {
     "data": {
      "text/html": [
       "<strong>png:</strong> 2"
      ],
      "text/latex": [
       "\\textbf{png:} 2"
      ],
      "text/markdown": [
       "**png:** 2"
      ],
      "text/plain": [
       "png \n",
       "  2 "
      ]
     },
     "metadata": {},
     "output_type": "display_data"
    }
   ],
   "source": [
    "library(ggmsa)\n",
    "\n",
    "df <- read.csv(\"../data/_A1_breadth.csv\") %>% filter(v_gene_H == \"IGHV3-53\" | v_gene_H == \"IGHV3-66\")%>% arrange(breadth)\n",
    "x <- df$seq_aa_H\n",
    "names(x) <- df$id\n",
    "\n",
    "seq_align <- msa(AAStringSet(x, use.names = T), method = \"ClustalOmega\", order = \"input\")\n",
    "class(seq_align) <- \"AAMultipleAlignment\"\n",
    "\n",
    "n_broad <- nrow(df%>%filter(breadth == \"broad\"))\n",
    "aln_broad <- as(AAMultipleAlignment(unmasked(seq_align)[1:n_broad]),\"AAMultipleAlignment\")\n",
    "aln_escaped <- as(AAMultipleAlignment(unmasked(seq_align)[(n_broad+1):nrow(df)]),\"AAMultipleAlignment\")\n",
    "\n",
    "dev.off()\n",
    "pdf(\"../plots/Extended/A1_cdr3_msa.pdf\", width=8, height=10)\n",
    "ggmsa(aln_broad, seq_name = T,start = 98,end = 118)+geom_seqlogo()\n",
    "ggmsa(aln_escaped, seq_name = T,start = 98,end = 118)+geom_seqlogo()\n",
    "\n",
    "dev.off()\n"
   ]
  },
  {
   "cell_type": "code",
   "execution_count": 15,
   "id": "7371743d-0a3b-470e-8e5f-60de9dddf797",
   "metadata": {
    "vscode": {
     "languageId": "r"
    }
   },
   "outputs": [
    {
     "data": {
      "text/html": [
       "<strong>null device:</strong> 1"
      ],
      "text/latex": [
       "\\textbf{null device:} 1"
      ],
      "text/markdown": [
       "**null device:** 1"
      ],
      "text/plain": [
       "null device \n",
       "          1 "
      ]
     },
     "metadata": {},
     "output_type": "display_data"
    },
    {
     "name": "stderr",
     "output_type": "stream",
     "text": [
      "Warning message:\n",
      "“\u001b[1m\u001b[22mNo shared levels found between `names(values)` of the manual scale and the data's \u001b[32mfill\u001b[39m values.”\n"
     ]
    },
    {
     "data": {
      "text/html": [
       "<strong>png:</strong> 2"
      ],
      "text/latex": [
       "\\textbf{png:} 2"
      ],
      "text/markdown": [
       "**png:** 2"
      ],
      "text/plain": [
       "png \n",
       "  2 "
      ]
     },
     "metadata": {},
     "output_type": "display_data"
    }
   ],
   "source": [
    "dev.off()\n",
    "pdf(\"../plots/Extended/A1_H_seq_msa.pdf\", width=20, height=10)\n",
    "ggmsa(seq_align, seq_name = T)+geom_seqlogo(data=seq_align)\n",
    "\n",
    "dev.off()\n"
   ]
  },
  {
   "cell_type": "code",
   "execution_count": null,
   "id": "e4f2e2a0-078a-4c45-9ec4-7e8a71a3e82a",
   "metadata": {
    "tags": [],
    "vscode": {
     "languageId": "r"
    }
   },
   "outputs": [],
   "source": [
    "# SA55-like\n",
    "library(ggmsa)\n",
    "library(msa)\n",
    "\n",
    "seqH <- c(\n",
    "    \"BD55-3372\"=\"EVHLVESGGGLVKPGGSLRLSCAASGFTFSNYAMNWVRQAPGKGLQWVSSITGSSSFIFYADSVKGRFTIVRDNAQNSLYLQMNSLRDEDTAVYYCARERDDYDTRLDWGQGTLVTVSS\",\n",
    "    \"BD55-5300\"=\"QVQLVQSGAEVKKPGSSVKVSCKASGGSFTSHAVSWVRQAPGQGLEWMGVSIPLFGTAKYAQKFQGRVTITADESTSTVYMSLSNLRSGDTAVYYCARLFPNGTPTDLTAPSDYWGQGTLVTVSS\",\n",
    "    \"BD55-5483\"=\"QVQLVQSGAEVKKPGSSVKVSCKASGDTFRSFALSWVRQAPGQGLEWMGVINPVFGAAHYAQKFQGRVTFIPDERTSTAYMVLSSLRSADTAVYYCARLFPSGNPDRPEDGVDVWGQGTMVTVSS\",\n",
    "    \"BD57-5189\"=\"QVQLVQSGAEVKKPGSSVKVSCKASGGIFSNYAISWVRQAPGQGLEWMGGIVPVFGTPNYSQEFQGRVTLTADESTSTVYMELSSLRSEDTAVYYCARDVGWQDGYYAPGLRYWGQGTLVTVSS\",\n",
    "    \"SA55\"=\"QVQLVQSGAEVKKPGSSVKVSCKASGGTFRSHVISWVRQAPGQGLEWMGGFIPLFGTTIYAQAFQGRVMISADESTSTAYMELSSLRSEDTAVYFCARLFPNGDPNSPEDGFDIWGQGTLVTVSA\",\n",
    "    \"VYD222\"=\"EVQLVESGGGLVKPGGSLRLSCAASGFTFGSYEMNWVRQAPGKGLEWVSSISEDGYSTYYPDSLKGRFTISRDSAKNSLYLQMNSLRADDTAVYYCARDFGGDTAWAGTGFTYWGQGTLVTVSS\",\n",
    "    \"ADG20\"=\"EVQLVESGGGLVKPGGSLRLSCAASGFTFSSYYMNWVRQAPGKGLEWVSSISEDGYSTYYPDSLKGRFTISRDSAKNSLYLQMNSLRADDTAVYYCARDFSGHTAWAGTGFEYWGQGTLVTVSS\"\n",
    ")\n",
    "\n",
    "seq_align <- msa(AAStringSet(seqH, use.names = T), method = \"ClustalOmega\", order = \"input\")\n",
    "class(seq_align) <- \"AAMultipleAlignment\"\n",
    "\n",
    "dev.off()\n",
    "pdf(\"../plots/Extended/SA55-like-H-align.pdf\", width=15, height=5)\n",
    "ggmsa(seq_align, seq_name = T)+geom_seqlogo()\n",
    "dev.off()\n"
   ]
  },
  {
   "cell_type": "code",
   "execution_count": null,
   "id": "3daccabc-5ebc-4511-ae54-35607948661a",
   "metadata": {
    "vscode": {
     "languageId": "r"
    }
   },
   "outputs": [],
   "source": []
  }
 ],
 "metadata": {
  "kernelspec": {
   "display_name": "R-4.3",
   "language": "R",
   "name": "ir43"
  },
  "language_info": {
   "codemirror_mode": "r",
   "file_extension": ".r",
   "mimetype": "text/x-r-source",
   "name": "R",
   "pygments_lexer": "r",
   "version": "4.3.3"
  }
 },
 "nbformat": 4,
 "nbformat_minor": 5
}
