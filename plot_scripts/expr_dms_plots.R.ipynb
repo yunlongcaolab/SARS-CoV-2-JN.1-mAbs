{
 "cells": [
  {
   "cell_type": "code",
   "execution_count": 115,
   "id": "e372c327-184a-4d9f-95b1-dcfd1fcd5481",
   "metadata": {
    "tags": [],
    "vscode": {
     "languageId": "r"
    }
   },
   "outputs": [
    {
     "data": {
      "text/html": [
       "<strong>pdf:</strong> 3"
      ],
      "text/latex": [
       "\\textbf{pdf:} 3"
      ],
      "text/markdown": [
       "**pdf:** 3"
      ],
      "text/plain": [
       "pdf \n",
       "  3 "
      ]
     },
     "metadata": {},
     "output_type": "display_data"
    },
    {
     "name": "stdout",
     "output_type": "stream",
     "text": [
      "[1] \"R=0.874\"\n",
      "[1] \"p=0\"\n"
     ]
    },
    {
     "name": "stderr",
     "output_type": "stream",
     "text": [
      "Warning message:\n",
      "“\u001b[1m\u001b[22mRemoved 15 rows containing missing values or values outside the scale range (`geom_point()`).”\n"
     ]
    },
    {
     "name": "stdout",
     "output_type": "stream",
     "text": [
      "[1] \"R=0.901\"\n",
      "[1] \"p=0\"\n"
     ]
    },
    {
     "name": "stderr",
     "output_type": "stream",
     "text": [
      "Warning message:\n",
      "“\u001b[1m\u001b[22mRemoved 772 rows containing missing values or values outside the scale range (`geom_point()`).”\n"
     ]
    },
    {
     "name": "stdout",
     "output_type": "stream",
     "text": [
      "[1] 4196\n",
      "[1] \"R=0.842\"\n",
      "[1] \"p=0\"\n"
     ]
    },
    {
     "name": "stderr",
     "output_type": "stream",
     "text": [
      "Warning message:\n",
      "“\u001b[1m\u001b[22mRemoved 1003 rows containing missing values or values outside the scale range (`geom_point()`).”\n",
      "Warning message:\n",
      "“\u001b[1m\u001b[22mRemoved 505 rows containing missing values or values outside the scale range (`geom_point()`).”\n"
     ]
    },
    {
     "name": "stdout",
     "output_type": "stream",
     "text": [
      "[1] \"R=0.877\"\n",
      "[1] \"p=0\"\n"
     ]
    },
    {
     "name": "stderr",
     "output_type": "stream",
     "text": [
      "Warning message:\n",
      "“\u001b[1m\u001b[22mRemoved 906 rows containing missing values or values outside the scale range (`geom_point()`).”\n",
      "Warning message:\n",
      "“\u001b[1m\u001b[22mRemoved 465 rows containing missing values or values outside the scale range (`geom_point()`).”\n"
     ]
    },
    {
     "data": {
      "text/html": [
       "<strong>pdf:</strong> 3"
      ],
      "text/latex": [
       "\\textbf{pdf:} 3"
      ],
      "text/markdown": [
       "**pdf:** 3"
      ],
      "text/plain": [
       "pdf \n",
       "  3 "
      ]
     },
     "metadata": {},
     "output_type": "display_data"
    }
   ],
   "source": [
    "library(tidyverse)\n",
    "library(ggrepel)\n",
    "library(ggrastr)\n",
    "library(ggplot2)\n",
    "\n",
    "dev.off()\n",
    "pdf(\"../plots/Extended/DMS/RBD_expression/compare.pdf\", width=3, height=3)\n",
    "\n",
    "df_merge <- read.csv(\"../data/DMS/RBD_expression/_JN1_DMS_single_mutation_expr.csv\")\n",
    "\n",
    "for (col in c(\"expr\", \"expr_single\")) {\n",
    "    correlation <- cor.test(df_merge[,paste0(col, \"_lib1\")], df_merge[,paste0(col, \"_lib2\")], method = \"pearson\")\n",
    "    \n",
    "    print(paste0(\"R=\",signif(correlation$estimate[['cor']], 3)))\n",
    "    print(paste0(\"p=\",correlation$p.value))\n",
    "    \n",
    "    print(\n",
    "        ggplot(df_merge, aes_string(x=paste0(col, \"_lib1\"), y=paste0(col, \"_lib2\"))) +\n",
    "            geom_point_rast(shape=21, alpha=0.5) +\n",
    "            geom_point_rast(data=df_merge[is.na(df_merge$expr_avg),], color=\"red\") + \n",
    "            # geom_text_repel(aes(label=mutant), max.overlaps = 15, min.segment.length = 0)+\n",
    "            theme_classic() +\n",
    "            annotate(geom = 'text', x = -2, y=0.5, color='red', label=paste0(\"R=\",signif(correlation$estimate[['cor']], 3), \"\\np < 2.2e-16\"), hjust=0) + \n",
    "            theme(aspect.ratio=1.0) +\n",
    "            xlab(paste0(col, \" JN.1 lib1 sort-seq\")) +\n",
    "            ylab(paste0(col, \" JN.1 lib2 sort-seq\"))\n",
    "    )\n",
    "}\n",
    "\n",
    "df1 <- read.csv(\"../data/DMS/TStarrLab_RBD_DMS_scores.csv\") %>% filter(target %in% c(\"Omicron_BA2\", \"Omicron_XBB15\"))\n",
    "df2 <- read.csv(\"../data/DMS/RBD_expression/_JN1_DMS_single_mutation_expr.csv\")\n",
    "print(nrow(df_merge))\n",
    "\n",
    "for (tg in c(\"BA2\", \"XBB15\")) {\n",
    "df_merge <- merge(df1 %>% filter(target == paste0(\"Omicron_\", tg)), df2, by.x=\"mutation\", by.y=\"mutant\", all=TRUE)\n",
    "correlation <- cor.test(df_merge$delta_expr, df_merge$expr_avg, method = \"pearson\")\n",
    "print(paste0(\"R=\",signif(correlation$estimate[['cor']], 3)))\n",
    "print(paste0(\"p=\",correlation$p.value))\n",
    "\n",
    "print(\n",
    "    ggplot(df_merge, aes(x=delta_expr, y=expr_avg)) +\n",
    "        geom_point_rast(shape=21, alpha=0.5) +\n",
    "        # geom_text_repel(aes(label=mutation), max.overlaps = 15, min.segment.length = 0)+\n",
    "        geom_point_rast(data=df_merge[is.na(df_merge$expr_avg),], color=\"red\") + \n",
    "        theme_classic() +\n",
    "        annotate(geom = 'text', x = -2, y=0.5, color='red', label=paste0(\"R=\",signif(correlation$estimate[['cor']], 3), \"\\np < 2.2e-16\"), hjust=0) + \n",
    "        theme(aspect.ratio=1.0) +\n",
    "        xlab(paste0(tg, \"RBD expression (T. Starr Lab)\")) +\n",
    "        ylab(\"JN.1 RBD expression\")\n",
    ")\n",
    "}\n",
    "dev.off()"
   ]
  },
  {
   "cell_type": "code",
   "execution_count": 114,
   "id": "05625ab6-183d-4d06-94fc-231bab2701c7",
   "metadata": {
    "vscode": {
     "languageId": "r"
    }
   },
   "outputs": [
    {
     "data": {
      "text/html": [
       "<strong>pdf:</strong> 3"
      ],
      "text/latex": [
       "\\textbf{pdf:} 3"
      ],
      "text/markdown": [
       "**pdf:** 3"
      ],
      "text/plain": [
       "pdf \n",
       "  3 "
      ]
     },
     "metadata": {},
     "output_type": "display_data"
    },
    {
     "data": {
      "text/html": [
       "<strong>pdf:</strong> 3"
      ],
      "text/latex": [
       "\\textbf{pdf:} 3"
      ],
      "text/markdown": [
       "**pdf:** 3"
      ],
      "text/plain": [
       "pdf \n",
       "  3 "
      ]
     },
     "metadata": {},
     "output_type": "display_data"
    }
   ],
   "source": [
    "library(pheatmap)\n",
    "library(circlize)\n",
    "\n",
    "df <- read.csv(\"../data/DMS/RBD_expression/_JN1_DMS_single_mutation_expr.csv\")[, c(\"site\", \"mutation\", \"expr_avg\")] %>% filter(mutation != \"*\") %>% pivot_wider(id_cols=site, names_from = mutation, values_from = expr_avg)\n",
    "df_mat <- as.matrix(df[,-1])\n",
    "rownames(df_mat) <- df$site\n",
    "\n",
    "min_val = min(df_mat, na.rm = T)\n",
    "max_val = max(df_mat, na.rm = T)\n",
    "\n",
    "colors = colorRamp2(c(min_val, 0, max_val), c(\"#AA4031\", \"#FFFFFC\", \"#93A8F0\"))(seq(min_val, max_val,0.05))\n",
    "\n",
    "dev.off()\n",
    "pdf(\"../plots/Extended/DMS/RBD_expression/heatmap.pdf\", width=18, height=3)\n",
    "pheatmap(t(df_mat), cluster_cols = F, cluster_rows = F, color = colors)\n",
    "dev.off()"
   ]
  },
  {
   "cell_type": "code",
   "execution_count": null,
   "id": "afd3c7de-4c41-47ca-8824-6374c5b56ed0",
   "metadata": {
    "vscode": {
     "languageId": "r"
    }
   },
   "outputs": [],
   "source": []
  }
 ],
 "metadata": {
  "kernelspec": {
   "display_name": "R-4.3",
   "language": "R",
   "name": "ir43"
  },
  "language_info": {
   "codemirror_mode": "r",
   "file_extension": ".r",
   "mimetype": "text/x-r-source",
   "name": "R",
   "pygments_lexer": "r",
   "version": "4.3.3"
  }
 },
 "nbformat": 4,
 "nbformat_minor": 5
}
