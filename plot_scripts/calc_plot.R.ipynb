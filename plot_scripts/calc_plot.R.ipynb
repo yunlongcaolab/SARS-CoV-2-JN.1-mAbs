{
 "cells": [
  {
   "cell_type": "code",
   "execution_count": 40,
   "id": "f84e1b39-a4aa-450e-9af5-9a50e5ec4a3e",
   "metadata": {
    "tags": [],
    "vscode": {
     "languageId": "r"
    }
   },
   "outputs": [],
   "source": [
    "library(ggplot2)\n",
    "library(tidyverse)\n",
    "library(ggrepel)\n"
   ]
  },
  {
   "cell_type": "code",
   "execution_count": 41,
   "id": "c3667265-57c4-40fd-9c57-7933b7ee0c24",
   "metadata": {
    "tags": [],
    "vscode": {
     "languageId": "r"
    }
   },
   "outputs": [
    {
     "data": {
      "text/html": [
       "<strong>pdf:</strong> 3"
      ],
      "text/latex": [
       "\\textbf{pdf:} 3"
      ],
      "text/markdown": [
       "**pdf:** 3"
      ],
      "text/plain": [
       "pdf \n",
       "  3 "
      ]
     },
     "metadata": {},
     "output_type": "display_data"
    },
    {
     "name": "stderr",
     "output_type": "stream",
     "text": [
      "Warning message in grid.newpage():\n",
      "“Cannot open temporary file '/tmp/RtmpzG2GSX/pdf325479ad7d1d' for compression (reason: No such file or directory); compression has been turned off for this device”\n",
      "Warning message:\n",
      "“\u001b[1m\u001b[22mRemoved 12 rows containing missing values or values outside the scale range (`geom_line()`).”\n",
      "Warning message:\n",
      "“\u001b[1m\u001b[22mRemoved 12 rows containing missing values or values outside the scale range (`geom_point()`).”\n",
      "Warning message:\n",
      "“\u001b[1m\u001b[22mRemoved 12 rows containing missing values or values outside the scale range (`geom_line()`).”\n",
      "Warning message:\n",
      "“\u001b[1m\u001b[22mRemoved 12 rows containing missing values or values outside the scale range (`geom_point()`).”\n",
      "Warning message:\n",
      "“\u001b[1m\u001b[22mRemoved 12 rows containing missing values or values outside the scale range (`geom_line()`).”\n",
      "Warning message:\n",
      "“\u001b[1m\u001b[22mRemoved 12 rows containing missing values or values outside the scale range (`geom_point()`).”\n",
      "Warning message:\n",
      "“\u001b[1m\u001b[22mRemoved 12 rows containing missing values or values outside the scale range (`geom_line()`).”\n",
      "Warning message:\n",
      "“\u001b[1m\u001b[22mRemoved 12 rows containing missing values or values outside the scale range (`geom_point()`).”\n",
      "Warning message:\n",
      "“\u001b[1m\u001b[22mRemoved 12 rows containing missing values or values outside the scale range (`geom_line()`).”\n",
      "Warning message:\n",
      "“\u001b[1m\u001b[22mRemoved 12 rows containing missing values or values outside the scale range (`geom_point()`).”\n",
      "Warning message:\n",
      "“\u001b[1m\u001b[22mRemoved 12 rows containing missing values or values outside the scale range (`geom_line()`).”\n",
      "Warning message:\n",
      "“\u001b[1m\u001b[22mRemoved 12 rows containing missing values or values outside the scale range (`geom_point()`).”\n"
     ]
    },
    {
     "data": {
      "text/html": [
       "<strong>pdf:</strong> 3"
      ],
      "text/latex": [
       "\\textbf{pdf:} 3"
      ],
      "text/markdown": [
       "**pdf:** 3"
      ],
      "text/plain": [
       "pdf \n",
       "  3 "
      ]
     },
     "metadata": {},
     "output_type": "display_data"
    },
    {
     "name": "stderr",
     "output_type": "stream",
     "text": [
      "Warning message in grid.newpage():\n",
      "“Cannot open temporary file '/tmp/RtmpzG2GSX/pdf32544fa942c' for compression (reason: No such file or directory); compression has been turned off for this device”\n",
      "Warning message:\n",
      "“\u001b[1m\u001b[22mRemoved 12 rows containing missing values or values outside the scale range (`geom_line()`).”\n",
      "Warning message:\n",
      "“\u001b[1m\u001b[22mRemoved 12 rows containing missing values or values outside the scale range (`geom_point()`).”\n",
      "Warning message:\n",
      "“\u001b[1m\u001b[22mRemoved 12 rows containing missing values or values outside the scale range (`geom_line()`).”\n",
      "Warning message:\n",
      "“\u001b[1m\u001b[22mRemoved 12 rows containing missing values or values outside the scale range (`geom_point()`).”\n",
      "Warning message:\n",
      "“\u001b[1m\u001b[22mRemoved 12 rows containing missing values or values outside the scale range (`geom_line()`).”\n",
      "Warning message:\n",
      "“\u001b[1m\u001b[22mRemoved 12 rows containing missing values or values outside the scale range (`geom_point()`).”\n",
      "Warning message:\n",
      "“\u001b[1m\u001b[22mRemoved 1 row containing missing values or values outside the scale range (`geom_label_repel()`).”\n",
      "Warning message:\n",
      "“\u001b[1m\u001b[22mRemoved 12 rows containing missing values or values outside the scale range (`geom_line()`).”\n",
      "Warning message:\n",
      "“\u001b[1m\u001b[22mRemoved 12 rows containing missing values or values outside the scale range (`geom_point()`).”\n",
      "Warning message:\n",
      "“\u001b[1m\u001b[22mRemoved 12 rows containing missing values or values outside the scale range (`geom_line()`).”\n",
      "Warning message:\n",
      "“\u001b[1m\u001b[22mRemoved 12 rows containing missing values or values outside the scale range (`geom_point()`).”\n",
      "Warning message:\n",
      "“\u001b[1m\u001b[22mRemoved 12 rows containing missing values or values outside the scale range (`geom_line()`).”\n",
      "Warning message:\n",
      "“\u001b[1m\u001b[22mRemoved 12 rows containing missing values or values outside the scale range (`geom_point()`).”\n"
     ]
    },
    {
     "data": {
      "text/html": [
       "<strong>pdf:</strong> 3"
      ],
      "text/latex": [
       "\\textbf{pdf:} 3"
      ],
      "text/markdown": [
       "**pdf:** 3"
      ],
      "text/plain": [
       "pdf \n",
       "  3 "
      ]
     },
     "metadata": {},
     "output_type": "display_data"
    },
    {
     "name": "stderr",
     "output_type": "stream",
     "text": [
      "Warning message in grid.newpage():\n",
      "“Cannot open temporary file '/tmp/RtmpzG2GSX/pdf325441c1e00b' for compression (reason: No such file or directory); compression has been turned off for this device”\n",
      "Warning message:\n",
      "“\u001b[1m\u001b[22mRemoved 12 rows containing missing values or values outside the scale range (`geom_line()`).”\n",
      "Warning message:\n",
      "“\u001b[1m\u001b[22mRemoved 12 rows containing missing values or values outside the scale range (`geom_point()`).”\n",
      "Warning message:\n",
      "“\u001b[1m\u001b[22mRemoved 12 rows containing missing values or values outside the scale range (`geom_line()`).”\n",
      "Warning message:\n",
      "“\u001b[1m\u001b[22mRemoved 12 rows containing missing values or values outside the scale range (`geom_point()`).”\n",
      "Warning message:\n",
      "“\u001b[1m\u001b[22mRemoved 12 rows containing missing values or values outside the scale range (`geom_line()`).”\n",
      "Warning message:\n",
      "“\u001b[1m\u001b[22mRemoved 12 rows containing missing values or values outside the scale range (`geom_point()`).”\n",
      "Warning message:\n",
      "“\u001b[1m\u001b[22mRemoved 12 rows containing missing values or values outside the scale range (`geom_line()`).”\n",
      "Warning message:\n",
      "“\u001b[1m\u001b[22mRemoved 12 rows containing missing values or values outside the scale range (`geom_point()`).”\n",
      "Warning message:\n",
      "“\u001b[1m\u001b[22mRemoved 12 rows containing missing values or values outside the scale range (`geom_line()`).”\n",
      "Warning message:\n",
      "“\u001b[1m\u001b[22mRemoved 12 rows containing missing values or values outside the scale range (`geom_point()`).”\n",
      "Warning message:\n",
      "“\u001b[1m\u001b[22mRemoved 12 rows containing missing values or values outside the scale range (`geom_line()`).”\n",
      "Warning message:\n",
      "“\u001b[1m\u001b[22mRemoved 12 rows containing missing values or values outside the scale range (`geom_point()`).”\n"
     ]
    },
    {
     "data": {
      "text/html": [
       "<strong>pdf:</strong> 3"
      ],
      "text/latex": [
       "\\textbf{pdf:} 3"
      ],
      "text/markdown": [
       "**pdf:** 3"
      ],
      "text/plain": [
       "pdf \n",
       "  3 "
      ]
     },
     "metadata": {},
     "output_type": "display_data"
    }
   ],
   "source": [
    "# publish\n",
    "data <- read.csv(\"../data/calc/_site_data-sum-expr-bind.csv\")\n",
    "dev.off()\n",
    "pdf(paste(\"../plots/Figure4_related/Rplot-line-sum-expr-bind.pdf\",sep=\"\"), width=5.2, height=2)\n",
    "for (suff in c(\"sum\")) {\n",
    "    for (use_src in unique(data$group)) {\n",
    "        for (use_weight in unique((data %>% filter(group == use_src))$weight)) {\n",
    "            force_label <- c()\n",
    "            p <- ggplot(data %>% filter(group==use_src & weight == use_weight), aes(site, mut_escape)) + \n",
    "                geom_line(color=\"#A03429\", size=0.8, alpha=0.8) + geom_point(color=\"#A03429\", shape=21)+ theme_classic() + theme(\n",
    "                    axis.text.y=element_blank(),\n",
    "                    axis.ticks.y=element_blank(),\n",
    "                    # axis.text.x=element_blank(),\n",
    "                    # axis.ticks.x=element_blank(),\n",
    "                    axis.title=element_blank(),\n",
    "                    axis.line.y=element_blank(),\n",
    "                    axis.text.x=element_text(angle=60, hjust=0.5, vjust=0.5)\n",
    "                )+scale_x_continuous(breaks=seq(331,519,5),limits=c(331,519))+scale_color_manual(values=colors)+ggtitle(paste(use_src, use_weight))+\n",
    "            geom_label_repel(data=data %>% filter(group == use_src & weight == use_weight & (mut_escape > 0.4 | (mut_escape > 0.05 & site %in% force_label))) %>% group_by(site) %>% summarise(mut_escape=max(mut_escape)), \n",
    "                                aes(label=site), min.segment.length = 0, direction=\"both\", fill = alpha(c(\"white\"),0.5), max.overlaps=50)\n",
    "            print(p)\n",
    "        }\n",
    "     }   \n",
    "}\n",
    "dev.off()\n",
    "pdf(paste(\"../plots/Figure4_related/Rplot-line-sum-expr-bind-low-thres.pdf\",sep=\"\"), width=5.2, height=2)\n",
    "for (suff in c(\"sum\")) {\n",
    "    for (use_src in unique(data$group)) {\n",
    "        for (use_weight in unique((data %>% filter(group == use_src))$weight)) {\n",
    "            force_label <- c()\n",
    "            p <- ggplot(data %>% filter(group==use_src & weight == use_weight), aes(site, mut_escape)) + \n",
    "                geom_line(color=\"#A03429\", size=0.8, alpha=0.8) + geom_point(color=\"#A03429\", shape=21)+ theme_classic() + theme(\n",
    "                    axis.text.y=element_blank(),\n",
    "                    axis.ticks.y=element_blank(),\n",
    "                    # axis.text.x=element_blank(),\n",
    "                    # axis.ticks.x=element_blank(),\n",
    "                    axis.title=element_blank(),\n",
    "                    axis.line.y=element_blank(),\n",
    "                    axis.text.x=element_text(angle=60, hjust=0.5, vjust=0.5)\n",
    "                )+scale_x_continuous(breaks=seq(331,519,5),limits=c(331,519))+scale_color_manual(values=colors)+ggtitle(paste(use_src, use_weight))+\n",
    "            geom_label_repel(data=data %>% filter(group == use_src & weight == use_weight & (mut_escape > 0.2 | (mut_escape > 0.05 & site %in% force_label))) %>% group_by(site) %>% summarise(mut_escape=max(mut_escape)), \n",
    "                                aes(label=site), min.segment.length = 0, direction=\"both\", fill = alpha(c(\"white\"),0.5), max.overlaps=50)\n",
    "            print(p)\n",
    "        }\n",
    "     }   \n",
    "}\n",
    "dev.off()\n",
    "\n",
    "data <- read.csv(\"../data/calc/_site_data-sum-expr-no-bind.csv\")\n",
    "pdf(paste(\"../plots/Figure4_related/Rplot-line-sum-expr-no-bind.pdf\",sep=\"\"), width=5, height=2)\n",
    "for (suff in c(\"sum\")) {\n",
    "    for (use_src in unique(data$group)) {\n",
    "        for (use_weight in unique((data %>% filter(group == use_src))$weight)) {\n",
    "            force_label <- c()\n",
    "            p <- ggplot(data %>% filter(group==use_src & weight == use_weight), aes(site, mut_escape)) + \n",
    "                geom_line(color=\"#A03429\", size=0.8, alpha=0.8) + geom_point(color=\"#A03429\", shape=21)+ theme_classic() + theme(\n",
    "                    axis.text.y=element_blank(),\n",
    "                    axis.ticks.y=element_blank(),\n",
    "                    # axis.text.x=element_blank(),\n",
    "                    # axis.ticks.x=element_blank(),\n",
    "                    axis.line.y=element_blank(),\n",
    "                    axis.title=element_blank(),\n",
    "                    axis.text.x=element_text(angle=60, hjust=0.5, vjust=0.5)\n",
    "                )+scale_x_continuous(breaks=seq(331,519,5),limits=c(331,519))+scale_color_manual(values=colors)+ggtitle(paste(use_src, use_weight))+\n",
    "            geom_label_repel(data=data %>% filter(group == use_src & weight == use_weight & (mut_escape > 0.25 | (mut_escape > 0.05 & site %in% force_label))) %>% group_by(site) %>% summarise(mut_escape=max(mut_escape)), \n",
    "                                aes(label=site), min.segment.length = 0, direction=\"both\", fill = alpha(c(\"white\"),0.5), max.overlaps=50)\n",
    "            print(p)\n",
    "        }\n",
    "     }   \n",
    "}\n",
    "dev.off()\n"
   ]
  },
  {
   "cell_type": "code",
   "execution_count": null,
   "id": "12b51a00-85a7-4467-88dd-86c1f3020db5",
   "metadata": {
    "vscode": {
     "languageId": "r"
    }
   },
   "outputs": [],
   "source": []
  }
 ],
 "metadata": {
  "kernelspec": {
   "display_name": "R-4.3",
   "language": "R",
   "name": "ir43"
  },
  "language_info": {
   "codemirror_mode": "r",
   "file_extension": ".r",
   "mimetype": "text/x-r-source",
   "name": "R",
   "pygments_lexer": "r",
   "version": "4.3.3"
  }
 },
 "nbformat": 4,
 "nbformat_minor": 5
}
