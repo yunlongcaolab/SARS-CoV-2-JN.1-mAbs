{
 "cells": [
  {
   "cell_type": "code",
   "execution_count": 1,
   "id": "ef0fa6c8-5fa6-4efd-b271-60e676b03b3d",
   "metadata": {
    "tags": [],
    "vscode": {
     "languageId": "r"
    }
   },
   "outputs": [
    {
     "name": "stderr",
     "output_type": "stream",
     "text": [
      "── \u001b[1mAttaching core tidyverse packages\u001b[22m ──────────────────────────────────────────────────────────────────────────────────────────── tidyverse 2.0.0 ──\n",
      "\u001b[32m✔\u001b[39m \u001b[34mdplyr    \u001b[39m 1.1.4     \u001b[32m✔\u001b[39m \u001b[34mreadr    \u001b[39m 2.1.5\n",
      "\u001b[32m✔\u001b[39m \u001b[34mforcats  \u001b[39m 1.0.0     \u001b[32m✔\u001b[39m \u001b[34mstringr  \u001b[39m 1.5.1\n",
      "\u001b[32m✔\u001b[39m \u001b[34mlubridate\u001b[39m 1.9.3     \u001b[32m✔\u001b[39m \u001b[34mtibble   \u001b[39m 3.2.1\n",
      "\u001b[32m✔\u001b[39m \u001b[34mpurrr    \u001b[39m 1.0.2     \u001b[32m✔\u001b[39m \u001b[34mtidyr    \u001b[39m 1.3.1\n",
      "── \u001b[1mConflicts\u001b[22m ────────────────────────────────────────────────────────────────────────────────────────────────────────────── tidyverse_conflicts() ──\n",
      "\u001b[31m✖\u001b[39m \u001b[34mdplyr\u001b[39m::\u001b[32mfilter()\u001b[39m masks \u001b[34mstats\u001b[39m::filter()\n",
      "\u001b[31m✖\u001b[39m \u001b[34mdplyr\u001b[39m::\u001b[32mlag()\u001b[39m    masks \u001b[34mstats\u001b[39m::lag()\n",
      "\u001b[36mℹ\u001b[39m Use the conflicted package (\u001b[3m\u001b[34m<http://conflicted.r-lib.org/>\u001b[39m\u001b[23m) to force all conflicts to become errors\n",
      "========================================\n",
      "circlize version 0.4.16\n",
      "CRAN page: https://cran.r-project.org/package=circlize\n",
      "Github page: https://github.com/jokergoo/circlize\n",
      "Documentation: https://jokergoo.github.io/circlize_book/book/\n",
      "\n",
      "If you use it in published research, please cite:\n",
      "Gu, Z. circlize implements and enhances circular visualization\n",
      "  in R. Bioinformatics 2014.\n",
      "\n",
      "This message can be suppressed by:\n",
      "  suppressPackageStartupMessages(library(circlize))\n",
      "========================================\n",
      "\n",
      "\n"
     ]
    }
   ],
   "source": [
    "library(ggplot2)\n",
    "library(tidyverse)\n",
    "library(circlize)\n",
    "library(ggrastr)\n",
    "\n",
    "src <- \"../data/DMS/antibody/_clustering.csv\"\n",
    "ref_FC <- 'JN.1'\n",
    "\n",
    "sources <- c('BA.5 BTI + XBB infection','BA.5 + XBB infection', \n",
    "           'XBB BTI','XBB infection', 'BA.5 BTI + HK.3 infection','BA.5 + JN.1 infection', 'BA.5 BTI + JN.1 infection')\n",
    "\n",
    "data_all <- read.csv(src, check.names = F) %>% filter(source %in% sources)\n",
    "cgroups <- c(\"F3\"=\"F3\", \"A1\"=\"A1\", \"A2\"=\"A2\", \"B\"=\"B\", \"D2\"=\"D2\", \"D3\"=\"D3\", \"D4\"=\"D4\", \"E1/E2.1\"=\"E1/E2.1\", \"E2.2\"=\"E2.2/E3/F1.1\", \"E3\"=\"E2.2/E3/F1.1\", \"F1.1\"=\"E2.2/E3/F1.1\", \"F1.2\"=\"F1.2\")\n",
    "data_all$cgroup <- cgroups[data_all$new_group]\n"
   ]
  },
  {
   "cell_type": "code",
   "execution_count": 2,
   "id": "20151ab9-3e8f-4d25-a65b-45a23818dbc7",
   "metadata": {
    "tags": [],
    "vscode": {
     "languageId": "r"
    }
   },
   "outputs": [
    {
     "data": {
      "text/plain": [
       "\n",
       "\tWilcoxon rank sum test with continuity correction\n",
       "\n",
       "data:  (data_all %>% filter(new_group == \"A1\" & source == \"BA.5 BTI + XBB infection\" & paper_reactivity == \"cross\"))$JN1_F456L_A475V_IC50 and (data_all %>% filter(new_group == \"A1\" & source == \"BA.5 BTI + JN.1 infection\" & paper_reactivity == \"cross\"))$JN1_F456L_A475V_IC50\n",
       "W = 1395, p-value = 0.07251\n",
       "alternative hypothesis: true location shift is not equal to 0\n"
      ]
     },
     "metadata": {},
     "output_type": "display_data"
    }
   ],
   "source": [
    "\n",
    "wilcox.test((data_all %>% filter(new_group == \"A1\" & source == \"BA.5 BTI + XBB infection\" & paper_reactivity == 'cross'))$JN1_F456L_A475V_IC50, \n",
    "           (data_all %>% filter(new_group == \"A1\" & source == \"BA.5 BTI + JN.1 infection\" & paper_reactivity == 'cross'))$JN1_F456L_A475V_IC50)"
   ]
  },
  {
   "cell_type": "code",
   "execution_count": 56,
   "id": "ca90089f-c2b5-42e7-a64f-e8bbb90e42af",
   "metadata": {
    "tags": [],
    "vscode": {
     "languageId": "r"
    }
   },
   "outputs": [],
   "source": [
    "retain_trailing_zeros <- function(number, sig_digits) {\n",
    "    rounded_number <- signif(number, sig_digits)\n",
    "    num_decimal_digits <- sig_digits - floor(log10(rounded_number)) - 1\n",
    "    if (num_decimal_digits < 0) num_decimal_digits <- 0\n",
    "    formatted_number <- formatC(rounded_number, format = \"f\", digits = num_decimal_digits)\n",
    "    return(formatted_number)\n",
    "}\n",
    "my_signif <- function(x, thres) {\n",
    "    digits <- 1+(x>=thres)\n",
    "    return(mapply(retain_trailing_zeros, x, digits))\n",
    "}\n",
    "\n",
    "get_lineplot <- function(data, ref_FC, colors, full) {\n",
    "    colnames(data) <- variants[colnames(data)]\n",
    "    data[data > 10] <- 10\n",
    "    data[data < 0.0005] <- 0.0005\n",
    "\n",
    "    df_test = data.frame()\n",
    "\n",
    "    for (ag2 in colnames(data)[1:ncol(data)]){\n",
    "        if (ref_FC == ag2) {next}\n",
    "        # test <- na.omit(log10(data[,ref_FC]/data[,ag2]))\n",
    "        # if (length(test) == 0) {\n",
    "        #     label <- \"NS\"\n",
    "        # }\n",
    "        else {\n",
    "            pval <- wilcox.test(data[,ref_FC], data[,ag2], paired=TRUE, exact=FALSE)$p.value\n",
    "            # pval <- wilcox.test(test)$p.value\n",
    "\n",
    "            if (is.na(pval) || pval >= 0.05) label <- \"NS\"\n",
    "            else if (pval >= 0.01) label <- \"*\"\n",
    "            else if (pval >= 0.001) label <- \"**\"\n",
    "            else label <- \"***\"\n",
    "        }\n",
    "        df_test <- rbind(df_test, data.frame(ref=ref_FC, antigen=ag2, pval=pval, label=label))\n",
    "    }\n",
    "\n",
    "    data$id <- rownames(data)\n",
    "    samples <- colnames(data)[1:ncol(data)]\n",
    "    data <- data %>% pivot_longer(!id) %>% na.omit()\n",
    "    data$name <- factor(data$name, levels=samples)\n",
    "\n",
    "    count_eff <- data %>% group_by(name) %>% summarise(cnt = sum(value < 1), total = n())\n",
    "    count_eff$ratio_eff <- count_eff$cnt / count_eff$total\n",
    "\n",
    "    data_gmean <- as.data.frame(data %>% group_by(name) %>% summarise(gmean=exp(mean(log(value)))))\n",
    "    data_gmean$FC <- data_gmean$gmean / data_gmean[data_gmean$name == ref_FC, 'gmean']\n",
    "    data_gmean$show_FC <- paste(my_signif(data_gmean$FC, 1),'x',sep='')\n",
    "    data_gmean[data_gmean$name == ref_FC, 'show_FC'] <- ''\n",
    "    data_gmean$show_gmean <- my_signif(data_gmean$gmean,0.01)\n",
    "    data_gmean$percent <- paste(round(count_eff$ratio_eff*100), '%', sep='')\n",
    "    \n",
    "    p <- ggplot(data, aes(name, log10(value)))+geom_line(aes(group=id), alpha=0.02)+\n",
    "        geom_hline(yintercept = 0, linetype='dashed', color='red')+\n",
    "        geom_hline(yintercept = 1, linetype='dashed')+geom_hline(yintercept = log10(0.0005), linetype='dashed')+\n",
    "        scale_y_continuous(limits=c(-3.5,2.8), breaks=-3:1, labels=c(expression('10'^{-3}),expression('10'^{-2}),expression('10'^{-1}),expression('10'^{0}),expression('10'^{1})))+\n",
    "        # scale_y_reverse(limits=c(1,-5.6), breaks=c(1,0,-1,-2,-3), labels=c(expression('10'^{1}),expression('10'^{0}),expression('10'^{-1}),expression('10'^{-2}),expression('10'^{-3})))+\n",
    "        geom_point_rast(aes(fill=name), color='#333333', size=2, alpha=0.2, shape=21,show.legend = F)+scale_fill_manual(values=colors)+theme_classic()+\n",
    "        stat_summary(fun=mean, fun.min=mean, fun.max=mean, geom=\"errorbar\", size=0.5, width=0.3, color=\"black\", ) + labs(y = \"Pseudovirus IC50 (\\u00b5g/mL)\")+\n",
    "        geom_text(data=data_gmean, aes(x=name, label=percent), y=1.75, size=3.3)+\n",
    "        geom_text(data=data_gmean, aes(x=name, label=show_gmean), y=2.6, size=3.3)+\n",
    "        ggtitle(paste(g, '(n = ', length(unique(data$id)), ')', sep=''))+\n",
    "    theme(axis.title=element_blank(), axis.text.x=element_text(angle=45, hjust=1, vjust=1), plot.title=element_text(size=11, hjust=0.4))\n",
    "    \n",
    "    if (full) {\n",
    "        p <- p + geom_text(data=data_gmean, aes(x=name, label=show_FC), y=3.5, size=3.3)+\n",
    "            geom_text(data=df_test, aes(x=antigen, label=label), y=4.2, size=3.3)+\n",
    "            annotate(geom = 'segment', x = 1, xend=length(colors), y=3, yend=3)+\n",
    "        scale_y_continuous(limits=c(-3.5,4.2), breaks=-3:1, labels=c(expression('10'^{-3}),expression('10'^{-2}),expression('10'^{-1}),expression('10'^{0}),expression('10'^{1})))\n",
    "    }\n",
    "    return(p)\n",
    "}"
   ]
  },
  {
   "cell_type": "code",
   "execution_count": 4,
   "id": "c3748ad0-edf3-4ee4-998c-dddc16ed6c98",
   "metadata": {
    "tags": [],
    "vscode": {
     "languageId": "r"
    }
   },
   "outputs": [
    {
     "data": {
      "text/html": [
       "<strong>null device:</strong> 1"
      ],
      "text/latex": [
       "\\textbf{null device:} 1"
      ],
      "text/markdown": [
       "**null device:** 1"
      ],
      "text/plain": [
       "null device \n",
       "          1 "
      ]
     },
     "metadata": {},
     "output_type": "display_data"
    },
    {
     "name": "stderr",
     "output_type": "stream",
     "text": [
      "Warning message:\n",
      "“\u001b[1m\u001b[22mUsing `size` aesthetic for lines was deprecated in ggplot2 3.4.0.\n",
      "\u001b[36mℹ\u001b[39m Please use `linewidth` instead.”\n"
     ]
    },
    {
     "data": {
      "text/html": [
       "<strong>png:</strong> 2"
      ],
      "text/latex": [
       "\\textbf{png:} 2"
      ],
      "text/markdown": [
       "**png:** 2"
      ],
      "text/plain": [
       "png \n",
       "  2 "
      ]
     },
     "metadata": {},
     "output_type": "display_data"
    }
   ],
   "source": [
    "# generate line plots of mAbs against variants, grouped by group\n",
    "\n",
    "src <- \"../data/DMS/antibody/_clustering.csv\"\n",
    "sources <- c('BA.5 BTI + XBB infection','BA.5 + XBB infection', \n",
    "           'XBB BTI','XBB infection', 'BA.5 BTI + HK.3 infection','BA.5 + JN.1 infection', 'BA.5 BTI + JN.1 infection')\n",
    "\n",
    "data_all <- read.csv(src, check.names = F) %>% filter(source %in% sources)\n",
    "cgroups <- c(\"F3\"=\"F3\", \"A1\"=\"A1\", \"A2\"=\"A2\", \"B\"=\"B\", \"D2\"=\"D2\", \"D3\"=\"D3\", \"D4\"=\"D4\", \"E1/E2.1\"=\"E1/E2.1\", \"E2.2\"=\"E2.2/E3/F1.1\", \"E3\"=\"E2.2/E3/F1.1\", \"F1.1\"=\"E2.2/E3/F1.1\", \"F1.2\"=\"F1.2\")\n",
    "variants <- c('D614G_IC50'='D614G', 'XBB1_5_IC50'='XBB.1.5', 'JN1_IC50'='JN.1', 'JN1_R346T_F456L_IC50'='KP.2','KP3_IC50'='KP.3')\n",
    "data_all$cgroup <- cgroups[data_all$new_group]\n",
    "\n",
    "dev.off()\n",
    "pdf(\"../plots/Figure3_related/mAb_neut_lines_by_group.pdf\", width=2.3, height=1.8)\n",
    "for (g in unique(data_all$cgroup)) {\n",
    "    data <- (data_all %>% filter(cgroup == g & source %in% sources))[,names(variants)]\n",
    "    colors <- c(\"#7193E2\", \"#EE6439\", \"#60AB59\", \"#FFCF56\", '#AA2055')\n",
    "\n",
    "    p <- get_lineplot(data, ref_FC, colors, full=F)\n",
    "    print(p)\n",
    "}\n",
    "dev.off()\n"
   ]
  },
  {
   "cell_type": "code",
   "execution_count": 6,
   "id": "458c243a-5eaa-4d1f-b0b4-b6c20b5a9b35",
   "metadata": {
    "tags": [],
    "vscode": {
     "languageId": "r"
    }
   },
   "outputs": [
    {
     "data": {
      "text/html": [
       "<strong>null device:</strong> 1"
      ],
      "text/latex": [
       "\\textbf{null device:} 1"
      ],
      "text/markdown": [
       "**null device:** 1"
      ],
      "text/plain": [
       "null device \n",
       "          1 "
      ]
     },
     "metadata": {},
     "output_type": "display_data"
    },
    {
     "name": "stderr",
     "output_type": "stream",
     "text": [
      "\u001b[1m\u001b[22m`summarise()` has grouped output by 'source', 'paper_reactivity'. You can override using the `.groups` argument.\n",
      "Warning message:\n",
      "“\u001b[1m\u001b[22mNo shared levels found between `names(values)` of the manual scale and the data's \u001b[32mcolour\u001b[39m values.”\n"
     ]
    },
    {
     "data": {
      "text/html": [
       "<strong>png:</strong> 2"
      ],
      "text/latex": [
       "\\textbf{png:} 2"
      ],
      "text/markdown": [
       "**png:** 2"
      ],
      "text/plain": [
       "png \n",
       "  2 "
      ]
     },
     "metadata": {},
     "output_type": "display_data"
    }
   ],
   "source": [
    "# overall neutralization\n",
    "\n",
    "sources <- c('XBB BTI','XBB infection', 'BA.5 + XBB infection', 'BA.5 + JN.1 infection', \n",
    "           'BA.5 BTI + XBB infection','BA.5 BTI + HK.3 infection','BA.5 BTI + JN.1 infection')\n",
    "\n",
    "src <- \"../data/DMS/antibody/_clustering.csv\"\n",
    "data_all <- read.csv(src, check.names = F) %>% filter(source %in% sources)\n",
    "data_all$source <- factor(data_all$source, levels=sources)\n",
    "variants <- c('JN1_IC50'='JN.1', 'JN1_R346T_F456L_IC50'='KP.2', 'KP3_IC50'='KP.3')\n",
    "colors <- c(\"cross\"=\"#BC3C29\", \"specific\"=\"#0072B5\")\n",
    "dev.off()\n",
    "pdf(\"../plots/Extended/overall_neut.pdf\", width=5.5, height=5)\n",
    "data <- data_all[,c('id',names(variants))]\n",
    "rownames(data) <- data$id\n",
    "data <- data[,names(variants)]\n",
    "colnames(data) <- variants[colnames(data)]\n",
    "data[data > 10] <- 10\n",
    "data[data < 0.0005] <- 0.0005\n",
    "\n",
    "data$id <- rownames(data)\n",
    "samples <- colnames(data)[1:ncol(data)]\n",
    "data <- data %>% pivot_longer(!id) %>% na.omit()\n",
    "data$name <- factor(data$name, levels=samples)\n",
    "data <- merge(data, data_all[,c('id','source','paper_reactivity')], all.x=T, by='id')\n",
    "\n",
    "data_summary <- data %>% group_by(source, paper_reactivity, name) %>% summarise(gmean=exp(mean(log(value))), \n",
    "                            percent = paste0(round(sum(value < 1)/n()*100), '%'))\n",
    "\n",
    "p <- ggplot(data, aes(source, log10(value)))+facet_wrap(~name, ncol=1)+#geom_line(aes(group=id, color=new_group), alpha=0.1)+\n",
    "    geom_hline(yintercept = 0, linetype='dashed', color='red')+\n",
    "    geom_hline(yintercept = 1, linetype='dashed')+geom_hline(yintercept = log10(0.0005), linetype='dashed')+\n",
    "    scale_y_continuous(limits=c(-3.9,1.9), breaks=-3:1, labels=c(expression('10'^{-3}),expression('10'^{-2}),expression('10'^{-1}),expression('10'^{0}),expression('10'^{1})))+\n",
    "    geom_point_rast(aes(fill=paper_reactivity), position=position_dodge(.9),color='#333333', size=1.5, alpha=0.1, shape=21,show.legend = F)+\n",
    "    geom_point(data=data_summary, aes(y=log10(gmean), group=paper_reactivity), color='black', shape=21, size=2.5, position= position_dodge(0.9))+\n",
    "    geom_text(data=data_summary, aes(label=my_signif(gmean, 0.1), y=1.7, group=paper_reactivity), position= position_dodge(0.9), size=3.5)+\n",
    "    geom_text(data=data_summary, aes(label=percent, y=-3.7, group=paper_reactivity), position= position_dodge(0.9), size=3.5)+\n",
    "    scale_color_manual(values=colors)+\n",
    "    scale_fill_manual(values=colors)+\n",
    "    theme_classic()+\n",
    "theme(axis.title=element_blank(), axis.text.x=element_text(angle=45, hjust=1, vjust=1),axis.ticks.x=element_blank())\n",
    "\n",
    "print(p)\n",
    "dev.off()\n"
   ]
  },
  {
   "cell_type": "code",
   "execution_count": 7,
   "id": "44d834e8-fa47-4eb0-8541-657aa4fe0725",
   "metadata": {
    "tags": [],
    "vscode": {
     "languageId": "r"
    }
   },
   "outputs": [
    {
     "data": {
      "text/html": [
       "<strong>null device:</strong> 1"
      ],
      "text/latex": [
       "\\textbf{null device:} 1"
      ],
      "text/markdown": [
       "**null device:** 1"
      ],
      "text/plain": [
       "null device \n",
       "          1 "
      ]
     },
     "metadata": {},
     "output_type": "display_data"
    },
    {
     "data": {
      "text/html": [
       "<strong>png:</strong> 2"
      ],
      "text/latex": [
       "\\textbf{png:} 2"
      ],
      "text/markdown": [
       "**png:** 2"
      ],
      "text/plain": [
       "png \n",
       "  2 "
      ]
     },
     "metadata": {},
     "output_type": "display_data"
    }
   ],
   "source": [
    "# V5-51 color by group\n",
    "\n",
    "sources <- c('BA.5 BTI + XBB infection','BA.5 + XBB infection', \n",
    "           'XBB BTI','XBB infection', 'BA.5 BTI + HK.3 infection','BA.5 + JN.1 infection', 'BA.5 BTI + JN.1 infection')\n",
    "\n",
    "data_all <- read.csv(src, check.names = F) %>% filter(source %in% sources)\n",
    "variants <- c('D614G_IC50'='D614G', 'XBB1_5_IC50'='XBB.1.5', 'JN1_IC50'='JN.1', 'JN1_R346T_F456L_IC50'='KP.2','KP3_IC50'='KP.3')\n",
    "groups <- data_all$new_group\n",
    "names(groups) <- data_all$id\n",
    "\n",
    "dev.off()\n",
    "pdf(\"../plots/Extended/VH5-51_neut_lines.pdf\", width=5, height=2.5)\n",
    "data <- (data_all %>% filter(v_gene_H == 'IGHV5-51'))[,c('id',names(variants))]\n",
    "colors <- c(\n",
    "    \"A1\"=\"#004400\",\"A2\"=\"#237732\",\"B\"=\"#CC3119\",\n",
    "    \"D2\"=\"#33aa11\", \"D3\"=\"#99AA11\",\"D4\"=\"#80A07A\",\n",
    "    \"E1/E2.1\"=\"#664088\", \"E2.2\"='#aa1937', \n",
    "    \"E3\"=\"#5c0a02\", \n",
    "    \"F1.1\"=\"#c58233\", \"F1.2\"=\"#253257\",\n",
    "    \"F3\"=\"#7093c8\"\n",
    ")\n",
    "rownames(data) <- data$id\n",
    "data <- data[,names(variants)]\n",
    "colnames(data) <- variants[colnames(data)]\n",
    "data[data > 10] <- 10\n",
    "data[data < 0.0005] <- 0.0005\n",
    "\n",
    "data$id <- rownames(data)\n",
    "samples <- colnames(data)[1:ncol(data)]\n",
    "data <- data %>% pivot_longer(!id) %>% na.omit()\n",
    "data$name <- factor(data$name, levels=samples)\n",
    "data$new_group <- groups[data$id]\n",
    "\n",
    "p <- ggplot(data, aes(name, log10(value)))+geom_line(aes(group=id, color=new_group), alpha=0.1)+\n",
    "    geom_hline(yintercept = 0, linetype='dashed', color='red')+\n",
    "    geom_hline(yintercept = 1, linetype='dashed')+geom_hline(yintercept = log10(0.0005), linetype='dashed')+\n",
    "    scale_y_continuous(limits=c(-3.5,1.5), breaks=-3:1, labels=c(expression('10'^{-3}),expression('10'^{-2}),expression('10'^{-1}),expression('10'^{0}),expression('10'^{1})))+\n",
    "    geom_point_rast(aes(fill=new_group), color='#333333', size=2, alpha=0.1, shape=21,show.legend = F)+\n",
    "    scale_color_manual(values=colors)+\n",
    "    scale_fill_manual(values=colors)+\n",
    "    theme_classic()+ggtitle('IGHV5-51 mAbs')+\n",
    "    stat_summary(fun=mean, fun.min=mean, fun.max=mean, geom=\"errorbar\", size=0.5, width=0.3, color=\"black\", ) + labs(y = \"Pseudovirus IC50 (\\u00b5g/mL)\")+\n",
    "theme(axis.title=element_blank(), axis.text.x=element_text(angle=45, hjust=1, vjust=1), plot.title=element_text(size=11, hjust=0.4))+\n",
    "guides(color=guide_legend(title=\"epitope\", override.aes = list(size=2,alpha=1)))\n",
    "\n",
    "print(p)\n",
    "dev.off()\n"
   ]
  },
  {
   "cell_type": "code",
   "execution_count": 8,
   "id": "4d2357d6-f23e-4c85-b7be-e9ed19172042",
   "metadata": {
    "tags": [],
    "vscode": {
     "languageId": "r"
    }
   },
   "outputs": [
    {
     "data": {
      "text/html": [
       "<strong>null device:</strong> 1"
      ],
      "text/latex": [
       "\\textbf{null device:} 1"
      ],
      "text/markdown": [
       "**null device:** 1"
      ],
      "text/plain": [
       "null device \n",
       "          1 "
      ]
     },
     "metadata": {},
     "output_type": "display_data"
    },
    {
     "name": "stderr",
     "output_type": "stream",
     "text": [
      "\u001b[1m\u001b[22m`summarise()` has grouped output by 'name'. You can override using the `.groups` argument.\n"
     ]
    },
    {
     "data": {
      "text/html": [
       "<strong>png:</strong> 2"
      ],
      "text/latex": [
       "\\textbf{png:} 2"
      ],
      "text/markdown": [
       "**png:** 2"
      ],
      "text/plain": [
       "png \n",
       "  2 "
      ]
     },
     "metadata": {},
     "output_type": "display_data"
    }
   ],
   "source": [
    "# Extended IGHV3-7 A1\n",
    "\n",
    "\n",
    "data_all <- read.csv(src, check.names = F)\n",
    "variants <- c('D614G_IC50'='D614G', 'XBB1_5_IC50'='XBB.1.5', 'HK3_1_IC50'='HK.3.1', 'JN1_IC50'='JN.1',\n",
    "              'JN1_F456L_IC50'='JN.1+F456L',\n",
    "              'JN1_R346T_F456L_IC50'='KP.2','KP3_IC50'='KP.3', 'JN1_F456L_A475V_IC50'='JN.1+F456L+A475V')\n",
    "groups <- ifelse(data_all$v_gene_H == \"IGHV3-7\", \"IGHV3-7\",\"others\")\n",
    "names(groups) <- data_all$id\n",
    "\n",
    "dev.off()\n",
    "pdf(\"../plots/Extended/VH3-7-A1_neut_lines.pdf\", width=5, height=2.5)\n",
    "data <- (data_all %>% filter(source == 'BA.5 BTI + XBB infection' & new_group == \"A1\" & paper_reactivity==\"cross\"))[,c('id',names(variants))]\n",
    "colors <- c(\n",
    "    \"IGHV3-7\"= \"red\",\n",
    "    \"others\"=\"#DDDDDD\"\n",
    ")\n",
    "rownames(data) <- data$id\n",
    "data <- data[,names(variants)]\n",
    "colnames(data) <- variants[colnames(data)]\n",
    "data[data > 10] <- 10\n",
    "data[data < 0.0005] <- 0.0005\n",
    "\n",
    "data$id <- rownames(data)\n",
    "samples <- colnames(data)[1:ncol(data)]\n",
    "data <- data %>% pivot_longer(!id) %>% na.omit()\n",
    "data$name <- factor(data$name, levels=samples)\n",
    "data$new_group <- groups[data$id]\n",
    "\n",
    "data_summary <- data %>% group_by(name, new_group) %>% summarise(percent=paste0(round(100*sum(value<1)/n()), \"%\"))\n",
    "\n",
    "p <- ggplot(data, aes(name, log10(value)))+geom_line(aes(group=id, color=new_group), alpha=0.4)+\n",
    "    geom_hline(yintercept = 0, linetype='dashed', color='red')+\n",
    "    geom_hline(yintercept = 1, linetype='dashed')+geom_hline(yintercept = log10(0.0005), linetype='dashed')+\n",
    "    scale_y_continuous(limits=c(-3.5,1.5), breaks=-3:1, labels=c(expression('10'^{-3}),expression('10'^{-2}),expression('10'^{-1}),expression('10'^{0}),expression('10'^{1})))+\n",
    "    geom_point_rast(aes(fill=new_group), color='#333333', size=2, alpha=0.5, shape=21,show.legend = F)+\n",
    "    scale_color_manual(values=colors)+\n",
    "    scale_fill_manual(values=colors)+\n",
    "    geom_text(data=data_summary, aes(label=percent, color=new_group, y=1.4))+\n",
    "    theme_classic()+ggtitle('BA.5 BTI + XBB infection A1')+\n",
    "    stat_summary(fun=mean, fun.min=mean, fun.max=mean, geom=\"errorbar\", size=0.5, width=0.3, color=\"black\", ) + labs(y = \"Pseudovirus IC50 (\\u00b5g/mL)\")+\n",
    "theme(axis.title=element_blank(), axis.text.x=element_text(angle=45, hjust=1, vjust=1), plot.title=element_text(size=11, hjust=0.4))+\n",
    "guides(color=guide_legend(title=\"epitope\", override.aes = list(size=2,alpha=1)))\n",
    "\n",
    "print(p)\n",
    "dev.off()\n"
   ]
  },
  {
   "cell_type": "code",
   "execution_count": 59,
   "id": "3bc2e697-8c93-41d9-b2d4-81ac3122ee43",
   "metadata": {
    "tags": [],
    "vscode": {
     "languageId": "r"
    }
   },
   "outputs": [
    {
     "data": {
      "text/html": [
       "<strong>pdf:</strong> 3"
      ],
      "text/latex": [
       "\\textbf{pdf:} 3"
      ],
      "text/markdown": [
       "**pdf:** 3"
      ],
      "text/plain": [
       "pdf \n",
       "  3 "
      ]
     },
     "metadata": {},
     "output_type": "display_data"
    },
    {
     "name": "stderr",
     "output_type": "stream",
     "text": [
      "\u001b[1m\u001b[22m`summarise()` has grouped output by 'source'. You can override using the `.groups` argument.\n"
     ]
    },
    {
     "data": {
      "text/html": [
       "<strong>pdf:</strong> 3"
      ],
      "text/latex": [
       "\\textbf{pdf:} 3"
      ],
      "text/markdown": [
       "**pdf:** 3"
      ],
      "text/plain": [
       "pdf \n",
       "  3 "
      ]
     },
     "metadata": {},
     "output_type": "display_data"
    }
   ],
   "source": [
    "# A1 neutralization compare\n",
    "\n",
    "refine_val <- function(x) {\n",
    "    x[x > 10] <- 10\n",
    "    x[x < 0.0005] <- 0.0005\n",
    "    x\n",
    "}\n",
    "\n",
    "library(ggpubr)\n",
    "\n",
    "variants <- c('XBB1_5_IC50'='XBB.1.5', 'HK3_1_IC50'='HK.3.1', 'JN1_IC50'='JN.1',#'JN1_F456L_IC50'='JN.1+F456L','JN1_F456L_A475V_IC50'='JN.1+F456L+A475V',\n",
    "              'JN1_R346T_F456L_IC50'='KP.2', \n",
    "              'KP3_IC50'='KP.3','KP3_A475V_IC50'='KP.3+A475V')\n",
    "sources <- c('BA.5 BTI + XBB infection', 'BA.5 BTI + HK.3 infection','BA.5 BTI + JN.1 infection')\n",
    "\n",
    "data_all <- read.csv(src, check.names = F) %>% filter(source %in% sources)\n",
    "dev.off()\n",
    "pdf(\"../plots/Figure4_related/A1_neutralization_compare.pdf\", width=8.5, height=3)\n",
    "data <- data_all %>% filter(new_group == \"A1\" & source %in% sources & paper_reactivity == 'cross') %>% select(\n",
    "    c(\"source\", names(variants))\n",
    ") %>% pivot_longer(!source) %>% mutate(name = factor(variants[name], levels=variants), value = refine_val(value), source=factor(source, levels=sources))\n",
    "\n",
    "df_summary <- data %>% group_by(source, name) %>% \n",
    "    summarise(logmean=mean(log10(value)), percent=paste0(round(sum(value < 1)/n()*100), '%'))\n",
    "\n",
    "my_comp <- list(c(\"BA.5 BTI + XBB infection\", \"BA.5 BTI + JN.1 infection\"))\n",
    "# my_comp <- list(c(\"BA.5 BTI + XBB infection\", \"BA.5 BTI + HK.3 infection\"),c(\"BA.5 BTI + JN.1 infection\", \"BA.5 BTI + HK.3 infection\"), c(\"BA.5 BTI + XBB infection\", \"BA.5 BTI + JN.1 infection\"))\n",
    "\n",
    "colors <- c(\"#EE6439\", \"#60AB59\", \"#FFCF56\", '#AA2055',\"#7193E2\")\n",
    "ggplot(data, aes(source, log10(value)))+facet_wrap(~name, nrow=1)+\n",
    "    geom_hline(yintercept = 0, linetype='dashed', color='red')+\n",
    "    geom_hline(yintercept = 1, linetype='dashed')+geom_hline(yintercept = log10(0.0005), linetype='dashed')+\n",
    "    scale_y_continuous(limits=c(-3.5,4.1), breaks=-3:1, labels=c(expression('10'^{-3}),expression('10'^{-2}),expression('10'^{-1}),expression('10'^{0}),expression('10'^{1})))+\n",
    "    geom_point_rast(aes(fill=source), color='#333333', size=1.5, alpha=0.2, shape=21)+scale_fill_manual(values=colors)+theme_classic()+\n",
    "    geom_point(data=df_summary, aes(source, logmean), shape=21, size=2)+\n",
    "    geom_text(data=df_summary, aes(label=percent), y=2.3, size=3.3)+\n",
    "    geom_text(data=df_summary, aes(label=my_signif(10^logmean, 0.1)), y=1.6, size=3.3)+\n",
    "    labs(y = \"Pseudovirus IC50 (\\u00b5g/mL)\")+\n",
    "    stat_compare_means(comparisons = my_comp, label = \"p.signif\",  method = \"wilcox.test\",step.increase = 0.135, tip.length = 0, label.y = 2.5,size=3.3) +\n",
    "    # ggtitle(paste(g, '(n = ', length(unique(data$id)), ')', sep=''))+\n",
    "theme(axis.title=element_blank(), axis.text.x=element_text(angle=45, hjust=1, vjust=1),strip.background = element_blank())\n",
    "\n",
    "dev.off()\n"
   ]
  },
  {
   "cell_type": "code",
   "execution_count": 68,
   "id": "7ed8576a-01e8-41de-95e1-b155fd6e18dc",
   "metadata": {
    "tags": [],
    "vscode": {
     "languageId": "r"
    }
   },
   "outputs": [
    {
     "name": "stdout",
     "output_type": "stream",
     "text": [
      "\n",
      "\tWilcoxon signed rank exact test\n",
      "\n",
      "data:  JN1_data$JN1_IC50 and JN1_data$JN1_R346T_F456L_IC50\n",
      "V = 113, p-value = 7.936e-07\n",
      "alternative hypothesis: true location shift is not equal to 0\n",
      "\n"
     ]
    },
    {
     "name": "stderr",
     "output_type": "stream",
     "text": [
      "Warning message in wilcox.test.default(JN1_data$JN1_R346T_F456L_IC50, JN1_data$KP3_IC50, :\n",
      "“cannot compute exact p-value with ties”\n"
     ]
    },
    {
     "name": "stdout",
     "output_type": "stream",
     "text": [
      "\n",
      "\tWilcoxon signed rank test with continuity correction\n",
      "\n",
      "data:  JN1_data$JN1_R346T_F456L_IC50 and JN1_data$KP3_IC50\n",
      "V = 212, p-value = 0.0009724\n",
      "alternative hypothesis: true location shift is not equal to 0\n",
      "\n"
     ]
    },
    {
     "name": "stderr",
     "output_type": "stream",
     "text": [
      "Warning message in wilcox.test.default(JN1_data$KP3_IC50, JN1_data$KP3_A475V_IC50, :\n",
      "“cannot compute exact p-value with ties”\n"
     ]
    },
    {
     "name": "stdout",
     "output_type": "stream",
     "text": [
      "\n",
      "\tWilcoxon signed rank test with continuity correction\n",
      "\n",
      "data:  JN1_data$KP3_IC50 and JN1_data$KP3_A475V_IC50\n",
      "V = 11, p-value = 9.807e-08\n",
      "alternative hypothesis: true location shift is not equal to 0\n",
      "\n"
     ]
    }
   ],
   "source": [
    "\n",
    "JN1_data <- data_all %>% filter(new_group == \"A1\" & source == 'BA.5 BTI + JN.1 infection' & paper_reactivity == 'cross')\n",
    "print(wilcox.test(JN1_data$JN1_IC50, JN1_data$JN1_R346T_F456L_IC50, paired=T))\n",
    "print(wilcox.test(JN1_data$JN1_R346T_F456L_IC50, JN1_data$KP3_IC50, paired=T))\n",
    "print(wilcox.test(JN1_data$KP3_IC50, JN1_data$KP3_A475V_IC50, paired=T))\n"
   ]
  },
  {
   "cell_type": "code",
   "execution_count": 70,
   "id": "e873613f-c7f2-4c96-8fba-4371b22b89d3",
   "metadata": {
    "vscode": {
     "languageId": "r"
    }
   },
   "outputs": [
    {
     "data": {
      "text/html": [
       "<strong>pdf:</strong> 3"
      ],
      "text/latex": [
       "\\textbf{pdf:} 3"
      ],
      "text/markdown": [
       "**pdf:** 3"
      ],
      "text/plain": [
       "pdf \n",
       "  3 "
      ]
     },
     "metadata": {},
     "output_type": "display_data"
    },
    {
     "name": "stderr",
     "output_type": "stream",
     "text": [
      "\u001b[1m\u001b[22mScale for \u001b[32my\u001b[39m is already present.\n",
      "Adding another scale for \u001b[32my\u001b[39m, which will replace the existing scale.\n",
      "\u001b[1m\u001b[22mScale for \u001b[32my\u001b[39m is already present.\n",
      "Adding another scale for \u001b[32my\u001b[39m, which will replace the existing scale.\n",
      "\u001b[1m\u001b[22mScale for \u001b[32my\u001b[39m is already present.\n",
      "Adding another scale for \u001b[32my\u001b[39m, which will replace the existing scale.\n",
      "\u001b[1m\u001b[22mScale for \u001b[32my\u001b[39m is already present.\n",
      "Adding another scale for \u001b[32my\u001b[39m, which will replace the existing scale.\n",
      "\u001b[1m\u001b[22mScale for \u001b[32my\u001b[39m is already present.\n",
      "Adding another scale for \u001b[32my\u001b[39m, which will replace the existing scale.\n",
      "\u001b[1m\u001b[22mScale for \u001b[32my\u001b[39m is already present.\n",
      "Adding another scale for \u001b[32my\u001b[39m, which will replace the existing scale.\n"
     ]
    }
   ],
   "source": [
    "library(ggplot2)\n",
    "library(tidyverse)\n",
    "library(circlize)\n",
    "library(ggrastr)\n",
    "\n",
    "src <- \"../data/DMS/antibody/_clustering.csv\"\n",
    "ref_FC <- 'JN.1'\n",
    "\n",
    "sources <- c('BA.5 BTI + XBB infection','BA.5 + XBB infection', \n",
    "           'XBB BTI','XBB infection', 'BA.5 BTI + HK.3 infection','BA.5 + JN.1 infection', 'BA.5 BTI + JN.1 infection')\n",
    "\n",
    "data_all <- read.csv(src, check.names = F) %>% filter(source %in% sources)\n",
    "# generate line plots of mAbs against variants, grouped by source and group\n",
    "dev.off()\n",
    "groups <- c(\"A1\")\n",
    "\n",
    "variants <- c('D614G_IC50'='D614G', 'BA1_IC50'='BA.1', 'BA2_IC50'='BA.2','BA5_IC50'='BA.5',\n",
    "              'XBB1_5_IC50'='XBB.1.5', 'HK3_1_IC50'='HK.3.1', 'JN1_IC50'='JN.1','JN1_F456L_IC50'='JN.1+F456L', \n",
    "              'JN1_R346T_F456L_IC50'='KP.2',\n",
    "              'KP3_IC50'='KP.3','JN1_F456L_A475V_IC50'='JN.1+F456L+A475V','KP3_A475V_IC50'='KP.3+A475V')\n",
    "\n",
    "for (use_src in sources){\n",
    "    pdf(paste0(\"../plots/Figure4_related/neut_lines/\",use_src, \"_group_lines.pdf\"), width=4.8, height=3)\n",
    "\n",
    "    for (g in groups) {\n",
    "        cR <- colorRamp2(c(1,4,8,14),c(\"#D7301F\", \"#08519C\", \"#5AA1CE\", \"#99C5DF\"))\n",
    "        colors <- cR(1:length(variants))\n",
    "        data <- (data_all %>% filter(new_group == g & source == use_src & paper_reactivity == 'cross'))[,names(variants)] %>% na.omit()\n",
    "        if (nrow(data) == 0) next\n",
    "        \n",
    "        p <- get_lineplot(data, ref_FC, colors, full=T) + ggtitle(paste0(use_src, ' WT-reactive ', g))\n",
    "        print(p)\n",
    "    }\n",
    "dev.off()\n",
    "}"
   ]
  },
  {
   "cell_type": "code",
   "execution_count": 11,
   "id": "6ad939ad-449a-4fb9-9801-5573bd19a3fa",
   "metadata": {
    "tags": [],
    "vscode": {
     "languageId": "r"
    }
   },
   "outputs": [
    {
     "data": {
      "text/html": [
       "<strong>null device:</strong> 1"
      ],
      "text/latex": [
       "\\textbf{null device:} 1"
      ],
      "text/markdown": [
       "**null device:** 1"
      ],
      "text/plain": [
       "null device \n",
       "          1 "
      ]
     },
     "metadata": {},
     "output_type": "display_data"
    },
    {
     "name": "stderr",
     "output_type": "stream",
     "text": [
      "\u001b[1m\u001b[22mScale for \u001b[32my\u001b[39m is already present.\n",
      "Adding another scale for \u001b[32my\u001b[39m, which will replace the existing scale.\n",
      "\u001b[1m\u001b[22mScale for \u001b[32my\u001b[39m is already present.\n",
      "Adding another scale for \u001b[32my\u001b[39m, which will replace the existing scale.\n",
      "\u001b[1m\u001b[22mScale for \u001b[32my\u001b[39m is already present.\n",
      "Adding another scale for \u001b[32my\u001b[39m, which will replace the existing scale.\n",
      "\u001b[1m\u001b[22mScale for \u001b[32my\u001b[39m is already present.\n",
      "Adding another scale for \u001b[32my\u001b[39m, which will replace the existing scale.\n",
      "\u001b[1m\u001b[22mScale for \u001b[32my\u001b[39m is already present.\n",
      "Adding another scale for \u001b[32my\u001b[39m, which will replace the existing scale.\n",
      "\u001b[1m\u001b[22mScale for \u001b[32my\u001b[39m is already present.\n",
      "Adding another scale for \u001b[32my\u001b[39m, which will replace the existing scale.\n",
      "\u001b[1m\u001b[22mScale for \u001b[32my\u001b[39m is already present.\n",
      "Adding another scale for \u001b[32my\u001b[39m, which will replace the existing scale.\n"
     ]
    }
   ],
   "source": [
    "library(ggplot2)\n",
    "library(tidyverse)\n",
    "library(circlize)\n",
    "library(ggrastr)\n",
    "\n",
    "src <- \"../data/DMS/antibody/_clustering.csv\"\n",
    "ref_FC <- 'JN.1'\n",
    "\n",
    "sources <- c('BA.5 BTI + XBB infection','BA.5 + XBB infection', \n",
    "           'XBB BTI','XBB infection', 'BA.5 BTI + HK.3 infection','BA.5 + JN.1 infection', 'BA.5 BTI + JN.1 infection')\n",
    "\n",
    "data_all <- read.csv(src, check.names = F) %>% filter(source %in% sources)\n",
    "# generate line plots of mAbs against variants, grouped by source and group\n",
    "dev.off()\n",
    "groups <- c(\"F3\")\n",
    "\n",
    "variants <- c('D614G_IC50'='D614G', 'XBB1_5_IC50'='XBB.1.5', 'HK3_1_IC50'='HK.3.1', 'JN1_IC50'='JN.1',\n",
    "              'JN1_R346T_F456L_IC50'='KP.2',\n",
    "              'KP3_IC50'='KP.3')\n",
    "\n",
    "for (use_src in sources){\n",
    "    pdf(paste0(\"../plots/Figure5_related/neut_lines/\",use_src, \"_group_lines_F3.pdf\"), width=3, height=2.5)\n",
    "\n",
    "    for (g in groups) {\n",
    "        cR <- colorRamp2(c(1,4,8,14),c(\"#D7301F\", \"#08519C\", \"#5AA1CE\", \"#99C5DF\"))\n",
    "        colors <- cR(1:length(variants))\n",
    "        data <- (data_all %>% filter(new_group == g & source == use_src))[,names(variants)] %>% na.omit()\n",
    "        if (nrow(data) == 0) next\n",
    "        \n",
    "        p <- get_lineplot(data, ref_FC, colors, full=T)\n",
    "        print(p)\n",
    "    }\n",
    "dev.off()\n",
    "}"
   ]
  },
  {
   "cell_type": "code",
   "execution_count": 12,
   "id": "044ff542-b91f-433a-8711-98be031e0f91",
   "metadata": {
    "tags": [],
    "vscode": {
     "languageId": "r"
    }
   },
   "outputs": [
    {
     "data": {
      "text/html": [
       "<strong>null device:</strong> 1"
      ],
      "text/latex": [
       "\\textbf{null device:} 1"
      ],
      "text/markdown": [
       "**null device:** 1"
      ],
      "text/plain": [
       "null device \n",
       "          1 "
      ]
     },
     "metadata": {},
     "output_type": "display_data"
    },
    {
     "name": "stderr",
     "output_type": "stream",
     "text": [
      "\u001b[1m\u001b[22mScale for \u001b[32my\u001b[39m is already present.\n",
      "Adding another scale for \u001b[32my\u001b[39m, which will replace the existing scale.\n",
      "\u001b[1m\u001b[22mScale for \u001b[32my\u001b[39m is already present.\n",
      "Adding another scale for \u001b[32my\u001b[39m, which will replace the existing scale.\n",
      "\u001b[1m\u001b[22mScale for \u001b[32my\u001b[39m is already present.\n",
      "Adding another scale for \u001b[32my\u001b[39m, which will replace the existing scale.\n",
      "\u001b[1m\u001b[22mScale for \u001b[32my\u001b[39m is already present.\n",
      "Adding another scale for \u001b[32my\u001b[39m, which will replace the existing scale.\n",
      "\u001b[1m\u001b[22mScale for \u001b[32my\u001b[39m is already present.\n",
      "Adding another scale for \u001b[32my\u001b[39m, which will replace the existing scale.\n",
      "\u001b[1m\u001b[22mScale for \u001b[32my\u001b[39m is already present.\n",
      "Adding another scale for \u001b[32my\u001b[39m, which will replace the existing scale.\n",
      "\u001b[1m\u001b[22mScale for \u001b[32my\u001b[39m is already present.\n",
      "Adding another scale for \u001b[32my\u001b[39m, which will replace the existing scale.\n",
      "\u001b[1m\u001b[22mScale for \u001b[32my\u001b[39m is already present.\n",
      "Adding another scale for \u001b[32my\u001b[39m, which will replace the existing scale.\n",
      "\u001b[1m\u001b[22mScale for \u001b[32my\u001b[39m is already present.\n",
      "Adding another scale for \u001b[32my\u001b[39m, which will replace the existing scale.\n",
      "\u001b[1m\u001b[22mScale for \u001b[32my\u001b[39m is already present.\n",
      "Adding another scale for \u001b[32my\u001b[39m, which will replace the existing scale.\n",
      "\u001b[1m\u001b[22mScale for \u001b[32my\u001b[39m is already present.\n",
      "Adding another scale for \u001b[32my\u001b[39m, which will replace the existing scale.\n",
      "\u001b[1m\u001b[22mScale for \u001b[32my\u001b[39m is already present.\n",
      "Adding another scale for \u001b[32my\u001b[39m, which will replace the existing scale.\n"
     ]
    }
   ],
   "source": [
    "library(ggplot2)\n",
    "library(tidyverse)\n",
    "library(circlize)\n",
    "library(ggrastr)\n",
    "\n",
    "src <- \"../data/DMS/antibody/_clustering.csv\"\n",
    "ref_FC <- 'JN.1'\n",
    "\n",
    "sources <- c('BA.5 BTI + XBB infection','BA.5 BTI + HK.3 infection','BA.5 BTI + JN.1 infection')\n",
    "\n",
    "data_all <- read.csv(src, check.names = F) %>% filter(source %in% sources)\n",
    "# generate line plots of mAbs against variants, grouped by source and group\n",
    "dev.off()\n",
    "groups <- c(\"A1\", \"A2\", \"B\", \"D3\")\n",
    "\n",
    "variants <- c('JN1_IC50'='JN.1',\n",
    "              'JN1_R346T_F456L_IC50'='KP.2',\n",
    "              'KP3_IC50'='KP.3')\n",
    "\n",
    "for (use_src in sources){\n",
    "    pdf(paste0(\"../plots/Figure4_related/neut_lines/\",use_src, \"_group_lines_few_strains.pdf\"), width=2, height=2)\n",
    "\n",
    "    for (g in groups) {\n",
    "        cR <- colorRamp2(c(1,4,8,14),c(\"#D7301F\", \"#08519C\", \"#5AA1CE\", \"#99C5DF\"))\n",
    "        colors <- cR(1:length(variants))\n",
    "        data <- (data_all %>% filter(new_group == g & source == use_src))[,names(variants)] %>% na.omit()\n",
    "        if (nrow(data) == 0) next\n",
    "        \n",
    "        p <- get_lineplot(data, ref_FC, colors, full=T)\n",
    "        print(p)\n",
    "    }\n",
    "dev.off()\n",
    "}"
   ]
  },
  {
   "cell_type": "code",
   "execution_count": 13,
   "id": "53cb4495-66c6-4d9a-98d1-ae8615ccb3f4",
   "metadata": {
    "tags": [],
    "vscode": {
     "languageId": "r"
    }
   },
   "outputs": [
    {
     "data": {
      "text/html": [
       "<strong>null device:</strong> 1"
      ],
      "text/latex": [
       "\\textbf{null device:} 1"
      ],
      "text/markdown": [
       "**null device:** 1"
      ],
      "text/plain": [
       "null device \n",
       "          1 "
      ]
     },
     "metadata": {},
     "output_type": "display_data"
    },
    {
     "name": "stderr",
     "output_type": "stream",
     "text": [
      "\u001b[1m\u001b[22mScale for \u001b[32my\u001b[39m is already present.\n",
      "Adding another scale for \u001b[32my\u001b[39m, which will replace the existing scale.\n",
      "\u001b[1m\u001b[22mScale for \u001b[32my\u001b[39m is already present.\n",
      "Adding another scale for \u001b[32my\u001b[39m, which will replace the existing scale.\n"
     ]
    },
    {
     "data": {
      "text/html": [
       "<strong>png:</strong> 2"
      ],
      "text/latex": [
       "\\textbf{png:} 2"
      ],
      "text/markdown": [
       "**png:** 2"
      ],
      "text/plain": [
       "png \n",
       "  2 "
      ]
     },
     "metadata": {},
     "output_type": "display_data"
    }
   ],
   "source": [
    "# cross B/D3 line\n",
    "library(ggplot2)\n",
    "library(tidyverse)\n",
    "library(circlize)\n",
    "library(ggrastr)\n",
    "\n",
    "src <- \"../data/DMS/antibody/_clustering.csv\"\n",
    "ref_FC <- 'BA.5'\n",
    "\n",
    "sources <- c('BA.5 BTI + XBB infection','BA.5 BTI + HK.3 infection','BA.5 BTI + JN.1 infection')\n",
    "data_all <- read.csv(src, check.names = F) %>% filter(source %in% sources)\n",
    "# generate line plots of mAbs against variants, grouped by source and group\n",
    "dev.off()\n",
    "groups <- c(\"D3\", \"B\")\n",
    "\n",
    "variants <- c('D614G_IC50'='D614G', 'BA5_IC50'='BA.5',\n",
    "              'XBB1_5_IC50'='XBB.1.5',  'JN1_IC50'='JN.1')\n",
    "\n",
    "pdf(paste0(\"../plots/Figure4_related/WT_B_D3_neut_lines.pdf\"), width=2, height=2.5)\n",
    "\n",
    "for (g in groups) {\n",
    "    cR <- colorRamp2(c(1,4,8,14),c(\"#D7301F\", \"#08519C\", \"#5AA1CE\", \"#99C5DF\"))\n",
    "    colors <- cR(1:length(variants))\n",
    "    data <- (data_all %>% filter(new_group == g & paper_reactivity == \"cross\"))[,names(variants)] %>% na.omit()\n",
    "    if (nrow(data) == 0) next\n",
    "\n",
    "    p <- get_lineplot(data, ref_FC, colors, full=T)\n",
    "    print(p)\n",
    "}\n",
    "dev.off()\n"
   ]
  },
  {
   "cell_type": "code",
   "execution_count": 14,
   "id": "85979290-3641-41b0-ac7a-28f5036993fd",
   "metadata": {
    "tags": [],
    "vscode": {
     "languageId": "r"
    }
   },
   "outputs": [
    {
     "data": {
      "text/html": [
       "<strong>null device:</strong> 1"
      ],
      "text/latex": [
       "\\textbf{null device:} 1"
      ],
      "text/markdown": [
       "**null device:** 1"
      ],
      "text/plain": [
       "null device \n",
       "          1 "
      ]
     },
     "metadata": {},
     "output_type": "display_data"
    },
    {
     "name": "stderr",
     "output_type": "stream",
     "text": [
      "\u001b[1m\u001b[22mScale for \u001b[32my\u001b[39m is already present.\n",
      "Adding another scale for \u001b[32my\u001b[39m, which will replace the existing scale.\n",
      "\u001b[1m\u001b[22mScale for \u001b[32my\u001b[39m is already present.\n",
      "Adding another scale for \u001b[32my\u001b[39m, which will replace the existing scale.\n",
      "\u001b[1m\u001b[22mScale for \u001b[32my\u001b[39m is already present.\n",
      "Adding another scale for \u001b[32my\u001b[39m, which will replace the existing scale.\n"
     ]
    },
    {
     "data": {
      "text/html": [
       "<strong>png:</strong> 2"
      ],
      "text/latex": [
       "\\textbf{png:} 2"
      ],
      "text/markdown": [
       "**png:** 2"
      ],
      "text/plain": [
       "png \n",
       "  2 "
      ]
     },
     "metadata": {},
     "output_type": "display_data"
    }
   ],
   "source": [
    "# B specific line\n",
    "library(ggplot2)\n",
    "library(tidyverse)\n",
    "library(circlize)\n",
    "library(ggrastr)\n",
    "\n",
    "src <- \"../data/DMS/antibody/_clustering.csv\"\n",
    "ref_FC <- 'JN.1'\n",
    "\n",
    "sources <- c('BA.5 BTI + XBB infection','BA.5 BTI + HK.3 infection','BA.5 BTI + JN.1 infection')\n",
    "data_all <- read.csv(src, check.names = F) %>% filter(source %in% sources)\n",
    "# generate line plots of mAbs against variants, grouped by source and group\n",
    "dev.off()\n",
    "groups <- c(\"A2\", \"B\",\"D3\")\n",
    "\n",
    "variants <- c('D614G_IC50'='D614G', 'BA1_IC50'='BA.1', 'BA2_IC50'='BA.2', 'BA5_IC50'='BA.5',\n",
    "              'XBB1_5_IC50'='XBB.1.5',  'JN1_IC50'='JN.1',\n",
    "              'JN1_R346T_F456L_IC50'='KP.2',\n",
    "              'KP3_IC50'='KP.3')\n",
    "\n",
    "pdf(paste0(\"../plots/Figure5_related/B_early_variants_group_lines.pdf\"), width=3.5, height=2.5)\n",
    "\n",
    "for (g in groups) {\n",
    "    cR <- colorRamp2(c(1,4,8,14),c(\"#D7301F\", \"#08519C\", \"#5AA1CE\", \"#99C5DF\"))\n",
    "    colors <- cR(1:length(variants))\n",
    "    data <- (data_all %>% filter(new_group == g & paper_reactivity == \"specific\"))[,names(variants)] %>% na.omit()\n",
    "    if (nrow(data) == 0) next\n",
    "\n",
    "    p <- get_lineplot(data, ref_FC, colors, full=T)\n",
    "    print(p)\n",
    "}\n",
    "dev.off()\n"
   ]
  },
  {
   "cell_type": "code",
   "execution_count": 73,
   "id": "370ac417-a86c-44e4-9b93-a2799fdb0434",
   "metadata": {
    "tags": [],
    "vscode": {
     "languageId": "r"
    }
   },
   "outputs": [
    {
     "data": {
      "text/html": [
       "<strong>pdf:</strong> 3"
      ],
      "text/latex": [
       "\\textbf{pdf:} 3"
      ],
      "text/markdown": [
       "**pdf:** 3"
      ],
      "text/plain": [
       "pdf \n",
       "  3 "
      ]
     },
     "metadata": {},
     "output_type": "display_data"
    },
    {
     "name": "stderr",
     "output_type": "stream",
     "text": [
      "\u001b[1m\u001b[22m`summarise()` has grouped output by 'source'. You can override using the `.groups` argument.\n"
     ]
    },
    {
     "data": {
      "text/html": [
       "<strong>pdf:</strong> 3"
      ],
      "text/latex": [
       "\\textbf{pdf:} 3"
      ],
      "text/markdown": [
       "**pdf:** 3"
      ],
      "text/plain": [
       "pdf \n",
       "  3 "
      ]
     },
     "metadata": {},
     "output_type": "display_data"
    },
    {
     "name": "stderr",
     "output_type": "stream",
     "text": [
      "\u001b[1m\u001b[22m`summarise()` has grouped output by 'source'. You can override using the `.groups` argument.\n"
     ]
    }
   ],
   "source": [
    "# Fig 3 all cross neutralization compare\n",
    "\n",
    "refine_val <- function(x) {\n",
    "    x[x > 10] <- 10\n",
    "    x[x < 0.0005] <- 0.0005\n",
    "    x\n",
    "}\n",
    "\n",
    "library(ggpubr)\n",
    "\n",
    "variants <- c('JN1_IC50'='JN.1',#'XBB1_5_IC50'='XBB.1.5', 'HK3_1_IC50'='HK.3.1', 'JN1_F456L_IC50'='JN.1+F456L', \n",
    "              'JN1_R346T_F456L_IC50'='KP.2', 'KP3_IC50'='KP.3')\n",
    "sources <- c('BA.5 BTI + XBB infection', 'BA.5 BTI + HK.3 infection','BA.5 BTI + JN.1 infection')\n",
    "data_all <- read.csv(src, check.names = F) %>% filter(source %in% sources)\n",
    "\n",
    "dev.off()\n",
    "\n",
    "pdf(paste0(\"../plots/Figure4_related/all_cross_neutralization_compare.pdf\"), width=6, height=3.2)\n",
    "data <- data_all %>% filter(source %in% sources & paper_reactivity == 'cross') %>% select(\n",
    "    c(\"source\", names(variants))\n",
    ") %>% pivot_longer(!source) %>% mutate(name = factor(variants[name], levels=variants), value = refine_val(value), source=factor(source, levels=sources))\n",
    "\n",
    "df_summary <- data %>% group_by(source, name) %>% summarise(logmean=mean(log10(value)), percent=paste0(round(sum(value < 1)/n()*100), '%'))\n",
    "\n",
    "my_comp <- list(c(\"BA.5 BTI + XBB infection\", \"BA.5 BTI + JN.1 infection\"))\n",
    "colors <- c(\"#EE6439\", \"#60AB59\", \"#FFCF56\", '#AA2055',\"#7193E2\")\n",
    "p <- ggplot(data, aes(source, log10(value)))+facet_wrap(~name, nrow=1)+\n",
    "    geom_hline(yintercept = 0, linetype='dashed', color='red')+\n",
    "    geom_hline(yintercept = 1, linetype='dashed')+geom_hline(yintercept = log10(0.0005), linetype='dashed')+\n",
    "    scale_y_continuous(limits=c(-3.5,4.2), breaks=-3:1, labels=c(expression('10'^{-3}),expression('10'^{-2}),expression('10'^{-1}),expression('10'^{0}),expression('10'^{1})))+\n",
    "    geom_point_rast(aes(fill=source), color='#333333', size=1.5, alpha=0.2, shape=21)+scale_fill_manual(values=colors)+theme_classic()+\n",
    "    geom_point(data=df_summary, aes(source, logmean), shape=21, size=2)+\n",
    "    geom_text(data=df_summary, aes(label=percent), y=1.75, size=3.3)+\n",
    "        geom_text(data=df_summary, aes(label=round(10^logmean,2)), y=2.5, size=3.3)+\n",
    "        stat_compare_means(comparisons = my_comp, label = \"p.signif\",  method = \"wilcox.test\",step.increase = 0.18, tip.length = 0, label.y = 2.7,size=3.3) +\n",
    "    ggtitle('all cross')+\n",
    "theme(axis.title=element_blank(), axis.text.x=element_text(angle=45, hjust=1, vjust=1),strip.background = element_blank())\n",
    "print(p)\n",
    "dev.off()\n",
    "\n",
    "pdf(paste0(\"../plots/Figure5_related/all_specific_neutralization_compare.pdf\"), width=6, height=3.2)\n",
    "data <- data_all %>% filter(source %in% sources & paper_reactivity == 'specific') %>% select(\n",
    "    c(\"source\", names(variants))\n",
    ") %>% pivot_longer(!source) %>% mutate(name = factor(variants[name], levels=variants), value = refine_val(value), source=factor(source, levels=sources))\n",
    "\n",
    "df_summary <- data %>% group_by(source, name) %>% summarise(logmean=mean(log10(value)), percent=paste0(round(sum(value < 1)/n()*100), '%'))\n",
    "\n",
    "my_comp <- list(c(\"BA.5 BTI + XBB infection\", \"BA.5 BTI + JN.1 infection\"))\n",
    "colors <- c(\"#EE6439\", \"#60AB59\", \"#FFCF56\", '#AA2055',\"#7193E2\")\n",
    "p <- ggplot(data, aes(source, log10(value)))+facet_wrap(~name, nrow=1)+\n",
    "    geom_hline(yintercept = 0, linetype='dashed', color='red')+\n",
    "    geom_hline(yintercept = 1, linetype='dashed')+geom_hline(yintercept = log10(0.0005), linetype='dashed')+\n",
    "    scale_y_continuous(limits=c(-3.5,4.2), breaks=-3:1, labels=c(expression('10'^{-3}),expression('10'^{-2}),expression('10'^{-1}),expression('10'^{0}),expression('10'^{1})))+\n",
    "    geom_point_rast(aes(fill=source), color='#333333', size=1.5, alpha=0.2, shape=21)+scale_fill_manual(values=colors)+theme_classic()+\n",
    "    geom_point(data=df_summary, aes(source, logmean), shape=21, size=2)+\n",
    "    geom_text(data=df_summary, aes(label=percent), y=1.75, size=3.3)+\n",
    "        geom_text(data=df_summary, aes(label=my_signif(10^logmean,0.1)), y=2.5, size=3.3)+\n",
    "        stat_compare_means(comparisons = my_comp, label = \"p.signif\",  method = \"wilcox.test\",step.increase = 0.18, tip.length = 0, label.y = 2.7,size=3.3) +\n",
    "    ggtitle('all specific')+\n",
    "theme(axis.title=element_blank(), axis.text.x=element_text(angle=45, hjust=1, vjust=1),strip.background = element_blank())\n",
    "print(p)"
   ]
  },
  {
   "cell_type": "code",
   "execution_count": 16,
   "id": "fe86b5b2-620a-48b1-84d5-2e500a73f6dd",
   "metadata": {
    "tags": [],
    "vscode": {
     "languageId": "r"
    }
   },
   "outputs": [
    {
     "data": {
      "text/html": [
       "<strong>pdf:</strong> 3"
      ],
      "text/latex": [
       "\\textbf{pdf:} 3"
      ],
      "text/markdown": [
       "**pdf:** 3"
      ],
      "text/plain": [
       "pdf \n",
       "  3 "
      ]
     },
     "metadata": {},
     "output_type": "display_data"
    },
    {
     "name": "stderr",
     "output_type": "stream",
     "text": [
      "\u001b[1m\u001b[22m`summarise()` has grouped output by 'source'. You can override using the `.groups` argument.\n",
      "Warning message in wilcox.test.default(c(-1.19997064075587, 1, 1, -3.09124698081547:\n",
      "“cannot compute exact p-value with ties”\n",
      "Warning message in wilcox.test.default(c(-1.19997064075587, 1, 1, -3.09124698081547:\n",
      "“cannot compute exact p-value with ties”\n",
      "Warning message in wilcox.test.default(c(1, 1, 1, -2.81163407393685), c(-1.00187149287173, :\n",
      "“cannot compute exact p-value with ties”\n",
      "Warning message in wilcox.test.default(c(1, 1, 1, -2.81163407393685), c(-2.53061986415007, :\n",
      "“cannot compute exact p-value with ties”\n",
      "Warning message in wilcox.test.default(c(1, 1, 1, -2.55144826079842), c(-2.60572347323218, :\n",
      "“cannot compute exact p-value with ties”\n",
      "Warning message in wilcox.test.default(c(1, 1, 1, -2.55144826079842), c(-2.80994858224079, :\n",
      "“cannot compute exact p-value with ties”\n",
      "Warning message in wilcox.test.default(c(-2.80994858224079, 1), c(-2.60572347323218, :\n",
      "“cannot compute exact p-value with ties”\n",
      "Warning message:\n",
      "“\u001b[1m\u001b[22mRemoved 15 rows containing missing values or values outside the scale range (`geom_signif()`).”\n",
      "\u001b[1m\u001b[22m`summarise()` has grouped output by 'source'. You can override using the `.groups` argument.\n",
      "Warning message in wilcox.test.default(c(-1.42573717029297, -1.99396204500268, -1.54515513999149, :\n",
      "“cannot compute exact p-value with ties”\n",
      "Warning message in wilcox.test.default(c(-2.04880824206529, -2.24481141439168, -2.77572598570574, :\n",
      "“cannot compute exact p-value with ties”\n",
      "Warning message in wilcox.test.default(c(-1.25289906863501, -1.49227902331439, 1, :\n",
      "“cannot compute exact p-value with ties”\n",
      "Warning message in wilcox.test.default(c(-1.25289906863501, -1.49227902331439, 1, :\n",
      "“cannot compute exact p-value with ties”\n",
      "Warning message in wilcox.test.default(c(1, 1, 1, -0.879097182385473, -1.84103473961659, :\n",
      "“cannot compute exact p-value with ties”\n",
      "Warning message in wilcox.test.default(c(1, 1, 1, -0.879097182385473, -1.84103473961659, :\n",
      "“cannot compute exact p-value with ties”\n",
      "Warning message in wilcox.test.default(c(-1.37530546872792, -1.77288491741087, 1, :\n",
      "“cannot compute exact p-value with ties”\n",
      "Warning message in wilcox.test.default(c(-1.37530546872792, -1.77288491741087, 1, :\n",
      "“cannot compute exact p-value with ties”\n",
      "Warning message:\n",
      "“\u001b[1m\u001b[22mRemoved 15 rows containing missing values or values outside the scale range (`geom_signif()`).”\n"
     ]
    }
   ],
   "source": [
    "# Fig 3 B/D3 neutralization compare\n",
    "\n",
    "refine_val <- function(x) {\n",
    "    x[x > 10] <- 10\n",
    "    x[x < 0.0005] <- 0.0005\n",
    "    x\n",
    "}\n",
    "\n",
    "library(ggpubr)\n",
    "\n",
    "variants <- c('XBB1_5_IC50'='XBB.1.5', 'HK3_1_IC50'='HK.3.1', 'JN1_IC50'='JN.1',#'JN1_F456L_IC50'='JN.1+F456L', \n",
    "              'JN1_R346T_F456L_IC50'='KP.2', 'KP3_IC50'='KP.3')\n",
    "sources <- c('BA.5 BTI + XBB infection', 'BA.5 BTI + HK.3 infection','BA.5 BTI + JN.1 infection')\n",
    "data_all <- read.csv(src, check.names = F) %>% filter(source %in% sources)\n",
    "\n",
    "dev.off()\n",
    "\n",
    "for (g in c(\"B\", \"D3\")){\n",
    "    pdf(paste0(\"../plots/Figure4_related/\",g,\"_neutralization_compare.pdf\"), width=7.5, height=3.2)\n",
    "    data <- data_all %>% filter(new_group == g & source %in% sources & paper_reactivity == 'cross') %>% select(\n",
    "        c(\"source\", names(variants))\n",
    "    ) %>% pivot_longer(!source) %>% mutate(name = factor(variants[name], levels=variants), value = refine_val(value), source=factor(source, levels=sources))\n",
    "\n",
    "    df_summary <- data %>% group_by(source, name) %>% summarise(logmean=mean(log10(value)), percent=paste0(round(sum(value < 1)/n()*100), '%'))\n",
    "\n",
    "    my_comp <- list(c(\"BA.5 BTI + XBB infection\", \"BA.5 BTI + HK.3 infection\"),c(\"BA.5 BTI + JN.1 infection\", \"BA.5 BTI + HK.3 infection\"), c(\"BA.5 BTI + XBB infection\", \"BA.5 BTI + JN.1 infection\"))\n",
    "\n",
    "    colors <- c(\"#EE6439\", \"#60AB59\", \"#FFCF56\", '#AA2055',\"#7193E2\")\n",
    "    p <- ggplot(data, aes(source, log10(value)))+facet_wrap(~name, nrow=1)+\n",
    "        geom_hline(yintercept = 0, linetype='dashed', color='red')+\n",
    "        geom_hline(yintercept = 1, linetype='dashed')+geom_hline(yintercept = log10(0.0005), linetype='dashed')+\n",
    "        scale_y_continuous(limits=c(-3.5,4.2), breaks=-3:1, labels=c(expression('10'^{-3}),expression('10'^{-2}),expression('10'^{-1}),expression('10'^{0}),expression('10'^{1})))+\n",
    "        geom_point_rast(aes(fill=source), color='#333333', size=1.5, alpha=0.2, shape=21)+scale_fill_manual(values=colors)+theme_classic()+\n",
    "        geom_point(data=df_summary, aes(source, logmean), shape=21, size=2)+\n",
    "        geom_text(data=df_summary, aes(label=percent), y=1.75, size=3.3)+\n",
    "        geom_text(data=df_summary, aes(label=round(10^logmean,2)), y=2.5, size=3.3)+\n",
    "        stat_compare_means(comparisons = my_comp, label = \"p.signif\",  method = \"wilcox.test\",step.increase = 0.18, tip.length = 0, label.y = 2.7,size=3.3) +\n",
    "        ggtitle(paste0(g, ' cross'))+\n",
    "    theme(axis.title=element_blank(), axis.text.x=element_text(angle=45, hjust=1, vjust=1),strip.background = element_blank())\n",
    "    print(p)\n",
    "    dev.off()\n",
    "}"
   ]
  },
  {
   "cell_type": "code",
   "execution_count": 74,
   "id": "37598f4a-4999-4a41-af91-6906c97a498c",
   "metadata": {
    "tags": [],
    "vscode": {
     "languageId": "r"
    }
   },
   "outputs": [
    {
     "data": {
      "text/html": [
       "<strong>pdf:</strong> 3"
      ],
      "text/latex": [
       "\\textbf{pdf:} 3"
      ],
      "text/markdown": [
       "**pdf:** 3"
      ],
      "text/plain": [
       "pdf \n",
       "  3 "
      ]
     },
     "metadata": {},
     "output_type": "display_data"
    },
    {
     "name": "stderr",
     "output_type": "stream",
     "text": [
      "\u001b[1m\u001b[22m`summarise()` has grouped output by 'source'. You can override using the `.groups` argument.\n",
      "Warning message in wilcox.test.default(c(-2.65836766422195, -1.65619766683834, -0.520424689825012, :\n",
      "“cannot compute exact p-value with ties”\n",
      "Warning message in wilcox.test.default(c(-1.97922451180644, 1, 1, -2.08312512146132, :\n",
      "“cannot compute exact p-value with ties”\n",
      "Warning message in wilcox.test.default(c(1, -1.4071573168689, -1.04754660357697, :\n",
      "“cannot compute exact p-value with ties”\n",
      "Warning message in wilcox.test.default(c(1, -0.563837352959244, -0.988006885340743, :\n",
      "“cannot compute exact p-value with ties”\n",
      "Warning message in wilcox.test.default(c(1, 1, -0.888737486340935, -2.68994426224911, :\n",
      "“cannot compute exact p-value with ties”\n",
      "Warning message in wilcox.test.default(c(1, 1, 0.232538717530599, -2.21509755011335, :\n",
      "“cannot compute exact p-value with ties”\n",
      "\u001b[1m\u001b[22m`summarise()` has grouped output by 'source'. You can override using the `.groups` argument.\n",
      "Warning message in wilcox.test.default(c(-1.81022904365313, -1.70907544061725, -2.04325545471731, :\n",
      "“cannot compute exact p-value with ties”\n",
      "Warning message in wilcox.test.default(c(-1.82217502813532, -1.50835820652241, -2.14874165128092, :\n",
      "“cannot compute exact p-value with ties”\n",
      "Warning message in wilcox.test.default(c(-1.74714696902011, -0.794524963259109, :\n",
      "“cannot compute exact p-value with ties”\n",
      "Warning message in wilcox.test.default(c(-1.47082639673828, -0.727230413448241, :\n",
      "“cannot compute exact p-value with ties”\n",
      "Warning message in wilcox.test.default(c(-1.95194682688439, -1.01148563416633, -1.25018641470706, :\n",
      "“cannot compute exact p-value with ties”\n",
      "Warning message in wilcox.test.default(c(-1.78146449478347, -1.02890978686288, -1.51999305704285, :\n",
      "“cannot compute exact p-value with ties”\n",
      "\u001b[1m\u001b[22m`summarise()` has grouped output by 'source'. You can override using the `.groups` argument.\n"
     ]
    }
   ],
   "source": [
    "# Fig 4 B/D3/F3 neutralization compare\n",
    "\n",
    "refine_val <- function(x) {\n",
    "    x[x > 10] <- 10\n",
    "    x[x < 0.0005] <- 0.0005\n",
    "    x\n",
    "}\n",
    "\n",
    "library(ggpubr)\n",
    "\n",
    "variants <- c('XBB1_5_IC50'='XBB.1.5', 'HK3_1_IC50'='HK.3.1', 'JN1_IC50'='JN.1',#'JN1_F456L_IC50'='JN.1+F456L', 'JN1_F456L_A475V_IC50'='JN.1+F456L+A475V'\n",
    "              'JN1_R346T_F456L_IC50'='KP.2', 'KP3_IC50'='KP.3','KP3_A475V_IC50'='KP.3+A475V')\n",
    "sources <- c('BA.5 BTI + XBB infection', 'BA.5 BTI + HK.3 infection','BA.5 BTI + JN.1 infection')\n",
    "data_all <- read.csv(src, check.names = F) %>% filter(source %in% sources)\n",
    "\n",
    "dev.off()\n",
    "\n",
    "for (g in c(\"B\", \"D3\", \"F3\")){\n",
    "    pdf(paste0(\"../plots/Figure5_related/\",g,\"_neutralization_compare.pdf\"), width=9, height=3.2)\n",
    "    data <- data_all %>% filter(new_group == g & source %in% sources & paper_reactivity == 'specific') %>% select(\n",
    "        c(\"source\", names(variants))\n",
    "    ) %>% pivot_longer(!source) %>% mutate(name = factor(variants[name], levels=variants), value = refine_val(value), source=factor(source, levels=sources))\n",
    "\n",
    "    df_summary <- data %>% group_by(source, name) %>% summarise(logmean=mean(log10(value)), percent=paste0(round(sum(value < 1)/n()*100), '%'))\n",
    "\n",
    "    my_comp <- list(c(\"BA.5 BTI + XBB infection\", \"BA.5 BTI + JN.1 infection\"))\n",
    "    # my_comp <- list(c(\"BA.5 BTI + XBB infection\", \"BA.5 BTI + HK.3 infection\"),c(\"BA.5 BTI + JN.1 infection\", \"BA.5 BTI + HK.3 infection\"), c(\"BA.5 BTI + XBB infection\", \"BA.5 BTI + JN.1 infection\"))\n",
    "\n",
    "    colors <- c(\"#EE6439\", \"#60AB59\", \"#FFCF56\", '#AA2055',\"#7193E2\")\n",
    "    p <- ggplot(data, aes(source, log10(value)))+facet_wrap(~name, nrow=1)+\n",
    "        geom_hline(yintercept = 0, linetype='dashed', color='red')+\n",
    "        geom_hline(yintercept = 1, linetype='dashed')+geom_hline(yintercept = log10(0.0005), linetype='dashed')+\n",
    "        scale_y_continuous(limits=c(-3.5,4.2), breaks=-3:1, labels=c(expression('10'^{-3}),expression('10'^{-2}),expression('10'^{-1}),expression('10'^{0}),expression('10'^{1})))+\n",
    "        geom_point_rast(aes(fill=source), color='#333333', size=1.5, alpha=0.2, shape=21)+scale_fill_manual(values=colors)+theme_classic()+\n",
    "        geom_point(data=df_summary, aes(source, logmean), shape=21, size=2)+\n",
    "        geom_text(data=df_summary, aes(label=percent), y=1.75, size=3.3)+\n",
    "        geom_text(data=df_summary, aes(label=round(10^logmean,2)), y=2.5, size=3.3)+\n",
    "        stat_compare_means(comparisons = my_comp, label = \"p.signif\",  method = \"wilcox.test\",step.increase = 0.18, tip.length = 0, label.y = 2.7,size=3.3) +\n",
    "        ggtitle(paste0(g, ' specific'))+\n",
    "    theme(axis.title=element_blank(), axis.text.x=element_text(angle=45, hjust=1, vjust=1),strip.background = element_blank())\n",
    "    print(p)\n",
    "    dev.off()\n",
    "}"
   ]
  },
  {
   "cell_type": "code",
   "execution_count": 18,
   "id": "889cbde1-c663-4347-8fc9-d5b08ae7afc5",
   "metadata": {
    "tags": [],
    "vscode": {
     "languageId": "r"
    }
   },
   "outputs": [
    {
     "data": {
      "text/html": [
       "<strong>pdf:</strong> 3"
      ],
      "text/latex": [
       "\\textbf{pdf:} 3"
      ],
      "text/markdown": [
       "**pdf:** 3"
      ],
      "text/plain": [
       "pdf \n",
       "  3 "
      ]
     },
     "metadata": {},
     "output_type": "display_data"
    },
    {
     "name": "stderr",
     "output_type": "stream",
     "text": [
      "\u001b[1m\u001b[22m`summarise()` has grouped output by 'source'. You can override using the `.groups` argument.\n",
      "Warning message in wilcox.test.default(c(-1.68402965454308, 1, 1, -1.54622314030956, :\n",
      "“cannot compute exact p-value with ties”\n",
      "Warning message in wilcox.test.default(c(-2.17561379768123, 1, 0.236486876375591, :\n",
      "“cannot compute exact p-value with ties”\n"
     ]
    },
    {
     "data": {
      "text/html": [
       "<strong>pdf:</strong> 3"
      ],
      "text/latex": [
       "\\textbf{pdf:} 3"
      ],
      "text/markdown": [
       "**pdf:** 3"
      ],
      "text/plain": [
       "pdf \n",
       "  3 "
      ]
     },
     "metadata": {},
     "output_type": "display_data"
    }
   ],
   "source": [
    "# Fig 4 F3 2-5/5-51 neutralization compare\n",
    "\n",
    "refine_val <- function(x) {\n",
    "    x[x > 10] <- 10\n",
    "    x[x < 0.0005] <- 0.0005\n",
    "    x\n",
    "}\n",
    "\n",
    "library(ggpubr)\n",
    "\n",
    "variants <- c('XBB1_5_IC50'='XBB.1.5', 'HK3_1_IC50'='HK.3.1', 'JN1_IC50'='JN.1',#'JN1_F456L_IC50'='JN.1+F456L', \n",
    "              'JN1_R346T_F456L_IC50'='KP.2', 'KP3_IC50'='KP.3')\n",
    "sources <- c('BA.5 BTI + XBB infection', 'BA.5 BTI + HK.3 infection','BA.5 BTI + JN.1 infection')\n",
    "data_all <- read.csv(src, check.names = F) %>% filter(source %in% sources & new_group == \"F3\" & paper_reactivity == 'specific' & v_gene_H %in% c(\"IGHV2-5\", \"IGHV5-51\")) %>% mutate(\n",
    "    src_group = ifelse(source == \"BA.5 BTI + JN.1 infection\", \"JN.1\", \"XBB/HK.3\")\n",
    ") %>% mutate(source = paste0(src_group, \"(\", v_gene_H, \")\"))\n",
    "\n",
    "dev.off()\n",
    "pdf(\"../plots/Figure5_related/F3_IGHV_neutralization_compare.pdf\", width=7, height=2.8)\n",
    "data <- data_all %>% select(\n",
    "    c(\"source\", names(variants))\n",
    ") %>% pivot_longer(!source) %>% mutate(name = factor(variants[name], levels=variants), value = refine_val(value))\n",
    "\n",
    "df_summary <- data %>% group_by(source, name) %>% summarise(logmean=mean(log10(value)), percent=paste0(round(sum(value < 1)/n()*100), '%'))\n",
    "\n",
    "my_comp <- list(c(\"XBB/HK.3(IGHV2-5)\", \"XBB/HK.3(IGHV5-51)\"),\n",
    "                c(\"XBB/HK.3(IGHV2-5)\", \"JN.1(IGHV2-5)\"), \n",
    "                c(\"XBB/HK.3(IGHV5-51)\", \"JN.1(IGHV5-51)\"), \n",
    "                c(\"JN.1(IGHV2-5)\", \"JN.1(IGHV5-51)\"))\n",
    "\n",
    "colors <- c(\"#EE6439\", \"#60AB59\", \"#FFCF56\", '#AA2055',\"#7193E2\")\n",
    "ggplot(data, aes(source, log10(value)))+facet_wrap(~name, nrow=1)+\n",
    "    geom_hline(yintercept = 0, linetype='dashed', color='red')+\n",
    "    geom_hline(yintercept = 1, linetype='dashed')+geom_hline(yintercept = log10(0.0005), linetype='dashed')+\n",
    "    scale_y_continuous(limits=c(-3.5,4.1), breaks=-3:1, labels=c(expression('10'^{-3}),expression('10'^{-2}),expression('10'^{-1}),expression('10'^{0}),expression('10'^{1})))+\n",
    "    geom_point_rast(aes(fill=source), color='#333333', size=1.5, alpha=0.2, shape=21)+scale_fill_manual(values=colors)+theme_classic()+\n",
    "    geom_point(data=df_summary, aes(source, logmean), shape=21, size=2)+\n",
    "    # geom_text(data=df_summary, aes(label=percent), y=1.75, size=3.3)+\n",
    "    labs(y = \"Pseudovirus IC50 (\\u00b5g/mL)\")+\n",
    "    stat_compare_means(comparisons = my_comp, label = \"p.signif\",  method = \"wilcox.test\",step.increase = 0.17, tip.length = 0, label.y = 1.4,size=3.3) +\n",
    "    # ggtitle(paste(g, '(n = ', length(unique(data$id)), ')', sep=''))+\n",
    "theme(axis.title=element_blank(), axis.text.x=element_text(angle=45, hjust=1, vjust=1),strip.background = element_blank())\n",
    "\n",
    "dev.off()"
   ]
  },
  {
   "cell_type": "code",
   "execution_count": 19,
   "id": "5fc10a51-3ba9-4cf5-8c8f-ae6835aa9515",
   "metadata": {
    "tags": [],
    "vscode": {
     "languageId": "r"
    }
   },
   "outputs": [
    {
     "data": {
      "text/html": [
       "<strong>pdf:</strong> 3"
      ],
      "text/latex": [
       "\\textbf{pdf:} 3"
      ],
      "text/markdown": [
       "**pdf:** 3"
      ],
      "text/plain": [
       "pdf \n",
       "  3 "
      ]
     },
     "metadata": {},
     "output_type": "display_data"
    },
    {
     "name": "stderr",
     "output_type": "stream",
     "text": [
      "Warning message in wilcox.test.default(test):\n",
      "“cannot compute exact p-value with zeroes”\n",
      "Warning message in wilcox.test.default(test):\n",
      "“cannot compute exact p-value with zeroes”\n",
      "Warning message in wilcox.test.default(test):\n",
      "“cannot compute exact p-value with zeroes”\n",
      "Warning message in wilcox.test.default(test):\n",
      "“cannot compute exact p-value with zeroes”\n"
     ]
    }
   ],
   "source": [
    "dev.off()\n",
    "\n",
    "sources <- c('BA.5 BTI + XBB infection', 'BA.5 BTI + HK.3 infection','BA.5 BTI + JN.1 infection')\n",
    "data_all <- read.csv(src, check.names = F) %>% filter(source %in% sources) %>% mutate(\n",
    "    src_group = (source == \"BA.5 BTI + JN.1 infection\")\n",
    ")\n",
    "\n",
    "for (sg in c(TRUE, FALSE)) {\n",
    "    for (prop in c(\"IGHV2-5\", \"IGHV5-51\")){\n",
    "        g = 'F3'\n",
    "        pdf(paste0(\"../plots/Figure5_related/\",sg, prop, g, \"_lines.pdf\"), width=3.5, height=3.0)\n",
    "        data <- (data_all %>% filter(new_group == g & v_gene_H == prop & src_group == sg))[,names(variants)]\n",
    "\n",
    "        if (nrow(data) == 0) next\n",
    "\n",
    "        colnames(data) <- variants[colnames(data)]\n",
    "        data[data > 10] <- 10\n",
    "        data[data < 0.0005] <- 0.0005\n",
    "        # colors = c(\"XBB.1.5\"=\"#D7301F\", \"XBB.1.5+F456L\"=\"#08519C\", \"XBB.1.5+L455F\"=\"#5AA1CE\", \"XBB.1.5+L455F+F456L\"=\"#99C5DF\")\n",
    "\n",
    "        df_test = data.frame()\n",
    "        ref_FC <- 'JN.1'\n",
    "        for (ag2 in colnames(data)[1:ncol(data)]){\n",
    "            if (ref_FC == ag2) {next}\n",
    "            test <- na.omit(log10(data[,ref_FC]/data[,ag2]))\n",
    "\n",
    "            pval <- wilcox.test(test)$p.value\n",
    "\n",
    "            if (is.na(pval) || pval >= 0.05) label <- \"NS\"\n",
    "            else if (pval >= 0.01) label <- \"*\"\n",
    "            else if (pval >= 0.001) label <- \"**\"\n",
    "            else label <- \"***\"\n",
    "\n",
    "            df_test <- rbind(df_test, data.frame(ref=ref_FC, antigen=ag2, pval=pval, label=label))\n",
    "        }\n",
    "\n",
    "        cR <- colorRamp2(c(1,4,8,14),c(\"#D7301F\", \"#08519C\", \"#5AA1CE\", \"#99C5DF\"))\n",
    "        colors <- cR(1:10)\n",
    "\n",
    "        # colors <- c(\"#7193E2\", \"#EE6439\", \"#60AB59\", \"#FFCF56\")\n",
    "\n",
    "        data$id <- rownames(data)\n",
    "        samples <- colnames(data)[1:ncol(data)]\n",
    "        data <- data %>% pivot_longer(!id) %>% na.omit()\n",
    "        data$name <- factor(data$name, levels=samples)\n",
    "\n",
    "        count_eff <- data %>% group_by(name) %>% summarise(cnt = sum(value < 1), total = n())\n",
    "        count_eff$ratio_eff <- count_eff$cnt / count_eff$total\n",
    "\n",
    "        my_signif <- function(x, thres) {\n",
    "            signif(x, 1+(x>thres))\n",
    "        }\n",
    "        data_gmean <- as.data.frame(data %>% group_by(name) %>% summarise(gmean=exp(mean(log(value)))))\n",
    "        data_gmean$FC <- data_gmean$gmean / data_gmean[data_gmean$name == ref_FC, 'gmean']\n",
    "        data_gmean$show_FC <- paste(my_signif(data_gmean$FC, 1),'x',sep='')\n",
    "\n",
    "        data_gmean[data_gmean$name == ref_FC, 'show_FC'] <- ''\n",
    "        data_gmean$label <- paste(data_gmean$show_FC, '\\n', my_signif(data_gmean$gmean,0.01), '\\n', round(count_eff$ratio_eff*100), '%', sep='')\n",
    "\n",
    "        p <- ggplot(data, aes(name, log10(value)))+geom_line(aes(group=id), alpha=0.02)+\n",
    "        geom_hline(yintercept = 0, linetype='dashed', color='red')+\n",
    "        geom_hline(yintercept = 1, linetype='dashed')+geom_hline(yintercept = log10(0.0005), linetype='dashed')+\n",
    "        scale_y_continuous(limits=c(-3.5,2.7), breaks=-3:1, labels=c(expression('10'^{-3}),expression('10'^{-2}),expression('10'^{-1}),expression('10'^{0}),expression('10'^{1})))+\n",
    "        geom_point_rast(aes(fill=name), color='#333333', size=2, alpha=0.2, shape=21,show.legend = F)+scale_fill_manual(values=colors)+theme_classic()+\n",
    "        stat_summary(fun=mean, fun.min=mean, fun.max=mean, geom=\"errorbar\", size=0.5, width=0.3, color=\"black\", ) + labs(y = \"Pseudovirus IC50 (\\u00b5g/mL)\")+\n",
    "        geom_text(data=data_gmean, aes(x=name, label=label), y=2.2, size=3.3)+\n",
    "        # geom_text(data=df_test %>% filter(ref==\"XBB.1.5\"), aes(x=antigen, label=label), y=3.45, size=3.3)+\n",
    "        annotate(geom = 'segment', x = 1, xend=length(unique(data$name)), y=2.4, yend=2.4)+\n",
    "        ggtitle(paste(sg, g, prop, '(n = ', length(unique(data$id)), ')', sep=' '))+\n",
    "        theme(axis.title=element_blank(), axis.text.x=element_text(angle=45, hjust=1, vjust=1), plot.title=element_text(size=11, hjust=0.4))\n",
    "\n",
    "        print(p)\n",
    "        dev.off()\n",
    "    }\n",
    "}"
   ]
  },
  {
   "cell_type": "code",
   "execution_count": null,
   "id": "17b0d5a2-83d2-4e88-953c-6d9e129164b2",
   "metadata": {
    "vscode": {
     "languageId": "r"
    }
   },
   "outputs": [],
   "source": []
  }
 ],
 "metadata": {
  "kernelspec": {
   "display_name": "R-4.3",
   "language": "R",
   "name": "ir43"
  },
  "language_info": {
   "codemirror_mode": "r",
   "file_extension": ".r",
   "mimetype": "text/x-r-source",
   "name": "R",
   "pygments_lexer": "r",
   "version": "4.3.3"
  }
 },
 "nbformat": 4,
 "nbformat_minor": 5
}
