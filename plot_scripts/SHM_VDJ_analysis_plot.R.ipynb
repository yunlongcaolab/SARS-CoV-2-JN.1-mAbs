{
 "cells": [
  {
   "cell_type": "code",
   "execution_count": 184,
   "id": "3b11e5e8-8c12-48ed-9629-43cf0cf404bd",
   "metadata": {
    "tags": [],
    "vscode": {
     "languageId": "r"
    }
   },
   "outputs": [],
   "source": [
    "# VDJ chord plot\n",
    "\n",
    "library(tidyverse)\n",
    "library(circlize)\n",
    "\n",
    "chord_plot <- function(df, title, col1=NA, col2=NA, default_col=NA, min_anno = 2) {\n",
    "    df_summary <- df %>% \n",
    "      select(c(id, v_gene_H, v_gene_L)) %>%\n",
    "      count(v_gene_H, v_gene_L) %>%\n",
    "      rename(from = v_gene_L, to = v_gene_H, value = n)\n",
    "\n",
    "    df_summary$from <- str_replace_all(df_summary$from, \"IGLV\", \"VL\")\n",
    "    df_summary$from <- str_replace_all(df_summary$from, \"IGKV\", \"VK\")\n",
    "    \n",
    "    df_summary$to <- str_replace_all(df_summary$to, \"IGHV\", \"VH\")\n",
    "    \n",
    "    names(col1) <- str_replace_all(names(col1), \"IGHV\", \"VH\")\n",
    "    names(col2) <- str_replace_all(names(col2), \"IGKV\", \"VK\")\n",
    "    names(col2) <- str_replace_all(names(col2), \"IGLV\", \"VL\")\n",
    "    \n",
    "    v_gene_L_order <- df_summary %>%\n",
    "      group_by(from) %>%\n",
    "      summarize(total = sum(value)) %>%\n",
    "      arrange(total) %>%\n",
    "      pull(from)\n",
    "\n",
    "    v_gene_H_order <- df_summary %>%\n",
    "      group_by(to) %>%\n",
    "      summarize(total = sum(value)) %>%\n",
    "      arrange(desc(total)) %>%\n",
    "      pull(to)\n",
    "\n",
    "    order <- c(v_gene_L_order, v_gene_H_order)\n",
    "\n",
    "    colors <- c(col1[v_gene_H_order], col2[v_gene_L_order])\n",
    "    names(colors) <- c(v_gene_H_order,v_gene_L_order)\n",
    "    colors[is.na(colors)] <- default_col\n",
    "    \n",
    "    circos.clear()\n",
    "    \n",
    "    chordDiagram(\n",
    "      df_summary,\n",
    "      order = order,  # Sort the sectors\n",
    "      directional = TRUE, # If you want to show directionality\n",
    "      annotationTrack = \"grid\", # Add grid annotation\n",
    "      transparency = 0.5, # Set transparency of the chords\n",
    "      preAllocateTracks = list(track.height = 0.1), # Allocate space for labels\n",
    "      grid.col = colors %>% na.omit()\n",
    "      # grid.col = rep(c(\"red\", \"blue\"), c(length(v_gene_H_order), length(v_gene_L_order))) # Different colors for H and L\n",
    "    )\n",
    "\n",
    "    filtered_labels_L <- df_summary %>%\n",
    "      group_by(from) %>%\n",
    "      summarize(total = sum(value)) %>%\n",
    "      filter(total >= min_anno) %>%\n",
    "      pull(from)\n",
    "    \n",
    "    filtered_labels_H <- df_summary %>%\n",
    "      group_by(to) %>%\n",
    "      summarize(total = sum(value)) %>%\n",
    "      filter(total >= min_anno) %>%\n",
    "      pull(to)\n",
    "\n",
    "    # Add labels conditionally\n",
    "    circos.trackPlotRegion(\n",
    "      track.index = 1,\n",
    "      panel.fun = function(x, y) {\n",
    "        sector.name <- get.cell.meta.data(\"sector.index\")\n",
    "        if (sector.name %in% c(filtered_labels_H, filtered_labels_L)) {\n",
    "          circos.text(CELL_META$xcenter, CELL_META$ylim[1] + mm_y(5), adj=0.5,\n",
    "                      sector.name, facing = \"clockwise\", niceFacing = TRUE)\n",
    "        }\n",
    "      },\n",
    "      bg.border = NA\n",
    "    )\n",
    "\n",
    "    title(main = title)\n",
    "    circos.clear()\n",
    "}\n",
    "\n",
    "set.seed(42)"
   ]
  },
  {
   "cell_type": "code",
   "execution_count": 185,
   "id": "c095a3ce-bcea-4fed-830c-40e7ecac9303",
   "metadata": {
    "tags": [],
    "vscode": {
     "languageId": "r"
    }
   },
   "outputs": [
    {
     "data": {
      "text/html": [
       "<strong>pdf:</strong> 3"
      ],
      "text/latex": [
       "\\textbf{pdf:} 3"
      ],
      "text/markdown": [
       "**pdf:** 3"
      ],
      "text/plain": [
       "pdf \n",
       "  3 "
      ]
     },
     "metadata": {},
     "output_type": "display_data"
    },
    {
     "data": {
      "text/html": [
       "<strong>pdf:</strong> 3"
      ],
      "text/latex": [
       "\\textbf{pdf:} 3"
      ],
      "text/markdown": [
       "**pdf:** 3"
      ],
      "text/plain": [
       "pdf \n",
       "  3 "
      ]
     },
     "metadata": {},
     "output_type": "display_data"
    }
   ],
   "source": [
    "# specific F3\n",
    "\n",
    "sources <- c(\"XBB infection\", \"XBB BTI\", \"BA.5 + XBB infection\", \"BA.5 BTI + XBB infection\", \"BA.5 BTI + HK.3 infection\", \"BA.5 + JN.1 infection\", \"BA.5 BTI + JN.1 infection\")\n",
    "# sources <- c(\"BA.5 BTI + XBB infection\", \"BA.5 BTI + HK.3 infection\", \"BA.5 BTI + JN.1 infection\")\n",
    "df <- read.csv(\"../data/DMS/antibody/_clustering.csv\") %>% filter(v_gene_H != \"\" & v_gene_L != \"\" & source %in% sources)\n",
    "\n",
    "dev.off()\n",
    "pdf(paste0(\"../plots/Figure5_related/F3_VDJ.pdf\"), width=5, height=5)\n",
    "\n",
    "colors <- c(\"VH2-5\"='#AA2055',\"VH5-51\"=\"#7193E2\",\"VH4-59\"=\"#FFCC90\", \"VH3-30\"=\"#cbaf70\",\n",
    "           \"VK3-15\"='#FF5733', \"VK1-39\"=\"#2E86C1\", \"VK1-33\"=\"#A3E4D7\", \"VL1-40\"=\"#F1C40F\")\n",
    "\n",
    "df_m <- df %>% filter(source %in% c(\"BA.5 BTI + XBB infection\", \"BA.5 BTI + HK.3 infection\") & new_group == \"F3\")\n",
    "if (nrow(df_m) == 0) next\n",
    "chord_plot(df_m, title=paste0(\"BA.5 BTI + XBB/HK.3 F3 (n = \", nrow(df_m), \")\"), col1=colors, col2=colors, default_col=\"#cccccc\",min_anno = 3)\n",
    "\n",
    "for (src in sources) {\n",
    "    df_m <- df %>% filter(source == src & new_group == \"F3\")\n",
    "    if (nrow(df_m) == 0) next\n",
    "    chord_plot(df_m, title=paste0(src, ' F3 (n = ', nrow(df_m), ')'), col1=colors, col2=colors, default_col=\"#cccccc\",min_anno = 3)\n",
    "}\n",
    "dev.off()\n"
   ]
  },
  {
   "cell_type": "code",
   "execution_count": 186,
   "id": "8da6e309-7bb6-4d85-bd0f-cfec57f584b3",
   "metadata": {
    "vscode": {
     "languageId": "r"
    }
   },
   "outputs": [
    {
     "data": {
      "text/html": [
       "<strong>pdf:</strong> 3"
      ],
      "text/latex": [
       "\\textbf{pdf:} 3"
      ],
      "text/markdown": [
       "**pdf:** 3"
      ],
      "text/plain": [
       "pdf \n",
       "  3 "
      ]
     },
     "metadata": {},
     "output_type": "display_data"
    }
   ],
   "source": [
    "\n",
    "df <- read.csv(\"../data/DMS/antibody/_clustering.csv\") %>% filter(v_gene_H != \"\" & v_gene_L != \"\")\n",
    "\n",
    "sources <- c(\"BA.5 BTI + XBB infection\", \"BA.5 BTI + HK.3 infection\", \"BA.5 BTI + JN.1 infection\")\n",
    "groups <- unique(df$new_group)\n",
    "\n",
    "dev.off()\n",
    "\n",
    "for (group in groups) {\n",
    "    pdf(paste0(\"../plots/Figure4_related/VDJ_by_group/VDJ_chord_plots\",\"_group_\",str_replace(group,\"/\",\"_\"),\".pdf\"))\n",
    "    # all mAbs\n",
    "    \n",
    "    df_m <- df %>% filter(new_group == group)\n",
    "    if (nrow(df_m) == 0) next\n",
    "    chord_plot(df_m, title=paste0(\"All \",group, \" (n = \", nrow(df_m), \")\"))\n",
    "    \n",
    "    for (src in sources) {\n",
    "        df_m <- df %>% filter(source == src & new_group == group)\n",
    "        if (nrow(df_m) == 0) next\n",
    "        chord_plot(df_m, title=paste0(src, ' ', group, ' (n = ', nrow(df_m), ')'))\n",
    "    }\n",
    "    dev.off()\n",
    "}\n"
   ]
  },
  {
   "cell_type": "code",
   "execution_count": 187,
   "id": "27225bec-94c8-4b96-ac14-191384abaef2",
   "metadata": {
    "vscode": {
     "languageId": "r"
    }
   },
   "outputs": [
    {
     "name": "stderr",
     "output_type": "stream",
     "text": [
      "\u001b[1m\u001b[22m`summarise()` has grouped output by 'source'. You can override using the `.groups` argument.\n"
     ]
    },
    {
     "data": {
      "text/html": [
       "<strong>pdf:</strong> 3"
      ],
      "text/latex": [
       "\\textbf{pdf:} 3"
      ],
      "text/markdown": [
       "**pdf:** 3"
      ],
      "text/plain": [
       "pdf \n",
       "  3 "
      ]
     },
     "metadata": {},
     "output_type": "display_data"
    },
    {
     "data": {
      "text/html": [
       "<strong>pdf:</strong> 3"
      ],
      "text/latex": [
       "\\textbf{pdf:} 3"
      ],
      "text/markdown": [
       "**pdf:** 3"
      ],
      "text/plain": [
       "pdf \n",
       "  3 "
      ]
     },
     "metadata": {},
     "output_type": "display_data"
    },
    {
     "name": "stderr",
     "output_type": "stream",
     "text": [
      "Warning message:\n",
      "“\u001b[1m\u001b[22mRemoved 9 rows containing missing values or values outside the scale range (`geom_violin()`).”\n"
     ]
    },
    {
     "data": {
      "text/html": [
       "<strong>pdf:</strong> 3"
      ],
      "text/latex": [
       "\\textbf{pdf:} 3"
      ],
      "text/markdown": [
       "**pdf:** 3"
      ],
      "text/plain": [
       "pdf \n",
       "  3 "
      ]
     },
     "metadata": {},
     "output_type": "display_data"
    }
   ],
   "source": [
    "# cross vs specific\n",
    "\n",
    "library(ggplot2)\n",
    "library(tidyverse)\n",
    "library(ggsignif)\n",
    "library(ggpubr)\n",
    "\n",
    "colors <- c(\"cross\"=\"#BC3C29\", \"specific\"=\"#0072B5\")\n",
    "sources <- c(\"XBB infection\", \"XBB BTI\", \"BA.5 + XBB infection\", \"BA.5 + JN.1 infection\", \"BA.5 BTI + XBB infection\", \"BA.5 BTI + HK.3 infection\", \"BA.5 BTI + JN.1 infection\")\n",
    "df <- read.csv(\"../data/_mAb_info_clean.csv\") %>% filter(source %in% sources & paper_reactivity != \"none\" & paper_reactivity != '')\n",
    "df$source <- factor(df$source, levels=sources)\n",
    "df_summary <- df %>%\n",
    "  group_by(source, paper_reactivity) %>%\n",
    "  summarise(count = n()) %>%\n",
    "  mutate(percentage = count / sum(count) * 100)\n",
    "\n",
    "df_summary$paper_reactivity <- factor(df_summary$paper_reactivity, levels=c(\"specific\",\"cross\"))\n",
    "\n",
    "dev.off()\n",
    "pdf(\"../plots/Figure3_related/cross_specific.pdf\", width=4.5, height=3.3)\n",
    "\n",
    "ggplot(df_summary, aes(fill = paper_reactivity, color = paper_reactivity, y = percentage, x = source)) + \n",
    "  geom_bar(position = \"fill\", stat = \"identity\", alpha=0.5, width=.8) + \n",
    "  scale_y_continuous(labels = scales::percent, expand = c(0,0)) + \n",
    "  scale_fill_manual(values=colors)+\n",
    "  scale_color_manual(values=colors)+\n",
    "  labs(y = \"Percentage\", x = \"Source\") +\n",
    "  geom_text(data = df_summary%>%filter(paper_reactivity == 'cross'), aes(label = paste0(round(percentage), \"%\"), y = 0.2), color = \"black\")+\n",
    "  geom_text(data = df_summary%>%filter(paper_reactivity == 'specific'), aes(label = paste0(round(percentage), \"%\"), y = 0.8), color = \"black\")+\n",
    "  theme_classic()+theme(axis.text.x = element_text(angle=45, hjust=1),\n",
    "      axis.title = element_blank())\n",
    "\n",
    "dev.off()\n",
    "\n",
    "df_summary$paper_reactivity <- factor(df_summary$paper_reactivity, levels=c(\"cross\",\"specific\"))\n",
    "pdf(\"../plots/Figure3_related/SHM_HL.pdf\", width=8, height=3.2)\n",
    "\n",
    "dodge = 0.75\n",
    "\n",
    "ggplot(df, aes(x = source, y = v_domain_shm_ratio_H, fill = paper_reactivity, color = paper_reactivity)) +\n",
    "  geom_violin(trim = FALSE, alpha=0.5,scale = \"width\", position = position_dodge(dodge), width=0.8) +\n",
    "  geom_boxplot(width = 0.2, position = position_dodge(dodge), fill='white') +\n",
    "  # scale_fill_manual(values = c(\"red\", \"blue\")) +\n",
    "  labs(y = \"Heavy chain V-domain SHM rate\", x = \"Source\") +\n",
    "  theme_classic() +  scale_fill_manual(values=colors)+\n",
    "  scale_color_manual(values=colors)+scale_y_continuous(limits=c(-0.02,0.22), expand=c(0,0,0,0.06))+\n",
    "  stat_compare_means(method = \"wilcox.test\", aes(group = paper_reactivity), label = \"p.format\") +\n",
    "  geom_text(data = df_summary, aes(label = count, y = 0.2), \n",
    "            position = position_dodge(dodge), vjust = 1.5, color = \"black\")+\n",
    "  theme(\n",
    "      axis.text.x = element_text(angle=45, hjust=1),\n",
    "      axis.ticks.x = element_blank(),\n",
    "      axis.title.x = element_blank(),\n",
    "  )\n",
    "ggplot(df, aes(x = source, y = v_domain_shm_ratio_L, fill = paper_reactivity, color = paper_reactivity)) +\n",
    "  geom_violin(trim = FALSE, alpha=0.5,scale = \"width\", position = position_dodge(dodge), width=0.8) +\n",
    "  geom_boxplot(width = 0.2, position = position_dodge(dodge), fill='white') +\n",
    "  # scale_fill_manual(values = c(\"red\", \"blue\")) +\n",
    "  labs(y = \"Light chain V-domain SHM rate\", x = \"Source\") +\n",
    "  theme_classic() +  scale_fill_manual(values=colors)+\n",
    "  scale_color_manual(values=colors)+scale_y_continuous(limits=c(-0.02,0.22), expand=c(0,0,0,0.06))+\n",
    "  stat_compare_means(method = \"wilcox.test\", aes(group = paper_reactivity), label = \"p.format\") +\n",
    "  geom_text(data = df_summary, aes(label = count, y = 0.2), \n",
    "            position = position_dodge(dodge), vjust = 1.5, color = \"black\")+\n",
    "  theme(\n",
    "      axis.text.x = element_text(angle=45, hjust=1),\n",
    "      axis.ticks.x = element_blank(),\n",
    "      axis.title.x = element_blank(),\n",
    "  )\n",
    "\n",
    "dev.off()"
   ]
  },
  {
   "cell_type": "code",
   "execution_count": 188,
   "id": "f59d03db-8167-4526-a97c-7ba2f2776f5f",
   "metadata": {
    "vscode": {
     "languageId": "r"
    }
   },
   "outputs": [
    {
     "data": {
      "text/html": [
       "0.838485156051642"
      ],
      "text/latex": [
       "0.838485156051642"
      ],
      "text/markdown": [
       "0.838485156051642"
      ],
      "text/plain": [
       "[1] 0.8384852"
      ]
     },
     "metadata": {},
     "output_type": "display_data"
    },
    {
     "data": {
      "text/html": [
       "0.360217557989969"
      ],
      "text/latex": [
       "0.360217557989969"
      ],
      "text/markdown": [
       "0.360217557989969"
      ],
      "text/plain": [
       "[1] 0.3602176"
      ]
     },
     "metadata": {},
     "output_type": "display_data"
    },
    {
     "data": {
      "text/html": [
       "0.000216973346707663"
      ],
      "text/latex": [
       "0.000216973346707663"
      ],
      "text/markdown": [
       "0.000216973346707663"
      ],
      "text/plain": [
       "[1] 0.0002169733"
      ]
     },
     "metadata": {},
     "output_type": "display_data"
    },
    {
     "data": {
      "text/html": [
       "0.0779575444821313"
      ],
      "text/latex": [
       "0.0779575444821313"
      ],
      "text/markdown": [
       "0.0779575444821313"
      ],
      "text/plain": [
       "[1] 0.07795754"
      ]
     },
     "metadata": {},
     "output_type": "display_data"
    },
    {
     "data": {
      "text/html": [
       "3.22598505506302e-08"
      ],
      "text/latex": [
       "3.22598505506302e-08"
      ],
      "text/markdown": [
       "3.22598505506302e-08"
      ],
      "text/plain": [
       "[1] 3.225985e-08"
      ]
     },
     "metadata": {},
     "output_type": "display_data"
    },
    {
     "data": {
      "text/html": [
       "1.25679005919403e-24"
      ],
      "text/latex": [
       "1.25679005919403e-24"
      ],
      "text/markdown": [
       "1.25679005919403e-24"
      ],
      "text/plain": [
       "[1] 1.25679e-24"
      ]
     },
     "metadata": {},
     "output_type": "display_data"
    },
    {
     "data": {
      "text/html": [
       "4.45559272897235e-25"
      ],
      "text/latex": [
       "4.45559272897235e-25"
      ],
      "text/markdown": [
       "4.45559272897235e-25"
      ],
      "text/plain": [
       "[1] 4.455593e-25"
      ]
     },
     "metadata": {},
     "output_type": "display_data"
    },
    {
     "data": {
      "text/html": [
       "0.00018743772226127"
      ],
      "text/latex": [
       "0.00018743772226127"
      ],
      "text/markdown": [
       "0.00018743772226127"
      ],
      "text/plain": [
       "[1] 0.0001874377"
      ]
     },
     "metadata": {},
     "output_type": "display_data"
    }
   ],
   "source": [
    "wilcox.test(\n",
    "    (df%>%filter(source==\"BA.5 BTI + XBB infection\"&paper_reactivity==\"cross\"))$v_domain_shm_ratio_H,\n",
    "    (df%>%filter(source==\"BA.5 BTI + HK.3 infection\"&paper_reactivity==\"cross\"))$v_domain_shm_ratio_H\n",
    ")$p.value\n",
    "\n",
    "wilcox.test(\n",
    "    (df%>%filter(source==\"BA.5 BTI + JN.1 infection\"&paper_reactivity==\"cross\"))$v_domain_shm_ratio_H,\n",
    "    (df%>%filter(source==\"BA.5 BTI + HK.3 infection\"&paper_reactivity==\"cross\"))$v_domain_shm_ratio_H\n",
    ")$p.value\n",
    "\n",
    "wilcox.test(\n",
    "    (df%>%filter(source==\"BA.5 BTI + XBB infection\"&paper_reactivity==\"specific\"))$v_domain_shm_ratio_H,\n",
    "    (df%>%filter(source==\"BA.5 BTI + HK.3 infection\"&paper_reactivity==\"specific\"))$v_domain_shm_ratio_H\n",
    ")$p.value\n",
    "\n",
    "wilcox.test(\n",
    "    (df%>%filter(source==\"BA.5 BTI + JN.1 infection\"&paper_reactivity==\"specific\"))$v_domain_shm_ratio_H,\n",
    "    (df%>%filter(source==\"BA.5 BTI + HK.3 infection\"&paper_reactivity==\"specific\"))$v_domain_shm_ratio_H\n",
    ")$p.value\n",
    "\n",
    "\n",
    "wilcox.test(\n",
    "    (df%>%filter(source==\"BA.5 BTI + JN.1 infection\"&paper_reactivity==\"specific\"))$v_domain_shm_ratio_H,\n",
    "    (df%>%filter(source==\"BA.5 BTI + XBB infection\"&paper_reactivity==\"specific\"))$v_domain_shm_ratio_H\n",
    ")$p.value\n",
    "\n",
    "\n",
    "wilcox.test(\n",
    "    (df%>%filter(source==\"XBB infection\"&paper_reactivity==\"specific\"))$v_domain_shm_ratio_H,\n",
    "    (df%>%filter(source==\"BA.5 + XBB infection\"&paper_reactivity==\"specific\"))$v_domain_shm_ratio_H\n",
    ")$p.value\n",
    "\n",
    "wilcox.test(\n",
    "    (df%>%filter(source==\"XBB infection\"&paper_reactivity==\"specific\"))$v_domain_shm_ratio_H,\n",
    "    (df%>%filter(source==\"BA.5 + JN.1 infection\"&paper_reactivity==\"specific\"))$v_domain_shm_ratio_H\n",
    ")$p.value\n",
    "\n",
    "wilcox.test(\n",
    "    (df%>%filter(source==\"BA.5 + JN.1 infection\"&paper_reactivity==\"specific\"))$v_domain_shm_ratio_H,\n",
    "    (df%>%filter(source==\"BA.5 + XBB infection\"&paper_reactivity==\"specific\"))$v_domain_shm_ratio_H\n",
    ")$p.value"
   ]
  },
  {
   "cell_type": "code",
   "execution_count": 189,
   "id": "75eac523-e629-48e4-97e3-9fb3d05889d4",
   "metadata": {
    "tags": [],
    "vscode": {
     "languageId": "r"
    }
   },
   "outputs": [
    {
     "data": {
      "text/html": [
       "0.833629056029803"
      ],
      "text/latex": [
       "0.833629056029803"
      ],
      "text/markdown": [
       "0.833629056029803"
      ],
      "text/plain": [
       "[1] 0.8336291"
      ]
     },
     "metadata": {},
     "output_type": "display_data"
    },
    {
     "data": {
      "text/html": [
       "0.599535116948423"
      ],
      "text/latex": [
       "0.599535116948423"
      ],
      "text/markdown": [
       "0.599535116948423"
      ],
      "text/plain": [
       "[1] 0.5995351"
      ]
     },
     "metadata": {},
     "output_type": "display_data"
    },
    {
     "data": {
      "text/html": [
       "0.00012340126932055"
      ],
      "text/latex": [
       "0.00012340126932055"
      ],
      "text/markdown": [
       "0.00012340126932055"
      ],
      "text/plain": [
       "[1] 0.0001234013"
      ]
     },
     "metadata": {},
     "output_type": "display_data"
    },
    {
     "data": {
      "text/html": [
       "0.930916005706574"
      ],
      "text/latex": [
       "0.930916005706574"
      ],
      "text/markdown": [
       "0.930916005706574"
      ],
      "text/plain": [
       "[1] 0.930916"
      ]
     },
     "metadata": {},
     "output_type": "display_data"
    },
    {
     "data": {
      "text/html": [
       "9.32452993985679e-05"
      ],
      "text/latex": [
       "9.32452993985679e-05"
      ],
      "text/markdown": [
       "9.32452993985679e-05"
      ],
      "text/plain": [
       "[1] 9.32453e-05"
      ]
     },
     "metadata": {},
     "output_type": "display_data"
    },
    {
     "data": {
      "text/html": [
       "2.2576639558767e-19"
      ],
      "text/latex": [
       "2.2576639558767e-19"
      ],
      "text/markdown": [
       "2.2576639558767e-19"
      ],
      "text/plain": [
       "[1] 2.257664e-19"
      ]
     },
     "metadata": {},
     "output_type": "display_data"
    },
    {
     "data": {
      "text/html": [
       "1.18914270793548e-21"
      ],
      "text/latex": [
       "1.18914270793548e-21"
      ],
      "text/markdown": [
       "1.18914270793548e-21"
      ],
      "text/plain": [
       "[1] 1.189143e-21"
      ]
     },
     "metadata": {},
     "output_type": "display_data"
    },
    {
     "data": {
      "text/html": [
       "0.000971952868748319"
      ],
      "text/latex": [
       "0.000971952868748319"
      ],
      "text/markdown": [
       "0.000971952868748319"
      ],
      "text/plain": [
       "[1] 0.0009719529"
      ]
     },
     "metadata": {},
     "output_type": "display_data"
    }
   ],
   "source": [
    "wilcox.test(\n",
    "    (df%>%filter(source==\"BA.5 BTI + XBB infection\"&paper_reactivity==\"cross\"))$v_domain_shm_ratio_L,\n",
    "    (df%>%filter(source==\"BA.5 BTI + HK.3 infection\"&paper_reactivity==\"cross\"))$v_domain_shm_ratio_L\n",
    ")$p.value\n",
    "\n",
    "wilcox.test(\n",
    "    (df%>%filter(source==\"BA.5 BTI + JN.1 infection\"&paper_reactivity==\"cross\"))$v_domain_shm_ratio_L,\n",
    "    (df%>%filter(source==\"BA.5 BTI + HK.3 infection\"&paper_reactivity==\"cross\"))$v_domain_shm_ratio_L\n",
    ")$p.value\n",
    "\n",
    "wilcox.test(\n",
    "    (df%>%filter(source==\"BA.5 BTI + XBB infection\"&paper_reactivity==\"specific\"))$v_domain_shm_ratio_L,\n",
    "    (df%>%filter(source==\"BA.5 BTI + HK.3 infection\"&paper_reactivity==\"specific\"))$v_domain_shm_ratio_L\n",
    ")$p.value\n",
    "\n",
    "wilcox.test(\n",
    "    (df%>%filter(source==\"BA.5 BTI + JN.1 infection\"&paper_reactivity==\"specific\"))$v_domain_shm_ratio_L,\n",
    "    (df%>%filter(source==\"BA.5 BTI + HK.3 infection\"&paper_reactivity==\"specific\"))$v_domain_shm_ratio_L\n",
    ")$p.value\n",
    "\n",
    "\n",
    "wilcox.test(\n",
    "    (df%>%filter(source==\"BA.5 BTI + JN.1 infection\"&paper_reactivity==\"specific\"))$v_domain_shm_ratio_L,\n",
    "    (df%>%filter(source==\"BA.5 BTI + XBB infection\"&paper_reactivity==\"specific\"))$v_domain_shm_ratio_L\n",
    ")$p.value\n",
    "\n",
    "\n",
    "wilcox.test(\n",
    "    (df%>%filter(source==\"XBB infection\"&paper_reactivity==\"specific\"))$v_domain_shm_ratio_L,\n",
    "    (df%>%filter(source==\"BA.5 + XBB infection\"&paper_reactivity==\"specific\"))$v_domain_shm_ratio_L\n",
    ")$p.value\n",
    "\n",
    "wilcox.test(\n",
    "    (df%>%filter(source==\"XBB infection\"&paper_reactivity==\"specific\"))$v_domain_shm_ratio_L,\n",
    "    (df%>%filter(source==\"BA.5 + JN.1 infection\"&paper_reactivity==\"specific\"))$v_domain_shm_ratio_L\n",
    ")$p.value\n",
    "\n",
    "wilcox.test(\n",
    "    (df%>%filter(source==\"BA.5 + JN.1 infection\"&paper_reactivity==\"specific\"))$v_domain_shm_ratio_L,\n",
    "    (df%>%filter(source==\"BA.5 + XBB infection\"&paper_reactivity==\"specific\"))$v_domain_shm_ratio_L\n",
    ")$p.value"
   ]
  },
  {
   "cell_type": "code",
   "execution_count": 190,
   "id": "4455a888-3676-45ee-9340-7e4f767b4a65",
   "metadata": {
    "tags": [],
    "vscode": {
     "languageId": "r"
    }
   },
   "outputs": [
    {
     "data": {
      "text/html": [
       "<strong>pdf:</strong> 3"
      ],
      "text/latex": [
       "\\textbf{pdf:} 3"
      ],
      "text/markdown": [
       "**pdf:** 3"
      ],
      "text/plain": [
       "pdf \n",
       "  3 "
      ]
     },
     "metadata": {},
     "output_type": "display_data"
    },
    {
     "name": "stderr",
     "output_type": "stream",
     "text": [
      "\u001b[1m\u001b[22m`summarise()` has grouped output by 'new_group'. You can override using the `.groups` argument.\n",
      "Warning message:\n",
      "“\u001b[1m\u001b[22m... is ignored in group_split(<grouped_df>), please use group_by(..., .add = TRUE) %>% group_split()”\n"
     ]
    },
    {
     "data": {
      "text/html": [
       "<strong>pdf:</strong> 3"
      ],
      "text/latex": [
       "\\textbf{pdf:} 3"
      ],
      "text/markdown": [
       "**pdf:** 3"
      ],
      "text/plain": [
       "pdf \n",
       "  3 "
      ]
     },
     "metadata": {},
     "output_type": "display_data"
    }
   ],
   "source": [
    "# cross-specific donuts\n",
    "\n",
    "colors <- c(\"cross\"=\"#BC3C29\", \"specific\"=\"#0072B5\")\n",
    "sources <- c(\"XBB infection\", \"XBB BTI\", \"BA.5 + XBB infection\", \"BA.5 + JN.1 infection\", \"BA.5 BTI + XBB infection\", \"BA.5 BTI + HK.3 infection\", \"BA.5 BTI + JN.1 infection\")\n",
    "data <- read.csv(\"../data/DMS/antibody/_clustering.csv\") %>% filter(source %in% sources & paper_reactivity != \"none\" & paper_reactivity != '')\n",
    "\n",
    "dev.off()\n",
    "pdf(\"../plots/Figure3_related/cross_specific_by_group_donuts.pdf\", width=4, height=6)\n",
    "# Summarize the data\n",
    "summarized_data <- data %>%\n",
    "  group_by(new_group, paper_reactivity) %>%\n",
    "  summarize(count = n()) %>%\n",
    "  ungroup() %>%\n",
    "  group_by(new_group) %>%\n",
    "  mutate(percentage = count / sum(count) * 100)\n",
    "\n",
    "# Function to create a donut plot for each group\n",
    "create_donut_plot <- function(group_data) {\n",
    "  ggplot(group_data, aes(x = 2, y = percentage, fill = paper_reactivity)) +\n",
    "    geom_bar(stat = \"identity\", width = 1, color = \"black\") +\n",
    "    coord_polar(theta = \"y\", start = 0) + scale_fill_manual(values=colors)+\n",
    "    geom_text(aes(label = paste0(round(percentage, 1), \"%\")), \n",
    "              position = position_stack(vjust = 0.5)) +\n",
    "    xlim(0.5, 2.5) +\n",
    "    theme_void() +\n",
    "    theme(legend.position = \"none\") +\n",
    "    ggtitle(group_data$new_group[1]) +\n",
    "    theme(plot.title = element_text(hjust = 0.5, vjust = -10, size = 16))\n",
    "}\n",
    "\n",
    "# Create donut plots for each group\n",
    "donut_plots <- summarized_data %>%\n",
    "  group_split(new_group) %>%\n",
    "  lapply(create_donut_plot)\n",
    "\n",
    "# Annotate the center of each donut with the new_group name\n",
    "for (i in seq_along(donut_plots)) {\n",
    "  donut_plots[[i]] <- donut_plots[[i]] +\n",
    "    annotate(\"text\", x = 0, y = 0, label = levels(summarized_data$new_group)[i], size = 5, hjust = 0.5)\n",
    "}\n",
    "\n",
    "# Combine all donut plots into one figure\n",
    "combined_plot <- ggarrange(plotlist = donut_plots, ncol = 3, nrow = 4)\n",
    "\n",
    "# Display the combined plot\n",
    "print(combined_plot)\n",
    "dev.off()"
   ]
  },
  {
   "cell_type": "code",
   "execution_count": 191,
   "id": "14da62dd-c314-470d-aead-26b258c1f20d",
   "metadata": {
    "tags": [],
    "vscode": {
     "languageId": "r"
    }
   },
   "outputs": [
    {
     "data": {
      "text/html": [
       "<strong>pdf:</strong> 3"
      ],
      "text/latex": [
       "\\textbf{pdf:} 3"
      ],
      "text/markdown": [
       "**pdf:** 3"
      ],
      "text/plain": [
       "pdf \n",
       "  3 "
      ]
     },
     "metadata": {},
     "output_type": "display_data"
    },
    {
     "data": {
      "text/html": [
       "<strong>pdf:</strong> 2"
      ],
      "text/latex": [
       "\\textbf{pdf:} 2"
      ],
      "text/markdown": [
       "**pdf:** 2"
      ],
      "text/plain": [
       "pdf \n",
       "  2 "
      ]
     },
     "metadata": {},
     "output_type": "display_data"
    }
   ],
   "source": [
    "# group SHM for KP3 IC50 < 0.05\n",
    "library(ggplot2)\n",
    "library(tidyverse)\n",
    "library(ggsignif)\n",
    "library(ggpubr)\n",
    "\n",
    "use_groups <- c(\"A1\",\"F3\")\n",
    "colors <- c(\"neut\"=\"#BC3C29\", \"escape\"=\"#0072B5\")\n",
    "sources <- c(\"BA.5 BTI + XBB infection\", \"BA.5 BTI + HK.3 infection\", \"BA.5 BTI + JN.1 infection\")\n",
    "\n",
    "v_genes <- list(\"A1\"=c(\"IGHV3-53\",\"IGHV3-66\"), \"F3\"=c(\"IGHV2-5\"))\n",
    "\n",
    "comparisons <- list(c(\"neut\", \"escape\"))\n",
    "\n",
    "dev.off()\n",
    "\n",
    "for (use_group in use_groups) {\n",
    "    df <- read.csv(\"../data/DMS/antibody/_clustering.csv\") %>% filter(source %in% sources & (v_gene_H %in% v_genes[[use_group]]))\n",
    "    df <- rbind(\n",
    "            df %>% filter(KP3_IC50 < 0.05 & new_group == use_group) %>% mutate(paper_reactivity = \"neut\"), \n",
    "            df %>% filter(KP3_IC50 > 0.05 & new_group == use_group) %>% mutate(paper_reactivity = \"escape\"))\n",
    "\n",
    "    df$source <- factor(df$source, levels=sources)\n",
    "    df$paper_reactivity <- factor(df$paper_reactivity, levels=names(colors))\n",
    "    df_summary <- df %>%\n",
    "      group_by(paper_reactivity) %>%\n",
    "      summarise(count = n(), max_h=max(v_domain_shm_ratio_H), max_l=max(v_domain_shm_ratio_L)) \n",
    "\n",
    "    pdf(paste0(\"../plots/Figure4_related/SHM_KP3_\",use_group,\".pdf\"), width=3.5, height=3)\n",
    "    print(ggplot(df, aes(x = paper_reactivity, y = v_domain_shm_ratio_H, fill = paper_reactivity, color = paper_reactivity)) +\n",
    "      geom_violin(trim = FALSE, alpha=0.5,scale = \"width\", width=0.8) +\n",
    "      geom_boxplot(width = 0.2, fill='white') +\n",
    "      labs(y = \"Heavy chain V-domain SHM rate\", x = \"reactivity\") +\n",
    "      theme_classic() +  scale_fill_manual(values=colors)+\n",
    "      scale_color_manual(values=colors)+scale_y_continuous(expand=c(0,0,0,0.06))+\n",
    "      stat_compare_means(comparisons = comparisons, method = \"wilcox.test\", label = \"p.signif\", label.y = max(df_summary$max_h)+0.05, tip.length = 0) +\n",
    "      geom_text(data = df_summary, aes(label = count), y = max(df_summary$max_h)+0.03, color = \"black\")+\n",
    "      theme(\n",
    "          axis.text.x = element_text(angle=45, hjust=1),\n",
    "          axis.ticks.x = element_blank(),\n",
    "          axis.title.x = element_blank(),\n",
    "      ))\n",
    "    print(ggplot(df, aes(x = paper_reactivity, y = v_domain_shm_ratio_L, fill = paper_reactivity, color = paper_reactivity)) +\n",
    "      geom_violin(trim = FALSE, alpha=0.5,scale = \"width\", width=0.8) +\n",
    "      geom_boxplot(width = 0.2, fill='white') +\n",
    "      labs(y = \"Light chain V-domain SHM rate\", x = \"reactivity\") +\n",
    "      theme_classic() +  scale_fill_manual(values=colors)+\n",
    "      scale_color_manual(values=colors)+scale_y_continuous(expand=c(0,0,0,0.06))+\n",
    "      stat_compare_means(comparisons = comparisons, method = \"wilcox.test\", label = \"p.signif\", label.y = max(df_summary$max_h)+0.05, tip.length = 0) +\n",
    "      geom_text(data = df_summary, aes(label = count), y = max(df_summary$max_l)+0.03, color = \"black\")+\n",
    "      theme(\n",
    "          axis.text.x = element_text(angle=45, hjust=1),\n",
    "          axis.ticks.x = element_blank(),\n",
    "          axis.title.x = element_blank(),\n",
    "      ))\n",
    "}\n",
    "dev.off()"
   ]
  },
  {
   "cell_type": "code",
   "execution_count": 192,
   "id": "9b0f2b7a-b178-4d3b-b963-f39a396f596e",
   "metadata": {
    "tags": [],
    "vscode": {
     "languageId": "r"
    }
   },
   "outputs": [
    {
     "data": {
      "text/html": [
       "<strong>pdf:</strong> 3"
      ],
      "text/latex": [
       "\\textbf{pdf:} 3"
      ],
      "text/markdown": [
       "**pdf:** 3"
      ],
      "text/plain": [
       "pdf \n",
       "  3 "
      ]
     },
     "metadata": {},
     "output_type": "display_data"
    },
    {
     "name": "stderr",
     "output_type": "stream",
     "text": [
      "Warning message in wilcox.test.default(c(0.0627, 0.0728, 0.0486, 0.0739, 0.0741, :\n",
      "“cannot compute exact p-value with ties”\n",
      "Warning message in wilcox.test.default(c(0.0531, 0.0585, 0.0528, 0.0516, 0.0313, :\n",
      "“cannot compute exact p-value with ties”\n"
     ]
    },
    {
     "data": {
      "text/html": [
       "<strong>pdf:</strong> 3"
      ],
      "text/latex": [
       "\\textbf{pdf:} 3"
      ],
      "text/markdown": [
       "**pdf:** 3"
      ],
      "text/plain": [
       "pdf \n",
       "  3 "
      ]
     },
     "metadata": {},
     "output_type": "display_data"
    }
   ],
   "source": [
    "# group SHM for A1 sources\n",
    "library(ggplot2)\n",
    "library(tidyverse)\n",
    "library(ggsignif)\n",
    "library(ggpubr)\n",
    "\n",
    "sources <- c(\"XBB infection\", \"XBB BTI\", \"BA.5 + XBB infection\", \"BA.5 + JN.1 infection\", \"BA.5 BTI + XBB infection\", \"BA.5 BTI + HK.3 infection\", \"BA.5 BTI + JN.1 infection\")\n",
    "df <- read.csv(\"../data/DMS/antibody/_clustering.csv\") %>% filter(source %in% sources & paper_reactivity == \"cross\" & new_group == 'A1')\n",
    "colors <- c(\"#ABABCC\", \"#C06679\", \"#2789A1\",\"#BE502D\", \"#4D8947\", \"#CCA645\")\n",
    "\n",
    "my_comp <- list(c(\"BA.5 BTI + XBB infection\", \"BA.5 BTI + HK.3 infection\"),c(\"BA.5 BTI + JN.1 infection\", \"BA.5 BTI + HK.3 infection\"), c(\"BA.5 BTI + XBB infection\", \"BA.5 BTI + JN.1 infection\"))\n",
    "\n",
    "dev.off()\n",
    "\n",
    "df$source <- factor(df$source, levels=sources)\n",
    "df_summary <- df %>%\n",
    "  group_by(source) %>%\n",
    "  summarise(count = n(), medianH=median(v_domain_shm_ratio_H), medianL=median(v_domain_shm_ratio_L)) \n",
    "\n",
    "pdf(paste0(\"../plots/Figure4_related/SHM_HL_A1_all_src.pdf\"), width=5.5, height=3)\n",
    "ggplot(df, aes(x = source, y = v_domain_shm_ratio_H, fill = source, color = source)) +\n",
    "  geom_violin(trim = FALSE, alpha=0.5,scale = \"width\", width=0.8) +\n",
    "  geom_boxplot(width = 0.2, fill='white') +\n",
    "  labs(y = \"Heavy chain V-domain SHM rate\", x = \"reactivity\") +\n",
    "  theme_classic() +  scale_fill_manual(values=colors)+\n",
    "  scale_color_manual(values=colors)+scale_y_continuous(expand=c(0,0,0,0.06))+\n",
    "  stat_compare_means(comparisons = my_comp, method = \"wilcox.test\", label = \"p.signif\", label.y = 0.22, tip.length = 0, step.increase = 0.15) +\n",
    "  geom_text(data = df_summary, aes(label = paste0(\"n=\",count), y = 0.2), color = \"black\")+\n",
    "  geom_text(data = df_summary, aes(label = formatC(medianH, digits = 3, format=\"f\"), y = 0.17), color = \"black\")+\n",
    "  theme(\n",
    "      axis.text.x = element_text(angle=45, hjust=1),\n",
    "      axis.ticks.x = element_blank(),\n",
    "      axis.title.x = element_blank(),\n",
    "  )\n",
    "ggplot(df, aes(x = source, y = v_domain_shm_ratio_L, fill = source, color = source)) +\n",
    "  geom_violin(trim = FALSE, alpha=0.5,scale = \"width\", width=0.8) +\n",
    "  geom_boxplot(width = 0.2, fill='white') +\n",
    "  labs(y = \"Light chain V-domain SHM rate\", x = \"reactivity\") +\n",
    "  theme_classic() +  scale_fill_manual(values=colors)+\n",
    "  scale_color_manual(values=colors)+scale_y_continuous(expand=c(0,0,0,0.06))+\n",
    "  stat_compare_means(comparisons = my_comp, method = \"wilcox.test\", label = \"p.signif\", label.y = 0.22, tip.length = 0, step.increase = 0.15) +\n",
    "  geom_text(data = df_summary, aes(label = paste0(\"n=\",count), y = 0.2), color = \"black\")+\n",
    "  geom_text(data = df_summary, aes(label = formatC(medianL, digits = 3, format=\"f\"), y = 0.17), color = \"black\")+\n",
    "  theme(\n",
    "      axis.text.x = element_text(angle=45, hjust=1),\n",
    "      axis.ticks.x = element_blank(),\n",
    "      axis.title.x = element_blank(),\n",
    "  )\n",
    "dev.off()"
   ]
  },
  {
   "cell_type": "code",
   "execution_count": 193,
   "id": "2ae3d942-f6bb-4400-a584-2708a1ce2ed6",
   "metadata": {
    "vscode": {
     "languageId": "r"
    }
   },
   "outputs": [
    {
     "data": {
      "text/html": [
       "<strong>pdf:</strong> 3"
      ],
      "text/latex": [
       "\\textbf{pdf:} 3"
      ],
      "text/markdown": [
       "**pdf:** 3"
      ],
      "text/plain": [
       "pdf \n",
       "  3 "
      ]
     },
     "metadata": {},
     "output_type": "display_data"
    },
    {
     "name": "stderr",
     "output_type": "stream",
     "text": [
      "Warning message in wilcox.test.default(c(0.0627, 0.0728, 0.0486, 0.0739, 0.0741, :\n",
      "“cannot compute exact p-value with ties”\n",
      "Warning message in wilcox.test.default(c(0.0531, 0.0585, 0.0528, 0.0516, 0.0313, :\n",
      "“cannot compute exact p-value with ties”\n"
     ]
    },
    {
     "data": {
      "text/html": [
       "<strong>pdf:</strong> 3"
      ],
      "text/latex": [
       "\\textbf{pdf:} 3"
      ],
      "text/markdown": [
       "**pdf:** 3"
      ],
      "text/plain": [
       "pdf \n",
       "  3 "
      ]
     },
     "metadata": {},
     "output_type": "display_data"
    }
   ],
   "source": [
    "# group SHM for A1 all sources\n",
    "library(ggplot2)\n",
    "library(tidyverse)\n",
    "library(ggsignif)\n",
    "library(ggpubr)\n",
    "\n",
    "sources <- c(\"BA.5 BTI + XBB infection\", \"BA.5 BTI + HK.3 infection\", \"BA.5 BTI + JN.1 infection\")\n",
    "df <- read.csv(\"../data/DMS/antibody/_clustering.csv\") %>% filter(source %in% sources & paper_reactivity == \"cross\" & new_group == 'A1')\n",
    "colors <- c(\"#BE502D\", \"#4D8947\", \"#CCA645\")\n",
    "\n",
    "my_comp <- list(c(\"BA.5 BTI + XBB infection\", \"BA.5 BTI + HK.3 infection\"),c(\"BA.5 BTI + JN.1 infection\", \"BA.5 BTI + HK.3 infection\"), c(\"BA.5 BTI + XBB infection\", \"BA.5 BTI + JN.1 infection\"))\n",
    "\n",
    "dev.off()\n",
    "\n",
    "df$source <- factor(df$source, levels=sources)\n",
    "df_summary <- df %>%\n",
    "  group_by(source) %>%\n",
    "  summarise(count = n(), medianH=median(v_domain_shm_ratio_H), medianL=median(v_domain_shm_ratio_L)) \n",
    "\n",
    "pdf(paste0(\"../plots/Figure4_related/SHM_HL_A1.pdf\"), width=4, height=3)\n",
    "ggplot(df, aes(x = source, y = v_domain_shm_ratio_H, fill = source, color = source)) +\n",
    "  geom_violin(trim = FALSE, alpha=0.5,scale = \"width\", width=0.8) +\n",
    "  geom_boxplot(width = 0.2, fill='white') +\n",
    "  labs(y = \"Heavy chain V-domain SHM rate\", x = \"reactivity\") +\n",
    "  theme_classic() +  scale_fill_manual(values=colors)+\n",
    "  scale_color_manual(values=colors)+scale_y_continuous(expand=c(0,0,0,0.06))+\n",
    "  stat_compare_means(comparisons = my_comp, method = \"wilcox.test\", label = \"p.signif\", label.y = 0.22, tip.length = 0, step.increase = 0.15) +\n",
    "  geom_text(data = df_summary, aes(label = paste0(\"n=\",count), y = 0.2), color = \"black\")+\n",
    "  geom_text(data = df_summary, aes(label = formatC(medianH, digits = 3, format=\"f\"), y = 0.17), color = \"black\")+\n",
    "  theme(\n",
    "      axis.text.x = element_text(angle=45, hjust=1),\n",
    "      axis.ticks.x = element_blank(),\n",
    "      axis.title.x = element_blank(),\n",
    "  )\n",
    "ggplot(df, aes(x = source, y = v_domain_shm_ratio_L, fill = source, color = source)) +\n",
    "  geom_violin(trim = FALSE, alpha=0.5,scale = \"width\", width=0.8) +\n",
    "  geom_boxplot(width = 0.2, fill='white') +\n",
    "  labs(y = \"Light chain V-domain SHM rate\", x = \"reactivity\") +\n",
    "  theme_classic() +  scale_fill_manual(values=colors)+\n",
    "  scale_color_manual(values=colors)+scale_y_continuous(expand=c(0,0,0,0.06))+\n",
    "  stat_compare_means(comparisons = my_comp, method = \"wilcox.test\", label = \"p.signif\", label.y = 0.22, tip.length = 0, step.increase = 0.15) +\n",
    "  geom_text(data = df_summary, aes(label = paste0(\"n=\",count), y = 0.2), color = \"black\")+\n",
    "  geom_text(data = df_summary, aes(label = formatC(medianL, digits = 3, format=\"f\"), y = 0.17), color = \"black\")+\n",
    "  theme(\n",
    "      axis.text.x = element_text(angle=45, hjust=1),\n",
    "      axis.ticks.x = element_blank(),\n",
    "      axis.title.x = element_blank(),\n",
    "  )\n",
    "dev.off()"
   ]
  },
  {
   "cell_type": "code",
   "execution_count": 194,
   "id": "fce73906-03bb-49f3-abb2-2dd703625b42",
   "metadata": {
    "tags": [],
    "vscode": {
     "languageId": "r"
    }
   },
   "outputs": [
    {
     "data": {
      "text/html": [
       "<strong>pdf:</strong> 3"
      ],
      "text/latex": [
       "\\textbf{pdf:} 3"
      ],
      "text/markdown": [
       "**pdf:** 3"
      ],
      "text/plain": [
       "pdf \n",
       "  3 "
      ]
     },
     "metadata": {},
     "output_type": "display_data"
    },
    {
     "data": {
      "text/html": [
       "<strong>pdf:</strong> 2"
      ],
      "text/latex": [
       "\\textbf{pdf:} 2"
      ],
      "text/markdown": [
       "**pdf:** 2"
      ],
      "text/plain": [
       "pdf \n",
       "  2 "
      ]
     },
     "metadata": {},
     "output_type": "display_data"
    },
    {
     "data": {
      "text/html": [
       "<strong>pdf:</strong> 2"
      ],
      "text/latex": [
       "\\textbf{pdf:} 2"
      ],
      "text/markdown": [
       "**pdf:** 2"
      ],
      "text/plain": [
       "pdf \n",
       "  2 "
      ]
     },
     "metadata": {},
     "output_type": "display_data"
    }
   ],
   "source": [
    "# B/D3 SHM\n",
    "library(ggplot2)\n",
    "library(tidyverse)\n",
    "library(ggsignif)\n",
    "library(ggpubr)\n",
    "\n",
    "use_groups <- c(\"B\",\"D3\")\n",
    "colors <- c(\"cross\"=\"#BC3C29\", \"group_cross\"=\"#BC3C29\", \"group_specific\"=\"#0072B5\", \"specific\"=\"#0072B5\")\n",
    "sources <- c(\"BA.5 BTI + XBB infection\", \"BA.5 BTI + HK.3 infection\", \"BA.5 BTI + JN.1 infection\")\n",
    "data <- read.csv(\"../data/DMS/antibody/_clustering.csv\") %>% filter(source %in% sources)\n",
    "\n",
    "comparisons <- list(c(\"cross\", \"group_cross\"),c(\"group_cross\", \"group_specific\"),c(\"specific\", \"group_specific\"))\n",
    "\n",
    "dev.off()\n",
    "\n",
    "for (use_group in use_groups) {\n",
    "    df <- rbind(data,\n",
    "            data %>% filter(paper_reactivity == \"cross\" & new_group == use_group) %>% mutate(paper_reactivity = \"group_cross\"), \n",
    "            data %>% filter(paper_reactivity == \"specific\" & new_group == use_group) %>% mutate(paper_reactivity = \"group_specific\"))\n",
    "\n",
    "    df$source <- factor(df$source, levels=sources)\n",
    "    df_summary <- df %>%\n",
    "      group_by(paper_reactivity) %>%\n",
    "      summarise(count = n()) \n",
    "    df_summary$paper_reactivity <- factor(df_summary$paper_reactivity, levels=names(colors))\n",
    "    pdf(paste0(\"../plots/Figure4_related/SHM_H_\",use_group,\".pdf\"), width=3.5, height=3)\n",
    "    print(ggplot(df, aes(x = paper_reactivity, y = v_domain_shm_ratio_H, fill = paper_reactivity, color = paper_reactivity)) +\n",
    "      # geom_violin(trim = FALSE, alpha=0.5,scale = \"width\", width=0.8) +\n",
    "      geom_boxplot(width = 0.6, fill='white') +\n",
    "      labs(y = \"Heavy chain V-domain SHM rate\", x = \"reactivity\") +\n",
    "      theme_classic() +  scale_fill_manual(values=colors)+\n",
    "      scale_color_manual(values=colors)+scale_y_continuous(expand=c(0,0,0,0.06))+\n",
    "      stat_compare_means(comparisons = comparisons, method = \"wilcox.test\", label = \"p.signif\", tip.length = 0) +\n",
    "      geom_text(data = df_summary, aes(label = count, y = 0.2), \n",
    "                vjust = 1.5, color = \"black\")+\n",
    "      theme(\n",
    "          axis.text.x = element_text(angle=45, hjust=1),\n",
    "          axis.ticks.x = element_blank(),\n",
    "          axis.title.x = element_blank(),\n",
    "      ))\n",
    "    print(ggplot(df, aes(x = paper_reactivity, y = v_domain_shm_ratio_L, fill = paper_reactivity, color = paper_reactivity)) +\n",
    "      # geom_violin(trim = FALSE, alpha=0.5,scale = \"width\", width=0.8) +\n",
    "      geom_boxplot(width = 0.6, fill='white') +\n",
    "      labs(y = \"Light chain V-domain SHM rate\", x = \"reactivity\") +\n",
    "      theme_classic() +  scale_fill_manual(values=colors)+\n",
    "      scale_color_manual(values=colors)+scale_y_continuous(expand=c(0,0,0,0.06))+\n",
    "      stat_compare_means(comparisons = comparisons, method = \"wilcox.test\", label = \"p.signif\", tip.length = 0) +\n",
    "      geom_text(data = df_summary, aes(label = count, y = 0.2), \n",
    "                vjust = 1.5, color = \"black\")+\n",
    "      theme(\n",
    "          axis.text.x = element_text(angle=45, hjust=1),\n",
    "          axis.ticks.x = element_blank(),\n",
    "          axis.title.x = element_blank(),\n",
    "      ))\n",
    "}\n",
    "dev.off()\n",
    "\n",
    "df <- rbind(data,\n",
    "        data %>% filter(paper_reactivity == \"cross\" & new_group %in% use_groups) %>% mutate(paper_reactivity = \"group_cross\"), \n",
    "        data %>% filter(paper_reactivity == \"specific\" & new_group %in% use_groups) %>% mutate(paper_reactivity = \"group_specific\"))\n",
    "\n",
    "df$source <- factor(df$source, levels=sources)\n",
    "df_summary <- df %>%\n",
    "  group_by(paper_reactivity) %>%\n",
    "  summarise(count = n()) \n",
    "df_summary$paper_reactivity <- factor(df_summary$paper_reactivity, levels=names(colors))\n",
    "pdf(paste0(\"../plots/Figure4_related/SHM_H_B+D3.pdf\"), width=3.5, height=3)\n",
    "print(ggplot(df, aes(x = paper_reactivity, y = v_domain_shm_ratio_H, fill = paper_reactivity, color = paper_reactivity)) +\n",
    "  geom_violin(trim = FALSE, alpha=0.5,scale = \"width\", width=0.8) +\n",
    "  geom_boxplot(width = 0.2, fill='white') +\n",
    "  labs(y = \"Heavy chain V-domain SHM rate\", x = \"reactivity\") +\n",
    "  theme_classic() +  scale_fill_manual(values=colors)+\n",
    "  scale_color_manual(values=colors)+scale_y_continuous(expand=c(0,0,0,0.06))+\n",
    "  stat_compare_means(comparisons = comparisons, method = \"wilcox.test\", label = \"p.signif\", tip.length = 0) +\n",
    "  geom_text(data = df_summary, aes(label = count, y = 0.2), \n",
    "            vjust = 1.5, color = \"black\")+\n",
    "  theme(\n",
    "      axis.text.x = element_text(angle=45, hjust=1),\n",
    "      axis.ticks.x = element_blank(),\n",
    "      axis.title.x = element_blank(),\n",
    "  ))\n",
    "print(ggplot(df, aes(x = paper_reactivity, y = v_domain_shm_ratio_L, fill = paper_reactivity, color = paper_reactivity)) +\n",
    "  geom_violin(trim = FALSE, alpha=0.5,scale = \"width\", width=0.8) +\n",
    "  geom_boxplot(width = 0.2, fill='white') +\n",
    "  labs(y = \"Light chain V-domain SHM rate\", x = \"reactivity\") +\n",
    "  theme_classic() +  scale_fill_manual(values=colors)+\n",
    "  scale_color_manual(values=colors)+scale_y_continuous(expand=c(0,0,0,0.06))+\n",
    "  stat_compare_means(comparisons = comparisons, method = \"wilcox.test\", label = \"p.signif\", tip.length = 0) +\n",
    "  geom_text(data = df_summary, aes(label = count, y = 0.2), \n",
    "            vjust = 1.5, color = \"black\")+\n",
    "  theme(\n",
    "      axis.text.x = element_text(angle=45, hjust=1),\n",
    "      axis.ticks.x = element_blank(),\n",
    "      axis.title.x = element_blank(),\n",
    "  ))\n",
    "dev.off()"
   ]
  },
  {
   "cell_type": "code",
   "execution_count": 195,
   "id": "4173f380-4be2-431e-9de8-160e11d7a69e",
   "metadata": {
    "tags": [],
    "vscode": {
     "languageId": "r"
    }
   },
   "outputs": [
    {
     "data": {
      "text/html": [
       "<strong>pdf:</strong> 3"
      ],
      "text/latex": [
       "\\textbf{pdf:} 3"
      ],
      "text/markdown": [
       "**pdf:** 3"
      ],
      "text/plain": [
       "pdf \n",
       "  3 "
      ]
     },
     "metadata": {},
     "output_type": "display_data"
    }
   ],
   "source": [
    "# JN.1 effective VDJ\n",
    "\n",
    "df <- read.csv(\"../data/DMS/antibody/_clustering.csv\") %>% filter(v_gene_H != \"\" & v_gene_L != \"\") %>% filter(source %in% c(\"XBB infection\", \"XBB BTI\", \"BA.5 + XBB infection\", \"BA.5 + JN.1 infection\", \"BA.5 BTI + XBB infection\", \"BA.5 BTI + HK.3 infection\", \"BA.5 BTI + JN.1 infection\"))\n",
    "\n",
    "\n",
    "df <- rbind(\n",
    "    df %>% filter(JN1_IC50 < 1) %>% mutate(eff = \"effective\"),\n",
    "    df %>% filter(JN1_IC50 > 1) %>% mutate(eff = \"escaped\")\n",
    ")\n",
    "sources <- c(\"BA.5 BTI + XBB infection\", \"BA.5 BTI + HK.3 infection\", \"BA.5 BTI + JN.1 infection\")\n",
    "groups <- unique(df$new_group)\n",
    "\n",
    "dev.off()\n",
    "\n",
    "for (group in groups) {\n",
    "    \n",
    "    for (use_eff in c(\"effective\", \"escaped\")) {\n",
    "        pdf(paste0(\"../plots/Figure4_related/VDJ_by_group_JN1/VDJ_chord_plots\",\"_group_\",str_replace(group,\"/\",\"_\"),'_',use_eff,\".pdf\"))\n",
    "        # all mAbs\n",
    "\n",
    "        df_m <- df %>% filter(new_group == group & eff == use_eff)\n",
    "        if (nrow(df_m) == 0) next\n",
    "        chord_plot(df_m, title=paste0(\"All \",group, \" (n = \", nrow(df_m), \")\"))\n",
    "\n",
    "        for (src in sources) {\n",
    "            df_m <- df %>% filter(source == src & new_group == group & eff == use_eff)\n",
    "            if (nrow(df_m) == 0) next\n",
    "            chord_plot(df_m, title=paste0(src, ' ', group, ' (n = ', nrow(df_m), ')'))\n",
    "        }\n",
    "        dev.off()\n",
    "    }\n",
    "}\n"
   ]
  },
  {
   "cell_type": "code",
   "execution_count": 196,
   "id": "47718a2b-8d31-4a3d-94b6-517ae3da52b7",
   "metadata": {
    "tags": [],
    "vscode": {
     "languageId": "r"
    }
   },
   "outputs": [
    {
     "data": {
      "text/html": [
       "<strong>pdf:</strong> 3"
      ],
      "text/latex": [
       "\\textbf{pdf:} 3"
      ],
      "text/markdown": [
       "**pdf:** 3"
      ],
      "text/plain": [
       "pdf \n",
       "  3 "
      ]
     },
     "metadata": {},
     "output_type": "display_data"
    }
   ],
   "source": [
    "# JN.1 effective VDJ\n",
    "\n",
    "df <- read.csv(\"../data/DMS/antibody/_clustering.csv\") %>% filter(v_gene_H != \"\" & v_gene_L != \"\") %>% filter(source %in% c(\"XBB infection\", \"XBB BTI\", \"BA.5 + XBB infection\", \"BA.5 + JN.1 infection\", \"BA.5 BTI + XBB infection\", \"BA.5 BTI + HK.3 infection\", \"BA.5 BTI + JN.1 infection\"))\n",
    "\n",
    "\n",
    "df <- rbind(\n",
    "    df %>% filter(KP3_IC50 < 1) %>% mutate(eff = \"effective\"),\n",
    "    df %>% filter(KP3_IC50 > 1) %>% mutate(eff = \"escaped\")\n",
    ")\n",
    "sources <- c(\"BA.5 BTI + XBB infection\", \"BA.5 BTI + HK.3 infection\", \"BA.5 BTI + JN.1 infection\")\n",
    "groups <- unique(df$new_group)\n",
    "\n",
    "dev.off()\n",
    "\n",
    "for (group in groups) {\n",
    "    \n",
    "    for (use_eff in c(\"effective\", \"escaped\")) {\n",
    "        pdf(paste0(\"../plots/Figure4_related/VDJ_by_group_KP3/VDJ_chord_plots\",\"_group_\",str_replace(group,\"/\",\"_\"),'_',use_eff,\".pdf\"))\n",
    "        # all mAbs\n",
    "\n",
    "        df_m <- df %>% filter(new_group == group & eff == use_eff)\n",
    "        if (nrow(df_m) == 0) next\n",
    "        chord_plot(df_m, title=paste0(\"All \",group, \" (n = \", nrow(df_m), \")\"))\n",
    "\n",
    "        for (src in sources) {\n",
    "            df_m <- df %>% filter(source == src & new_group == group & eff == use_eff)\n",
    "            if (nrow(df_m) == 0) next\n",
    "            chord_plot(df_m, title=paste0(src, ' ', group, ' (n = ', nrow(df_m), ')'))\n",
    "        }\n",
    "        dev.off()\n",
    "    }\n",
    "}\n"
   ]
  },
  {
   "cell_type": "code",
   "execution_count": 197,
   "id": "baea6f31-e6ef-485b-9090-3990e8bb99a3",
   "metadata": {
    "tags": [],
    "vscode": {
     "languageId": "r"
    }
   },
   "outputs": [
    {
     "data": {
      "text/html": [
       "<strong>pdf:</strong> 3"
      ],
      "text/latex": [
       "\\textbf{pdf:} 3"
      ],
      "text/markdown": [
       "**pdf:** 3"
      ],
      "text/plain": [
       "pdf \n",
       "  3 "
      ]
     },
     "metadata": {},
     "output_type": "display_data"
    }
   ],
   "source": [
    "# cross-specific VDJ\n",
    "# add two groups: merge BTI & merge non-BTI\n",
    "\n",
    "sources <- c(\"XBB infection\", \"XBB BTI\", \"BA.5 + XBB infection\", \"BA.5 + JN.1 infection\", \"BA.5 BTI + XBB infection\", \"BA.5 BTI + HK.3 infection\", \"BA.5 BTI + JN.1 infection\")\n",
    "src2g <- c(\n",
    "    \"XBB infection\"=\"non-BTI\", \n",
    "    \"XBB BTI\"=\"BTI\", \n",
    "    \"BA.5 + XBB infection\"=\"non-BTI\", \n",
    "    \"BA.5 + JN.1 infection\"=\"non-BTI\", \n",
    "    \"BA.5 BTI + XBB infection\"=\"BTI\", \n",
    "    \"BA.5 BTI + HK.3 infection\"=\"BTI\", \n",
    "    \"BA.5 BTI + JN.1 infection\"=\"BTI\")\n",
    "df <- read.csv(\"../data/DMS/antibody/_clustering.csv\") %>% filter(v_gene_H != \"\" & v_gene_L != \"\") %>% filter(source %in% sources)\n",
    "groups <- unique(df$new_group)\n",
    "df$sg <- src2g[df$source]\n",
    "\n",
    "dev.off()\n",
    "\n",
    "for (group in groups) {\n",
    "    for (use_eff in c(\"cross\", \"specific\")) {\n",
    "        pdf(paste0(\"../plots/Figure4_related/VDJ_by_group_cross_specific/VDJ_chord_plots\",\"_group_\",str_replace(group,\"/\",\"_\"),'_',use_eff,\".pdf\"))\n",
    "        # all mAbs\n",
    "\n",
    "        df_m <- df %>% filter(new_group == group & paper_reactivity == use_eff)\n",
    "        if (nrow(df_m) == 0) next\n",
    "        chord_plot(df_m, title=paste0(\"All \",group, \" (n = \", nrow(df_m), \")\"))\n",
    "\n",
    "        for (src in c(\"BTI\", \"non-BTI\")) {\n",
    "            df_m <- df %>% filter(sg == src & new_group == group & paper_reactivity == use_eff)\n",
    "            if (nrow(df_m) == 0) next\n",
    "            chord_plot(df_m, title=paste0(src, ' ', group, ' (n = ', nrow(df_m), ')'), min_anno = 1)\n",
    "        }\n",
    "        for (src in sources) {\n",
    "            df_m <- df %>% filter(source == src & new_group == group & paper_reactivity == use_eff)\n",
    "            if (nrow(df_m) == 0) next\n",
    "            chord_plot(df_m, title=paste0(src, ' ', group, ' (n = ', nrow(df_m), ')'))\n",
    "        }\n",
    "        dev.off()\n",
    "    }\n",
    "}\n"
   ]
  },
  {
   "cell_type": "code",
   "execution_count": 211,
   "id": "a334ef1f-1f03-48c1-8af5-bf31958ff492",
   "metadata": {
    "tags": [],
    "vscode": {
     "languageId": "r"
    }
   },
   "outputs": [
    {
     "data": {
      "text/html": [
       "<strong>pdf:</strong> 3"
      ],
      "text/latex": [
       "\\textbf{pdf:} 3"
      ],
      "text/markdown": [
       "**pdf:** 3"
      ],
      "text/plain": [
       "pdf \n",
       "  3 "
      ]
     },
     "metadata": {},
     "output_type": "display_data"
    },
    {
     "data": {
      "text/html": [
       "<strong>pdf:</strong> 3"
      ],
      "text/latex": [
       "\\textbf{pdf:} 3"
      ],
      "text/markdown": [
       "**pdf:** 3"
      ],
      "text/plain": [
       "pdf \n",
       "  3 "
      ]
     },
     "metadata": {},
     "output_type": "display_data"
    }
   ],
   "source": [
    "# VDJ for A1 breadth\n",
    "sources <- c(\"XBB infection\", \"XBB BTI\", \"BA.5 + XBB infection\", \"BA.5 + JN.1 infection\", \"BA.5 BTI + XBB infection\", \"BA.5 BTI + HK.3 infection\", \"BA.5 BTI + JN.1 infection\")\n",
    "df <- read.csv(\"../data/DMS/antibody/_clustering.csv\") %>% \n",
    "    filter(source %in% sources & new_group == \"A1\" & paper_reactivity == \"cross\") %>%\n",
    "    merge(read.csv(\"../data/_A1_breadth.csv\")%>%select(c('id', 'breadth')), by='id', all.x=T)\n",
    "\n",
    "l1 <- length(unique(df$v_gene_H))\n",
    "l2 <- length(unique(df$v_gene_L))\n",
    "l3 <- length(unique(df$d_gene_H))\n",
    "l4 <- length(unique(df$j_gene_H))\n",
    "\n",
    "library(RColorBrewer)\n",
    "\n",
    "all_colors <- unique(c(\n",
    "    brewer.pal(n=9, name='Set1'),brewer.pal(n=8, name='Set2'),brewer.pal(n=11, name='Set3'),\n",
    "    brewer.pal(n=9, name='Pastel1'), brewer.pal(n=8, name='Pastel2'), brewer.pal(n=11, name='Paired'), \n",
    "    brewer.pal(n=8, name='Dark2'), brewer.pal(n=8, name='Accent')\n",
    "))\n",
    "\n",
    "col1 <- all_colors[1:l1]\n",
    "names(col1) <- unique(df$v_gene_H)\n",
    "col2 <- all_colors[(l1+1):(l1+l2)]\n",
    "names(col2) <- unique(df$v_gene_L)\n",
    "col3 <- all_colors[(l1+l2+1):(l1+l2+l3)]\n",
    "names(col3) <- unique(df$d_gene_H)\n",
    "col4 <- all_colors[(l1+l2+l3+1):(l1+l2+l3+l4)]\n",
    "names(col4) <- unique(df$j_gene_H)\n",
    "\n",
    "\n",
    "dev.off()\n",
    "pdf(\"../plots/Extended/A1_breadth_V.pdf\", width=4.8, height=4.8)\n",
    "\n",
    "df_broad <- df%>%filter(breadth == 'broad' & v_gene_H != \"\" & v_gene_L != \"\")\n",
    "df_escaped <- df%>%filter(breadth == 'escaped' & v_gene_H != \"\" & v_gene_L != \"\")\n",
    "\n",
    "chord_plot(df_broad, title=paste0('A1 broad (', nrow(df_broad), ' mAbs)'), col1=col1,col2=col2, min_anno = 3)\n",
    "chord_plot(df_escaped, title=paste0('A1 escaped (', nrow(df%>%filter(breadth == 'escaped')), ' mAbs)'), col1=col1,col2=col2, min_anno = 3)\n",
    "\n",
    "df_broad <- df%>%filter(breadth == 'broad' & v_gene_H != \"\" & d_gene_H != \"\")\n",
    "df_escaped <- df%>%filter(breadth == 'escaped' & v_gene_H != \"\" & d_gene_H != \"\")\n",
    "\n",
    "df_broad$v_gene_L <- df_broad$d_gene_H\n",
    "df_escaped$v_gene_L <- df_escaped$d_gene_H\n",
    "\n",
    "chord_plot(df_broad, title=paste0('A1 broad (', nrow(df_broad), ' mAbs)'), col1=col1,col2=col3, min_anno = 3)\n",
    "chord_plot(df_escaped, title=paste0('A1 escaped (', nrow(df_escaped), ' mAbs)'), col1=col1,col2=col3, min_anno = 3)\n",
    "\n",
    "df_broad <- df%>%filter(breadth == 'broad' & v_gene_H != \"\" & j_gene_H != \"\")\n",
    "df_escaped <- df%>%filter(breadth == 'escaped' & v_gene_H != \"\" & j_gene_H != \"\")\n",
    "\n",
    "df_broad$v_gene_L <- df_broad$j_gene_H\n",
    "df_escaped$v_gene_L <- df_escaped$j_gene_H\n",
    "\n",
    "chord_plot(df_broad, title=paste0('A1 broad (', nrow(df_broad), ' mAbs)'), col1=col1,col2=col4, min_anno = 3)\n",
    "chord_plot(df_escaped, title=paste0('A1 escaped (', nrow(df_escaped), ' mAbs)'), col1=col1,col2=col4, min_anno = 3)\n",
    "dev.off()"
   ]
  },
  {
   "cell_type": "code",
   "execution_count": 212,
   "id": "061a409d-591a-4565-9162-6de9e7d70eec",
   "metadata": {
    "tags": [],
    "vscode": {
     "languageId": "r"
    }
   },
   "outputs": [
    {
     "data": {
      "text/html": [
       "<strong>pdf:</strong> 3"
      ],
      "text/latex": [
       "\\textbf{pdf:} 3"
      ],
      "text/markdown": [
       "**pdf:** 3"
      ],
      "text/plain": [
       "pdf \n",
       "  3 "
      ]
     },
     "metadata": {},
     "output_type": "display_data"
    },
    {
     "data": {
      "text/html": [
       "<strong>pdf:</strong> 3"
      ],
      "text/latex": [
       "\\textbf{pdf:} 3"
      ],
      "text/markdown": [
       "**pdf:** 3"
      ],
      "text/plain": [
       "pdf \n",
       "  3 "
      ]
     },
     "metadata": {},
     "output_type": "display_data"
    }
   ],
   "source": [
    "# group SHM for A1 breadth\n",
    "library(ggplot2)\n",
    "library(tidyverse)\n",
    "library(ggsignif)\n",
    "library(ggpubr)\n",
    "\n",
    "# sources <- c(\"BA.5 BTI + XBB infection\", \"BA.5 BTI + HK.3 infection\", \"BA.5 BTI + JN.1 infection\")\n",
    "# sources <- c(\"XBB infection\", \"XBB BTI\", \"BA.5 + XBB infection\", \"BA.5 + JN.1 infection\")\n",
    "sources <- c(\"XBB infection\", \"XBB BTI\", \"BA.5 + XBB infection\", \"BA.5 + JN.1 infection\", \"BA.5 BTI + XBB infection\", \"BA.5 BTI + HK.3 infection\", \"BA.5 BTI + JN.1 infection\")\n",
    "df <- read.csv(\"../data/DMS/antibody/_clustering.csv\") %>% \n",
    "    filter(source %in% sources & paper_reactivity == \"cross\" & new_group == 'A1') %>% merge(\n",
    "    read.csv(\"../data/_A1_breadth.csv\")[,c('id', 'breadth')], by='id', how='left'\n",
    ")\n",
    "\n",
    "colors <-c(\"broad\"=\"#BC3C29\", \"escaped\"=\"#0072B5\")\n",
    "\n",
    "my_comp <- list(c(\"broad\", \"escaped\"))\n",
    "\n",
    "dev.off()\n",
    "\n",
    "df_summary <- df %>%\n",
    "  group_by(breadth) %>%\n",
    "  summarise(count = n(), medianH=median(v_domain_shm_ratio_H), medianL=median(v_domain_shm_ratio_L)) \n",
    "\n",
    "pdf(paste0(\"../plots/Extended/SHM_A1_breadth.pdf\"), width=3, height=3)\n",
    "ggplot(df, aes(x = breadth, y = v_domain_shm_ratio_H, fill = breadth, color = breadth)) +\n",
    "  geom_violin(trim = FALSE, alpha=0.5,scale = \"width\", width=0.8) +\n",
    "  geom_boxplot(width = 0.2, fill='white') +\n",
    "  labs(y = \"Heavy chain V-domain SHM rate\", x = \"reactivity\") +\n",
    "  theme_classic() +  scale_fill_manual(values=colors)+\n",
    "  scale_color_manual(values=colors)+scale_y_continuous(expand=c(0,0,0,0.06))+\n",
    "  stat_compare_means(comparisons = my_comp, method = \"wilcox.test\", label = \"p.format\", label.y = 0.22, tip.length = 0, step.increase = 0.15) +\n",
    "  geom_text(data = df_summary, aes(label = paste0(\"n=\",count), y = 0.2), color = \"black\")+\n",
    "  geom_text(data = df_summary, aes(label = formatC(medianH, digits = 3, format=\"f\"), y = 0.17), color = \"black\")+\n",
    "  theme(\n",
    "      axis.text.x = element_text(angle=45, hjust=1),\n",
    "      axis.ticks.x = element_blank(),\n",
    "      axis.title.x = element_blank(),\n",
    "  )\n",
    "ggplot(df, aes(x = breadth, y = v_domain_shm_ratio_L, fill = breadth, color = breadth)) +\n",
    "  geom_violin(trim = FALSE, alpha=0.5,scale = \"width\", width=0.8) +\n",
    "  geom_boxplot(width = 0.2, fill='white') +\n",
    "  labs(y = \"Light chain V-domain SHM rate\", x = \"reactivity\") +\n",
    "  theme_classic() +  scale_fill_manual(values=colors)+\n",
    "  scale_color_manual(values=colors)+scale_y_continuous(expand=c(0,0,0,0.06))+\n",
    "  stat_compare_means(comparisons = my_comp, method = \"wilcox.test\", label = \"p.format\", label.y = 0.22, tip.length = 0, step.increase = 0.15) +\n",
    "  geom_text(data = df_summary, aes(label = paste0(\"n=\",count), y = 0.2), color = \"black\")+\n",
    "  geom_text(data = df_summary, aes(label = formatC(medianL, digits = 3, format=\"f\"), y = 0.17), color = \"black\")+\n",
    "  theme(\n",
    "      axis.text.x = element_text(angle=45, hjust=1),\n",
    "      axis.ticks.x = element_blank(),\n",
    "      axis.title.x = element_blank(),\n",
    "  )\n",
    "dev.off()"
   ]
  },
  {
   "cell_type": "code",
   "execution_count": 200,
   "id": "57a3a7b8-b17d-4f65-b80e-df53eb15c1af",
   "metadata": {
    "tags": [],
    "vscode": {
     "languageId": "r"
    }
   },
   "outputs": [
    {
     "data": {
      "text/html": [
       "<strong>pdf:</strong> 3"
      ],
      "text/latex": [
       "\\textbf{pdf:} 3"
      ],
      "text/markdown": [
       "**pdf:** 3"
      ],
      "text/plain": [
       "pdf \n",
       "  3 "
      ]
     },
     "metadata": {},
     "output_type": "display_data"
    },
    {
     "data": {
      "text/html": [
       "<strong>pdf:</strong> 3"
      ],
      "text/latex": [
       "\\textbf{pdf:} 3"
      ],
      "text/markdown": [
       "**pdf:** 3"
      ],
      "text/plain": [
       "pdf \n",
       "  3 "
      ]
     },
     "metadata": {},
     "output_type": "display_data"
    }
   ],
   "source": [
    "# group SHM for F3 source\n",
    "library(ggplot2)\n",
    "library(tidyverse)\n",
    "library(ggsignif)\n",
    "library(ggpubr)\n",
    "\n",
    "sources <- c(\"BA.5 BTI + XBB infection\", \"BA.5 BTI + HK.3 infection\", \"BA.5 BTI + JN.1 infection\")\n",
    "df <- read.csv(\"../data/DMS/antibody/_clustering.csv\") %>% filter(source %in% sources & paper_reactivity == \"specific\" & new_group == 'F3')\n",
    "df$source <- factor(df$source, levels=sources)\n",
    "colors <- c(\"#EE6439\", \"#60AB59\", \"#FFCF56\", '#AA2055',\"#7193E2\")\n",
    "my_comp <- list(c(\"BA.5 BTI + XBB infection\", \"BA.5 BTI + HK.3 infection\"),c(\"BA.5 BTI + JN.1 infection\", \"BA.5 BTI + HK.3 infection\"), c(\"BA.5 BTI + XBB infection\", \"BA.5 BTI + JN.1 infection\"))\n",
    "\n",
    "dev.off()\n",
    "\n",
    "df_summary <- df %>%\n",
    "  group_by(source) %>%\n",
    "  summarise(count = n(), medianH=median(v_domain_shm_ratio_H), medianL=median(v_domain_shm_ratio_L)) \n",
    "\n",
    "pdf(paste0(\"../plots/Figure5_related/SHM_F3_source.pdf\"), width=4, height=3)\n",
    "ggplot(df, aes(x = source, y = v_domain_shm_ratio_H, fill = source, color = source)) +\n",
    "  geom_violin(trim = FALSE, alpha=0.5,scale = \"width\", width=0.8) +\n",
    "  geom_boxplot(width = 0.2, fill='white') +\n",
    "  labs(y = \"Heavy chain V-domain SHM rate\", x = \"reactivity\") +\n",
    "  theme_classic() +  scale_fill_manual(values=colors)+\n",
    "  scale_color_manual(values=colors)+scale_y_continuous(expand=c(0,0,0,0.06))+\n",
    "  stat_compare_means(comparisons = my_comp, method = \"wilcox.test\", label = \"p.format\", label.y = 0.22, tip.length = 0, step.increase = 0.15) +\n",
    "  geom_text(data = df_summary, aes(label = paste0(\"n=\",count), y = 0.2), color = \"black\")+\n",
    "  geom_text(data = df_summary, aes(label = formatC(medianH, digits = 3, format=\"f\"), y = 0.17), color = \"black\")+\n",
    "  theme(\n",
    "      axis.text.x = element_text(angle=45, hjust=1),\n",
    "      axis.ticks.x = element_blank(),\n",
    "      axis.title.x = element_blank(),\n",
    "  )\n",
    "ggplot(df, aes(x = source, y = v_domain_shm_ratio_L, fill = source, color = source)) +\n",
    "  geom_violin(trim = FALSE, alpha=0.5,scale = \"width\", width=0.8) +\n",
    "  geom_boxplot(width = 0.2, fill='white') +\n",
    "  labs(y = \"Light chain V-domain SHM rate\", x = \"reactivity\") +\n",
    "  theme_classic() +  scale_fill_manual(values=colors)+\n",
    "  scale_color_manual(values=colors)+scale_y_continuous(expand=c(0,0,0,0.06))+\n",
    "  stat_compare_means(comparisons = my_comp, method = \"wilcox.test\", label = \"p.format\", label.y = 0.22, tip.length = 0, step.increase = 0.15) +\n",
    "  geom_text(data = df_summary, aes(label = paste0(\"n=\",count), y = 0.2), color = \"black\")+\n",
    "  geom_text(data = df_summary, aes(label = formatC(medianL, digits = 3, format=\"f\"), y = 0.17), color = \"black\")+\n",
    "  theme(\n",
    "      axis.text.x = element_text(angle=45, hjust=1),\n",
    "      axis.ticks.x = element_blank(),\n",
    "      axis.title.x = element_blank(),\n",
    "  )\n",
    "dev.off()"
   ]
  },
  {
   "cell_type": "code",
   "execution_count": 201,
   "id": "814977a2-5be3-475d-ab80-3bd2762793da",
   "metadata": {
    "tags": [],
    "vscode": {
     "languageId": "r"
    }
   },
   "outputs": [
    {
     "name": "stderr",
     "output_type": "stream",
     "text": [
      "\u001b[1m\u001b[22m`summarise()` has grouped output by 'source'. You can override using the `.groups` argument.\n"
     ]
    },
    {
     "data": {
      "text/html": [
       "<strong>pdf:</strong> 3"
      ],
      "text/latex": [
       "\\textbf{pdf:} 3"
      ],
      "text/markdown": [
       "**pdf:** 3"
      ],
      "text/plain": [
       "pdf \n",
       "  3 "
      ]
     },
     "metadata": {},
     "output_type": "display_data"
    },
    {
     "data": {
      "text/html": [
       "<strong>pdf:</strong> 3"
      ],
      "text/latex": [
       "\\textbf{pdf:} 3"
      ],
      "text/markdown": [
       "**pdf:** 3"
      ],
      "text/plain": [
       "pdf \n",
       "  3 "
      ]
     },
     "metadata": {},
     "output_type": "display_data"
    }
   ],
   "source": [
    "# overall usage\n",
    "\n",
    "sources <- c(\"XBB infection\", \"XBB BTI\", \"BA.5 + XBB infection\", \"BA.5 + JN.1 infection\", \"BA.5 BTI + XBB infection\", \"BA.5 BTI + HK.3 infection\", \"BA.5 BTI + JN.1 infection\")\n",
    "df <- read.csv(\"../data/_mAb_info_clean.csv\") %>% filter(source %in% sources)\n",
    "df$source <- factor(df$source, levels=sources)\n",
    "\n",
    "x <- df%>% group_by(source, v_gene_H) %>% summarise(count=n())\n",
    "x$v_gene_H = factor(x$v_gene_H, levels=(df%>% group_by(v_gene_H) %>% summarise(count=n()) %>% arrange(-count))$v_gene_H)\n",
    "\n",
    "dev.off()\n",
    "pdf(\"../plots/Extended/overall_v_H_usage.pdf\", width=6, height=7)\n",
    "\n",
    "ggplot(x, aes(v_gene_H, count))+facet_wrap(~source, ncol=1, scales = \"free_y\")+geom_bar(stat=\"identity\", fill=NA, color=\"black\")+theme_classic()+\n",
    "    theme(\n",
    "        strip.background = element_blank(),\n",
    "        axis.text.x = element_text(angle=45,hjust=1)\n",
    "    )\n",
    "dev.off()"
   ]
  },
  {
   "cell_type": "code",
   "execution_count": 202,
   "id": "3443810b-c983-4a55-b124-e207e242582b",
   "metadata": {
    "tags": [],
    "vscode": {
     "languageId": "r"
    }
   },
   "outputs": [
    {
     "data": {
      "text/html": [
       "<strong>pdf:</strong> 3"
      ],
      "text/latex": [
       "\\textbf{pdf:} 3"
      ],
      "text/markdown": [
       "**pdf:** 3"
      ],
      "text/plain": [
       "pdf \n",
       "  3 "
      ]
     },
     "metadata": {},
     "output_type": "display_data"
    },
    {
     "name": "stderr",
     "output_type": "stream",
     "text": [
      "Warning message:\n",
      "“Since you have set `order`, you should better set `grid.col` as a named\n",
      "vector where sector names are the vector names (should contain all\n",
      "sectors).”\n"
     ]
    },
    {
     "data": {
      "text/html": [
       "<strong>pdf:</strong> 3"
      ],
      "text/latex": [
       "\\textbf{pdf:} 3"
      ],
      "text/markdown": [
       "**pdf:** 3"
      ],
      "text/plain": [
       "pdf \n",
       "  3 "
      ]
     },
     "metadata": {},
     "output_type": "display_data"
    },
    {
     "name": "stderr",
     "output_type": "stream",
     "text": [
      "Warning message in wilcox.test.default(c(0.0654, 0.0572, 0.0436, 0.0162, 0.0545, :\n",
      "“cannot compute exact p-value with ties”\n"
     ]
    },
    {
     "data": {
      "text/html": [
       "<strong>pdf:</strong> 3"
      ],
      "text/latex": [
       "\\textbf{pdf:} 3"
      ],
      "text/markdown": [
       "**pdf:** 3"
      ],
      "text/plain": [
       "pdf \n",
       "  3 "
      ]
     },
     "metadata": {},
     "output_type": "display_data"
    }
   ],
   "source": [
    "# IGHV5-51 L vs group\n",
    "\n",
    "df <- read.csv(\"../data/DMS/antibody/_clustering.csv\") %>% filter(v_gene_H == \"IGHV5-51\" & v_gene_L != \"\") %>% \n",
    "    filter(source %in% c(\"XBB infection\", \"XBB BTI\", \"BA.5 + XBB infection\", \"BA.5 + JN.1 infection\", \"BA.5 BTI + XBB infection\", \"BA.5 BTI + HK.3 infection\", \"BA.5 BTI + JN.1 infection\"))\n",
    "\n",
    "cb_palette <- c(\n",
    "    \"A1\"=\"#004400\",\"A2\"=\"#237732\",\"B\"=\"#CC3119\",\n",
    "    \"D2\"=\"#33aa11\", \"D3\"=\"#99AA11\",\"D4\"=\"#80A07A\",\n",
    "    \"E1/E2.1\"=\"#664088\", \"E2.2\"='#aa1937', \n",
    "    \"E3\"=\"#5c0a02\", \n",
    "    \"F1.1\"=\"#c58233\", \"F1.2\"=\"#253257\",\n",
    "    \"F3\"=\"#7093c8\"\n",
    ")\n",
    "dev.off()\n",
    "\n",
    "my_comp <- list(c(\"E3\", \"D3\"),c(\"D3\", \"F3\"), c(\"E3\", \"F3\"))\n",
    "pdf(\"../plots/Figure5_related/IGHV5-51_groups.pdf\",width=5, height=5)\n",
    "\n",
    "df_m <- df %>% mutate(v_gene_H = new_group)\n",
    "chord_plot(df_m, title=paste0(\"IGHV5-51 (n = \", nrow(df_m), \")\"), col1=cb_palette, min_anno = 3)\n",
    "dev.off()\n",
    "\n",
    "df <- df %>% filter(new_group %in% c(\"D3\",\"F3\", \"E3\"))\n",
    "df_summary <- df %>%\n",
    "  group_by(new_group) %>%\n",
    "  summarise(count = n(), medianH=median(v_domain_shm_ratio_H), medianL=median(v_domain_shm_ratio_L)) \n",
    "\n",
    "pdf(paste0(\"../plots/Figure5_related/SHM_5-51_group.pdf\"), width=3, height=3)\n",
    "ggplot(df, aes(x = new_group, y = v_domain_shm_ratio_H, fill = new_group, color = new_group)) +\n",
    "  geom_violin(trim = FALSE, alpha=0.5,scale = \"width\", width=0.8) +\n",
    "  geom_boxplot(width = 0.2, fill='white') +\n",
    "  labs(y = \"Heavy chain V-domain SHM rate\", x = \"reactivity\") +\n",
    "  theme_classic() +  scale_fill_manual(values=cb_palette)+\n",
    "  scale_color_manual(values=cb_palette)+scale_y_continuous(expand=c(0,0,0,0.06))+\n",
    "  stat_compare_means(comparisons = my_comp, method = \"wilcox.test\", label = \"p.format\", label.y = 0.22, tip.length = 0, step.increase = 0.15) +\n",
    "  geom_text(data = df_summary, aes(label = paste0(\"n=\",count), y = 0.2), color = \"black\")+\n",
    "  geom_text(data = df_summary, aes(label = formatC(medianH, digits = 3, format=\"f\"), y = 0.17), color = \"black\")+\n",
    "  theme(\n",
    "      axis.text.x = element_text(angle=45, hjust=1),\n",
    "      axis.ticks.x = element_blank(),\n",
    "      axis.title.x = element_blank(),\n",
    "  )\n",
    "\n",
    "dev.off()"
   ]
  },
  {
   "cell_type": "code",
   "execution_count": 203,
   "id": "35a7913c-b9b7-4b8a-9051-ba08383e3168",
   "metadata": {
    "vscode": {
     "languageId": "r"
    }
   },
   "outputs": [
    {
     "name": "stdout",
     "output_type": "stream",
     "text": [
      "[1] \"B\"                    \"BA.5 + XBB infection\" \"cross\"               \n",
      "[1] 3\n",
      "[1] \"B\"                    \"BA.5 + XBB infection\" \"specific\"            \n",
      "[1] 31\n",
      "[1] \"B\"                        \"BA.5 BTI + XBB infection\"\n",
      "[3] \"cross\"                   \n",
      "[1] 4\n",
      "[1] \"B\"                        \"BA.5 BTI + XBB infection\"\n",
      "[3] \"specific\"                \n",
      "[1] 13\n",
      "[1] \"B\"                     \"BA.5 + JN.1 infection\" \"cross\"                \n",
      "[1] 1\n",
      "[1] \"B\"                     \"BA.5 + JN.1 infection\" \"specific\"             \n",
      "[1] 19\n",
      "[1] \"B\"                         \"BA.5 BTI + JN.1 infection\"\n",
      "[3] \"cross\"                    \n",
      "[1] 2\n",
      "[1] \"B\"                         \"BA.5 BTI + JN.1 infection\"\n",
      "[3] \"specific\"                 \n",
      "[1] 22\n",
      "[1] \"D3\"                   \"BA.5 + XBB infection\" \"cross\"               \n",
      "[1] 2\n",
      "[1] \"D3\"                   \"BA.5 + XBB infection\" \"specific\"            \n",
      "[1] 13\n",
      "[1] \"D3\"                       \"BA.5 BTI + XBB infection\"\n",
      "[3] \"cross\"                   \n",
      "[1] 6\n",
      "[1] \"D3\"                       \"BA.5 BTI + XBB infection\"\n",
      "[3] \"specific\"                \n",
      "[1] 15\n",
      "[1] \"D3\"                    \"BA.5 + JN.1 infection\" \"cross\"                \n",
      "[1] 2\n",
      "[1] \"D3\"                    \"BA.5 + JN.1 infection\" \"specific\"             \n",
      "[1] 14\n",
      "[1] \"D3\"                        \"BA.5 BTI + JN.1 infection\"\n",
      "[3] \"cross\"                    \n",
      "[1] 8\n",
      "[1] \"D3\"                        \"BA.5 BTI + JN.1 infection\"\n",
      "[3] \"specific\"                 \n",
      "[1] 33\n"
     ]
    }
   ],
   "source": [
    "# B/D3 cross/specific\n",
    "df <- read.csv(\"../data/DMS/antibody/_clustering.csv\")\n",
    "\n",
    "for (g in c(\"B\", \"D3\")) { \n",
    "    for (src in c(\"BA.5 + XBB infection\", \"BA.5 BTI + XBB infection\", \"BA.5 + JN.1 infection\", \"BA.5 BTI + JN.1 infection\")) {\n",
    "        for (react in c(\"cross\", \"specific\")) {\n",
    "            print(c(g, src, react))\n",
    "            print(\n",
    "                nrow(df %>% filter(source == src & new_group == g & paper_reactivity == react))\n",
    "            )\n",
    "        }\n",
    "    }\n",
    "}"
   ]
  },
  {
   "cell_type": "code",
   "execution_count": 204,
   "id": "ea26fef9-6c6c-48a1-9fef-436d1b7adb02",
   "metadata": {
    "tags": [],
    "vscode": {
     "languageId": "r"
    }
   },
   "outputs": [
    {
     "data": {
      "text/plain": [
       "\n",
       "\tFisher's Exact Test for Count Data\n",
       "\n",
       "data:  matrix(c(3, 31, 4, 13), nrow = 2)\n",
       "p-value = 0.1568\n",
       "alternative hypothesis: true odds ratio is less than 1\n",
       "95 percent confidence interval:\n",
       " 0.000000 1.683551\n",
       "sample estimates:\n",
       "odds ratio \n",
       " 0.3225973 \n"
      ]
     },
     "metadata": {},
     "output_type": "display_data"
    },
    {
     "data": {
      "text/plain": [
       "\n",
       "\tFisher's Exact Test for Count Data\n",
       "\n",
       "data:  matrix(c(1, 19, 2, 22), nrow = 2)\n",
       "p-value = 0.5696\n",
       "alternative hypothesis: true odds ratio is less than 1\n",
       "95 percent confidence interval:\n",
       " 0.000000 8.010814\n",
       "sample estimates:\n",
       "odds ratio \n",
       " 0.5859126 \n"
      ]
     },
     "metadata": {},
     "output_type": "display_data"
    },
    {
     "data": {
      "text/plain": [
       "\n",
       "\tFisher's Exact Test for Count Data\n",
       "\n",
       "data:  matrix(c(4, 50, 6, 35), nrow = 2)\n",
       "p-value = 0.2114\n",
       "alternative hypothesis: true odds ratio is less than 1\n",
       "95 percent confidence interval:\n",
       " 0.000000 1.741305\n",
       "sample estimates:\n",
       "odds ratio \n",
       " 0.4704962 \n"
      ]
     },
     "metadata": {},
     "output_type": "display_data"
    },
    {
     "data": {
      "text/plain": [
       "\n",
       "\tFisher's Exact Test for Count Data\n",
       "\n",
       "data:  matrix(c(2, 13, 6, 15), nrow = 2)\n",
       "p-value = 0.2527\n",
       "alternative hypothesis: true odds ratio is less than 1\n",
       "95 percent confidence interval:\n",
       " 0.000000 2.136906\n",
       "sample estimates:\n",
       "odds ratio \n",
       " 0.3944393 \n"
      ]
     },
     "metadata": {},
     "output_type": "display_data"
    },
    {
     "data": {
      "text/plain": [
       "\n",
       "\tFisher's Exact Test for Count Data\n",
       "\n",
       "data:  matrix(c(2, 14, 8, 33), nrow = 2)\n",
       "p-value = 0.4213\n",
       "alternative hypothesis: true odds ratio is less than 1\n",
       "95 percent confidence interval:\n",
       " 0.00000 2.83887\n",
       "sample estimates:\n",
       "odds ratio \n",
       " 0.5943447 \n"
      ]
     },
     "metadata": {},
     "output_type": "display_data"
    },
    {
     "data": {
      "text/plain": [
       "\n",
       "\tFisher's Exact Test for Count Data\n",
       "\n",
       "data:  matrix(c(4, 27, 14, 38), nrow = 2)\n",
       "p-value = 0.1089\n",
       "alternative hypothesis: true odds ratio is less than 1\n",
       "95 percent confidence interval:\n",
       " 0.000000 1.252756\n",
       "sample estimates:\n",
       "odds ratio \n",
       " 0.4062401 \n"
      ]
     },
     "metadata": {},
     "output_type": "display_data"
    },
    {
     "data": {
      "text/plain": [
       "\n",
       "\tFisher's Exact Test for Count Data\n",
       "\n",
       "data:  matrix(c(8, 77, 20, 63), nrow = 2)\n",
       "p-value = 0.00897\n",
       "alternative hypothesis: true odds ratio is less than 1\n",
       "95 percent confidence interval:\n",
       " 0.0000000 0.7410201\n",
       "sample estimates:\n",
       "odds ratio \n",
       " 0.3294205 \n"
      ]
     },
     "metadata": {},
     "output_type": "display_data"
    }
   ],
   "source": [
    "fisher.test(matrix(c(3,31,4, 13), nrow=2),alternative = \"less\")\n",
    "fisher.test(matrix(c(1,19,2,22), nrow=2),alternative = \"less\")\n",
    "fisher.test(matrix(c(4,50,6,35), nrow=2),alternative = \"less\")\n",
    "\n",
    "fisher.test(matrix(c(2,13,6,15), nrow=2),alternative = \"less\")\n",
    "fisher.test(matrix(c(2,14,8,33), nrow=2),alternative = \"less\")\n",
    "fisher.test(matrix(c(4,27,14,38), nrow=2),alternative = \"less\")\n",
    "\n",
    "fisher.test(matrix(c(8,77,20,63), nrow=2),alternative = \"less\")\n"
   ]
  },
  {
   "cell_type": "code",
   "execution_count": null,
   "id": "1c782adf-f62f-4ddd-a6cf-89317b6abfef",
   "metadata": {
    "vscode": {
     "languageId": "r"
    }
   },
   "outputs": [],
   "source": []
  }
 ],
 "metadata": {
  "kernelspec": {
   "display_name": "R-4.3",
   "language": "R",
   "name": "ir43"
  },
  "language_info": {
   "codemirror_mode": "r",
   "file_extension": ".r",
   "mimetype": "text/x-r-source",
   "name": "R",
   "pygments_lexer": "r",
   "version": "4.3.3"
  }
 },
 "nbformat": 4,
 "nbformat_minor": 5
}
