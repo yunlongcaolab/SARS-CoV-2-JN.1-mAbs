{
 "cells": [
  {
   "cell_type": "code",
   "execution_count": 226,
   "id": "18bbe4cd-a0c1-46a1-9fa3-5a17553cf8b1",
   "metadata": {
    "tags": [],
    "vscode": {
     "languageId": "r"
    }
   },
   "outputs": [
    {
     "data": {
      "text/html": [
       "<strong>pdf:</strong> 3"
      ],
      "text/latex": [
       "\\textbf{pdf:} 3"
      ],
      "text/markdown": [
       "**pdf:** 3"
      ],
      "text/plain": [
       "pdf \n",
       "  3 "
      ]
     },
     "metadata": {},
     "output_type": "display_data"
    },
    {
     "data": {
      "text/html": [
       "<strong>pdf:</strong> 3"
      ],
      "text/latex": [
       "\\textbf{pdf:} 3"
      ],
      "text/markdown": [
       "**pdf:** 3"
      ],
      "text/plain": [
       "pdf \n",
       "  3 "
      ]
     },
     "metadata": {},
     "output_type": "display_data"
    },
    {
     "data": {
      "text/html": [
       "<strong>pdf:</strong> 3"
      ],
      "text/latex": [
       "\\textbf{pdf:} 3"
      ],
      "text/markdown": [
       "**pdf:** 3"
      ],
      "text/plain": [
       "pdf \n",
       "  3 "
      ]
     },
     "metadata": {},
     "output_type": "display_data"
    },
    {
     "data": {
      "text/html": [
       "<strong>pdf:</strong> 3"
      ],
      "text/latex": [
       "\\textbf{pdf:} 3"
      ],
      "text/markdown": [
       "**pdf:** 3"
      ],
      "text/plain": [
       "pdf \n",
       "  3 "
      ]
     },
     "metadata": {},
     "output_type": "display_data"
    }
   ],
   "source": [
    "library(ggplot2)\n",
    "library(ggrastr)\n",
    "library(ggrepel)\n",
    "library(tidyverse)\n",
    "library(scales)\n",
    "\n",
    "data <- read.csv(\"../data/DMS/antibody/_clustering.csv\")\n",
    "\n",
    "cb_palette <- c(\n",
    "    \"A1\"=\"#004400\",\"A2\"=\"#237732\",\"B\"=\"#CC3119\",\n",
    "    #\"C/D1\"=\"#ffd700\",\n",
    "    \"D2\"=\"#33aa11\", \"D3\"=\"#99AA11\",\"D4\"=\"#80A07A\",\n",
    "    \"E1/E2.1\"=\"#664088\", \"E2.2\"='#aa1937', \n",
    "    # \"E1/E2\"='#aa1937', \n",
    "    \"E3\"=\"#5c0a02\", \n",
    "    \"F1.1\"=\"#c58233\", \"F1.2\"=\"#253257\",\n",
    "    \"F3\"=\"#7093c8\"\n",
    ")\n",
    "\n",
    "label_mAbs <- c(\n",
    "    # \"GC2050\" = \"BD57-2050\", \n",
    "    \"GC2225\" = \"BD57-2225\", \n",
    "    # \"GC1520\" = \"BD57-1520\", \n",
    "    # \"GC5165\" = \"GC5165\", \n",
    "    \"BD45-1\" = \"S309\", \n",
    "    \"BD45-14\" = \"S304\", \n",
    "    \"BD45-105\" = \"S2H97\", \n",
    "    \"BD45-117\" = \"FC08\", \n",
    "    \"BD55-1205\" = \"BD55-1205\",\n",
    "    \"BD55-5514\" = \"SA55\",\n",
    "    \"VYD222\" = \"VYD222\"\n",
    ")\n",
    "\n",
    "sources <-  c(\"XBB infection\", \"XBB BTI\", \"BA.5 + XBB infection\", \"BA.5 BTI + XBB infection\", \"BA.5 BTI + HK.3 infection\", \"BA.5 + JN.1 infection\", \"BA.5 BTI + JN.1 infection\")\n",
    "\n",
    "data$show_name <- label_mAbs[data$id]\n",
    "data$assayed <- c('0'='JN.1 only', '1'='both', '2'='XBB.1.5 only')[as.character((data$XBB15_dms_assayed == 'True') + (data$JN1_dms_assayed == 'False'))]\n",
    "data$plot_src <- ifelse(data$source %in% sources, data$source, \"others\")\n",
    "\n",
    "dev.off()\n",
    "pdf(\"../plots/Fig2/DMS-UMAP.pdf\", height=3, width=4)\n",
    "ggplot(data, aes(UMAP1, UMAP2))+geom_point_rast(size=.5, alpha=0.7, aes(color=new_group))+\n",
    "    theme_classic()+\n",
    "    geom_point(data=data %>% filter(id %in% names(label_mAbs)), shape=21, size=2)+\n",
    "    geom_text_repel(data=data %>% filter(id %in% names(label_mAbs)), aes(label=show_name), min.segment.length = Inf)+\n",
    "    theme(aspect.ratio = 1.0,\n",
    "          panel.border = element_rect(colour = \"black\", fill=NA, size=1),\n",
    "          axis.line = element_blank(),\n",
    "          axis.ticks = element_blank(),\n",
    "          axis.text = element_blank(),\n",
    "         ) + \n",
    "    scale_color_manual(values=cb_palette) + \n",
    "    xlab(\"UMAP1\") + ylab(\"UMAP2\")+ guides(color=guide_legend(title=\"Epitope\\nGroup\", override.aes = list(size=2,alpha=1)))\n",
    "\n",
    "cl_label <- data %>% group_by(cluster) %>% summarise(x=mean(UMAP1), y=mean(UMAP2))\n",
    "\n",
    "dev.off()\n",
    "\n",
    "pdf(\"../plots/Extended/DMS/DMS-UMAP-ext.pdf\", height=3, width=4)\n",
    "ggplot(data, aes(UMAP1, UMAP2))+geom_point_rast(size=.5, alpha=0.7, aes(color=cluster), show.legend=F)+\n",
    "    geom_text(data=cl_label, aes(x,y, label=cluster))+\n",
    "    theme_classic()+\n",
    "    theme(aspect.ratio = 1.0,\n",
    "          panel.border = element_rect(colour = \"black\", fill=NA, size=1),\n",
    "          axis.line = element_blank(),\n",
    "          axis.ticks = element_blank(),\n",
    "          axis.text = element_blank(),\n",
    "         ) + \n",
    "    xlab(\"UMAP1\") + ylab(\"UMAP2\")#+ guides(color=guide_legend(title=\"Cluster\", override.aes = list(size=2,alpha=1)))\n",
    "\n",
    "ggplot(data, aes(UMAP1, UMAP2))+geom_point_rast(size=.5, alpha=0.5, aes(color=assayed))+\n",
    "    theme_classic()+\n",
    "    theme(aspect.ratio = 1.0,\n",
    "          panel.border = element_rect(colour = \"black\", fill=NA, size=1),\n",
    "          axis.line = element_blank(),\n",
    "          axis.ticks = element_blank(),\n",
    "          axis.text = element_blank(),\n",
    "         ) + \n",
    "    xlab(\"UMAP1\") + ylab(\"UMAP2\")+ guides(color=guide_legend(title=\"Assayed\", override.aes = list(size=2,alpha=1)))\n",
    "\n",
    "for (src in unique(data$plot_src)) {\n",
    "    print(ggplot(data%>% filter(plot_src != src), aes(UMAP1, UMAP2))+\n",
    "          geom_point_rast(size=.3, alpha=0.7, color=\"#DDDDDD\")+\n",
    "          geom_point_rast(data=data%>%filter(plot_src == src), size=.6, alpha=0.7, color=\"blue\")+\n",
    "        theme_classic()+\n",
    "        theme(aspect.ratio = 1.0,\n",
    "              panel.border = element_rect(colour = \"black\", fill=NA, size=1),\n",
    "              axis.line = element_blank(),\n",
    "              axis.ticks = element_blank(),\n",
    "              axis.text = element_blank(),\n",
    "             ) + \n",
    "        xlab(\"UMAP1\") + ylab(\"UMAP2\")+ggtitle(src)\n",
    "    )\n",
    "}\n",
    "\n",
    "\n",
    "ggplot(data[!is.na(data$ACE2_competition),], aes(UMAP1,UMAP2))+ggtitle(\"ACE2 Competition Level\")+\n",
    "    geom_point_rast(size=1, alpha=0.5, aes(color=ACE2_competition))+theme_classic()+\n",
    "    theme(aspect.ratio = 1.0,panel.border = element_rect(colour = \"black\", fill=NA, size=1),\n",
    "          axis.line = element_blank(),\n",
    "          plot.title = element_text(hjust = 0.5,size=15,face=\"bold\"),\n",
    "          axis.ticks = element_blank(),\n",
    "          axis.text = element_blank()) + \n",
    "    coord_fixed()+xlab(\"\")+ylab(\"\")+\n",
    "    scale_color_gradient(low=\"#dddddd\",high=\"#792060\", limits=c(0,1), name=\"\", oob=squish)\n",
    "\n",
    "dev.off()\n",
    "\n",
    "\n",
    "plot_ic50_strains <- c(\"D614G_IC50\", \"BA1_IC50\", \"BA2_IC50\", \"BA5_IC50\", \"XBB1_5_IC50\",\"JN1_IC50\",\"JN1_R346T_F456L_IC50\",\"KP3_IC50\"\n",
    "                      )\n",
    "pdf(\"../plots/Extended/DMS/antibody/Abs_info_maps.pdf\", width=4, height=3)\n",
    "\n",
    "for (strain in plot_ic50_strains) {\n",
    "p <- ggplot(data[!is.na(data[,strain]),], aes(UMAP1,UMAP2))+geom_point_rast(size=.5, alpha=0.2, aes(color=get(strain)), show.legend=F)+\n",
    "    theme_classic()+coord_fixed()+xlab(\"\")+ylab(\"\")+ggtitle(strain)+\n",
    "    theme(aspect.ratio = 1.0,panel.border = element_rect(colour = \"black\", fill=NA, size=1),\n",
    "          axis.line = element_blank(),\n",
    "          plot.title = element_text(hjust = 0.5,size=15,face=\"bold\"),\n",
    "          axis.ticks = element_blank(),\n",
    "          axis.text = element_blank()) + scale_color_gradient2(low=\"yellow\",mid=\"red\",high=\"#888888\", midpoint=-2, \n",
    "                                                      limits=c(0.001,10), oob=squish, trans=\"log\", breaks=c(0.001, 0.1, 10),\n",
    "                                                      labels = c('0.001', '0.1', '10'), name=\"\")\n",
    "print(p)\n",
    "}\n",
    "\n",
    "dev.off()"
   ]
  },
  {
   "cell_type": "code",
   "execution_count": 227,
   "id": "67113b3c-d22d-4b75-9095-72f93f9742ce",
   "metadata": {
    "tags": [],
    "vscode": {
     "languageId": "r"
    }
   },
   "outputs": [
    {
     "data": {
      "text/html": [
       "<table class=\"dataframe\">\n",
       "<caption>A tibble: 11 × 2</caption>\n",
       "<thead>\n",
       "\t<tr><th scope=col>name</th><th scope=col>count</th></tr>\n",
       "\t<tr><th scope=col>&lt;chr&gt;</th><th scope=col>&lt;int&gt;</th></tr>\n",
       "</thead>\n",
       "<tbody>\n",
       "\t<tr><td>ACE2_competition    </td><td>1565</td></tr>\n",
       "\t<tr><td>BA1_IC50            </td><td>2684</td></tr>\n",
       "\t<tr><td>BA2_IC50            </td><td>2682</td></tr>\n",
       "\t<tr><td>BA5_IC50            </td><td>2686</td></tr>\n",
       "\t<tr><td>D614G_IC50          </td><td>2686</td></tr>\n",
       "\t<tr><td>JN1_IC50            </td><td>2481</td></tr>\n",
       "\t<tr><td>JN1_R346T_F456L_IC50</td><td>2069</td></tr>\n",
       "\t<tr><td>KP3_IC50            </td><td>2469</td></tr>\n",
       "\t<tr><td>UMAP1               </td><td>2688</td></tr>\n",
       "\t<tr><td>UMAP2               </td><td>2688</td></tr>\n",
       "\t<tr><td>XBB1_5_IC50         </td><td>2684</td></tr>\n",
       "</tbody>\n",
       "</table>\n"
      ],
      "text/latex": [
       "A tibble: 11 × 2\n",
       "\\begin{tabular}{ll}\n",
       " name & count\\\\\n",
       " <chr> & <int>\\\\\n",
       "\\hline\n",
       "\t ACE2\\_competition     & 1565\\\\\n",
       "\t BA1\\_IC50             & 2684\\\\\n",
       "\t BA2\\_IC50             & 2682\\\\\n",
       "\t BA5\\_IC50             & 2686\\\\\n",
       "\t D614G\\_IC50           & 2686\\\\\n",
       "\t JN1\\_IC50             & 2481\\\\\n",
       "\t JN1\\_R346T\\_F456L\\_IC50 & 2069\\\\\n",
       "\t KP3\\_IC50             & 2469\\\\\n",
       "\t UMAP1                & 2688\\\\\n",
       "\t UMAP2                & 2688\\\\\n",
       "\t XBB1\\_5\\_IC50          & 2684\\\\\n",
       "\\end{tabular}\n"
      ],
      "text/markdown": [
       "\n",
       "A tibble: 11 × 2\n",
       "\n",
       "| name &lt;chr&gt; | count &lt;int&gt; |\n",
       "|---|---|\n",
       "| ACE2_competition     | 1565 |\n",
       "| BA1_IC50             | 2684 |\n",
       "| BA2_IC50             | 2682 |\n",
       "| BA5_IC50             | 2686 |\n",
       "| D614G_IC50           | 2686 |\n",
       "| JN1_IC50             | 2481 |\n",
       "| JN1_R346T_F456L_IC50 | 2069 |\n",
       "| KP3_IC50             | 2469 |\n",
       "| UMAP1                | 2688 |\n",
       "| UMAP2                | 2688 |\n",
       "| XBB1_5_IC50          | 2684 |\n",
       "\n"
      ],
      "text/plain": [
       "   name                 count\n",
       "1  ACE2_competition     1565 \n",
       "2  BA1_IC50             2684 \n",
       "3  BA2_IC50             2682 \n",
       "4  BA5_IC50             2686 \n",
       "5  D614G_IC50           2686 \n",
       "6  JN1_IC50             2481 \n",
       "7  JN1_R346T_F456L_IC50 2069 \n",
       "8  KP3_IC50             2469 \n",
       "9  UMAP1                2688 \n",
       "10 UMAP2                2688 \n",
       "11 XBB1_5_IC50          2684 "
      ]
     },
     "metadata": {},
     "output_type": "display_data"
    }
   ],
   "source": [
    "data[,c(\"id\", \"UMAP1\",\"UMAP2\",'ACE2_competition', plot_ic50_strains)] %>% pivot_longer(!id) %>% na.omit() %>% group_by(name) %>% summarise(count=n())"
   ]
  },
  {
   "cell_type": "code",
   "execution_count": 228,
   "id": "28d65566-3418-41bc-8120-bc6f21589f59",
   "metadata": {
    "tags": [],
    "vscode": {
     "languageId": "r"
    }
   },
   "outputs": [
    {
     "data": {
      "text/html": [
       "<strong>pdf:</strong> 3"
      ],
      "text/latex": [
       "\\textbf{pdf:} 3"
      ],
      "text/markdown": [
       "**pdf:** 3"
      ],
      "text/plain": [
       "pdf \n",
       "  3 "
      ]
     },
     "metadata": {},
     "output_type": "display_data"
    },
    {
     "data": {
      "text/html": [
       "<strong>pdf:</strong> 3"
      ],
      "text/latex": [
       "\\textbf{pdf:} 3"
      ],
      "text/markdown": [
       "**pdf:** 3"
      ],
      "text/plain": [
       "pdf \n",
       "  3 "
      ]
     },
     "metadata": {},
     "output_type": "display_data"
    }
   ],
   "source": [
    "\n",
    "group_levels <- c(\"F3\", \"A1\", \"A2\", \"B\", \"D2\", \"D3\", \"D4\", \"E1/E2.1\", \"E2.2\", \"E3\", \"F1.1\", \"F1.2\")\n",
    "src_levels = c(\n",
    "    'XBB infection',\n",
    "    'XBB BTI',\n",
    "    'BA.5 + XBB infection',\n",
    "    'BA.5 + JN.1 infection',\n",
    "    'BA.5 BTI + XBB infection',\n",
    "    'BA.5 BTI + HK.3 infection', \n",
    "    'BA.5 BTI + JN.1 infection'\n",
    ")\n",
    "bar_df <- read.csv(\"../data/DMS/antibody/_group_stat.csv\") %>% filter(source %in% src_levels)\n",
    "\n",
    "bar_df$group <- factor(bar_df$new_group, levels=group_levels)\n",
    "bar_df$source <- factor(bar_df$source, levels=src_levels)\n",
    "\n",
    "dev.off()\n",
    "pdf('../plots/Figure3_related/groups_count_bar.pdf',width=4,height=4)\n",
    "\n",
    "ggplot(bar_df, aes(source, sum*100)) + geom_bar(aes(fill=group), stat='identity', width=0.75, color='black') + \n",
    "    scale_fill_manual(values=cb_palette) + \n",
    "    theme_classic() + \n",
    "    scale_y_continuous(breaks=c(0:10)*10, expand = c(0,0))+\n",
    "    geom_text(data=bar_df %>% group_by(source) %>% summarise(n=sum(count)), aes(x=source, y=105, label=n), size=3)+\n",
    "    theme(axis.title = element_blank(), \n",
    "          axis.text.x=element_text(angle=90,hjust=1,vjust=0.5), axis.line.x = element_blank(), \n",
    "          axis.ticks.x = element_blank())\n",
    "\n",
    "dev.off()"
   ]
  },
  {
   "cell_type": "code",
   "execution_count": 229,
   "id": "2b24b8d0-6dc4-4353-a19f-1e33a382a4a5",
   "metadata": {
    "vscode": {
     "languageId": "r"
    }
   },
   "outputs": [
    {
     "data": {
      "text/html": [
       "<strong>pdf:</strong> 3"
      ],
      "text/latex": [
       "\\textbf{pdf:} 3"
      ],
      "text/markdown": [
       "**pdf:** 3"
      ],
      "text/plain": [
       "pdf \n",
       "  3 "
      ]
     },
     "metadata": {},
     "output_type": "display_data"
    },
    {
     "name": "stderr",
     "output_type": "stream",
     "text": [
      "\u001b[1m\u001b[22m`summarise()` has grouped output by 'source'. You can override using the `.groups` argument.\n",
      "\u001b[1m\u001b[22m`summarise()` has grouped output by 'source'. You can override using the `.groups` argument.\n",
      "\u001b[1m\u001b[22m`summarise()` has grouped output by 'source'. You can override using the `.groups` argument.\n",
      "\u001b[1m\u001b[22m`summarise()` has grouped output by 'source'. You can override using the `.groups` argument.\n",
      "\u001b[1m\u001b[22m`summarise()` has grouped output by 'source'. You can override using the `.groups` argument.\n",
      "\u001b[1m\u001b[22m`summarise()` has grouped output by 'source'. You can override using the `.groups` argument.\n"
     ]
    }
   ],
   "source": [
    "dev.off()\n",
    "src_levels = c(\n",
    "    'XBB infection',\n",
    "    'XBB BTI',\n",
    "    'BA.5 + XBB infection',\n",
    "    'BA.5 + JN.1 infection',\n",
    "    'BA.5 BTI + XBB infection',\n",
    "    'BA.5 BTI + HK.3 infection', \n",
    "    'BA.5 BTI + JN.1 infection'\n",
    ")\n",
    "dir = c(\n",
    "    'all' = 'Extended/DMS/antibody/',\n",
    "    'cross' = 'Figure4_related/',\n",
    "    'specific' = 'Figure5_related/'\n",
    ")\n",
    "\n",
    "bar_df_all <- read.csv(\"../data/DMS/antibody/_neut_weight_group_stat.csv\") %>% filter(source %in% src_levels)\n",
    "for (prefix in c('all', 'cross', 'specific')) {\n",
    "    pdf(paste('../plots/',dir[prefix],prefix, '_groups_bar_neut_weighting_all.pdf', sep=''),width=2,height=3)\n",
    "    M <- max((bar_df_all %>% filter(use_mAbs == prefix) %>% group_by(source, weight) %>% summarise(e=sum(effectiveness)))$e)\n",
    "    for (use_neut in c(\"BA5_IC50\", \"XBB1_5_IC50\",\"HK3_1_IC50\",  \"JN1_IC50\", \"JN1_R346T_F456L_IC50\", \"KP3_IC50\")) {\n",
    "        \n",
    "        bar_df <- bar_df_all %>% filter(weight == use_neut & use_mAbs == prefix)\n",
    "        bar_df$source <- factor(bar_df$source, levels=src_levels)\n",
    "        bar_df$group <- factor(bar_df$new_group, levels=group_levels)\n",
    "\n",
    "        p <- ggplot(bar_df, aes(source, effectiveness)) + geom_bar(aes(fill=group), stat='identity', width=0.8, color='black', show.legend=F) + \n",
    "            scale_fill_manual(values=cb_palette) + \n",
    "            theme_classic() + \n",
    "            scale_y_continuous(expand=c(0,0), limits=c(0, M))+ylab('Effectiveness')+\n",
    "            theme(axis.title = element_blank(),\n",
    "                  axis.text.x=element_text(angle=45,hjust=1),  \n",
    "                  axis.ticks.x = element_blank(), legend.position='top')+\n",
    "            ggtitle(use_neut)\n",
    "        print(p)\n",
    "    }\n",
    "    dev.off()\n",
    "}\n",
    "\n",
    "src_levels = c(\n",
    "    'BA.5 BTI + XBB infection',\n",
    "    'BA.5 BTI + HK.3 infection', \n",
    "    'BA.5 BTI + JN.1 infection'\n",
    ")\n",
    "bar_df_all <- read.csv(\"../data/DMS/antibody/_neut_weight_group_stat.csv\") %>% filter(source %in% src_levels)\n",
    "for (prefix in c('all', 'cross', 'specific')) {\n",
    "    pdf(paste('../plots/',dir[prefix],prefix, '_groups_bar_neut_weighting.pdf', sep=''),width=1.5,height=3)\n",
    "    M <- max((bar_df_all %>% filter(use_mAbs == prefix) %>% group_by(source, weight) %>% summarise(e=sum(effectiveness)))$e)\n",
    "    for (use_neut in c(\"XBB1_5_IC50\",\"HK3_1_IC50\",  \"JN1_IC50\", \"JN1_R346T_F456L_IC50\", \"KP3_IC50\")) {\n",
    "        \n",
    "        bar_df <- bar_df_all %>% filter(weight == use_neut & use_mAbs == prefix)\n",
    "        bar_df$source <- factor(bar_df$source, levels=src_levels)\n",
    "        bar_df$group <- factor(bar_df$new_group, levels=group_levels)\n",
    "\n",
    "        p <- ggplot(bar_df, aes(source, effectiveness)) + geom_bar(aes(fill=group), stat='identity', width=0.8, color='black', show.legend=F) + \n",
    "            scale_fill_manual(values=cb_palette) + \n",
    "            theme_classic() + \n",
    "            scale_y_continuous(expand=c(0,0), limits=c(0, M))+ylab('Effectiveness')+\n",
    "            theme(axis.title = element_blank(),\n",
    "                  axis.text.x=element_text(angle=45,hjust=1),  \n",
    "                  axis.ticks.x = element_blank(), legend.position='top')+\n",
    "            ggtitle(use_neut)\n",
    "        print(p)\n",
    "    }\n",
    "    dev.off()\n",
    "}"
   ]
  },
  {
   "cell_type": "code",
   "execution_count": 239,
   "id": "6c925df5-124b-471b-a019-b2f4966afc8d",
   "metadata": {
    "vscode": {
     "languageId": "r"
    }
   },
   "outputs": [
    {
     "data": {
      "text/html": [
       "<strong>pdf:</strong> 3"
      ],
      "text/latex": [
       "\\textbf{pdf:} 3"
      ],
      "text/markdown": [
       "**pdf:** 3"
      ],
      "text/plain": [
       "pdf \n",
       "  3 "
      ]
     },
     "metadata": {},
     "output_type": "display_data"
    },
    {
     "name": "stdout",
     "output_type": "stream",
     "text": [
      "[1] \"site\"         \"mutation\"     \"broad (22)\"   \"escaped (80)\" \"site_mut\"    \n",
      "[1] \"site\"         \"mutation\"     \"broad (29)\"   \"escaped (54)\" \"site_mut\"    \n"
     ]
    },
    {
     "name": "stderr",
     "output_type": "stream",
     "text": [
      "Warning message:\n",
      "“\u001b[1m\u001b[22mRemoved 5 rows containing missing values or values outside the scale range (`geom_point()`).”\n"
     ]
    },
    {
     "data": {
      "text/html": [
       "<strong>pdf:</strong> 3"
      ],
      "text/latex": [
       "\\textbf{pdf:} 3"
      ],
      "text/markdown": [
       "**pdf:** 3"
      ],
      "text/plain": [
       "pdf \n",
       "  3 "
      ]
     },
     "metadata": {},
     "output_type": "display_data"
    }
   ],
   "source": [
    "library(ggrastr)\n",
    "library(ggrepel)\n",
    "library(tidyverse)\n",
    "dev.off()\n",
    "pdf(\"../plots/Extended/A1_broad_dms_compare.pdf\", width=3.5, height=3)\n",
    "\n",
    "df <- read.csv(\"../data/DMS/antibody/_A1_breadth_DMS_scores_compare_avg_XBB15.csv\", check.names = F)\n",
    "print(colnames(df))\n",
    "\n",
    "colnames(df) <- c('site', 'mutation', 'broad','escaped','site_mut')\n",
    "\n",
    "ggplot(df, aes(broad, escaped))+geom_point_rast(size=0.5, alpha=0.5, color='#dddddd')+\n",
    "    geom_point(data=df%>%filter(site %in% c(455, 456, 475, 493)), aes(color=factor(site)), size=1.5, shape=21)+\n",
    "    scale_color_manual(values=c(\"#EE6439\", \"#60AB59\", \"#FFCF56\", '#AA2055',\"#7193E2\"))+\n",
    "    geom_abline(linetype='dashed', color='#CC1210')+xlim(0,1)+ylim(0,1)+xlab('broad A1')+ylab('escaped A1')+\n",
    "    geom_text_repel(data=df%>%filter(site_mut %in% c('455S', '456L', '475V', '493E')), aes(label=site_mut), min.segment.length = 0)+\n",
    "    theme_classic()+theme(aspect.ratio = 1)+ggtitle(\"XBB.1.5 library DMS\")\n",
    "\n",
    "\n",
    "df <- read.csv(\"../data/DMS/antibody/_A1_breadth_DMS_scores_compare_avg_JN1.csv\", check.names = F)\n",
    "print(colnames(df))\n",
    "\n",
    "colnames(df) <- c('site', 'mutation', 'broad','escaped','site_mut')\n",
    "\n",
    "ggplot(df, aes(broad, escaped))+geom_point_rast(size=0.5, alpha=0.5, color='#dddddd')+\n",
    "    geom_point(data=df%>%filter(site %in% c(455, 456, 475, 493)), aes(color=factor(site)), size=1.5, shape=21)+\n",
    "    scale_color_manual(values=c(\"#EE6439\", \"#60AB59\", \"#FFCF56\", '#AA2055',\"#7193E2\"))+\n",
    "    geom_abline(linetype='dashed', color='#CC1210')+xlim(0,1)+ylim(0,1)+xlab('broad A1')+ylab('escaped A1')+\n",
    "    geom_text_repel(data=df%>%filter(site_mut %in% c('455S', '456L', '475V', '493E')), aes(label=site_mut), min.segment.length = 0)+\n",
    "    theme_classic()+theme(aspect.ratio = 1)+ggtitle(\"JN.1 library DMS\")\n",
    "\n",
    "\n",
    "dev.off()\n"
   ]
  },
  {
   "cell_type": "code",
   "execution_count": 236,
   "id": "d67bbb84-c4bd-4e0a-961c-eb7eed6829e7",
   "metadata": {
    "tags": [],
    "vscode": {
     "languageId": "r"
    }
   },
   "outputs": [
    {
     "name": "stderr",
     "output_type": "stream",
     "text": [
      "Warning message:\n",
      "“\u001b[1m\u001b[22mRemoved 441 rows containing missing values or values outside the scale range (`geom_point()`).”\n",
      "Warning message:\n",
      "“\u001b[1m\u001b[22mRemoved 7 rows containing missing values or values outside the scale range (`geom_point()`).”\n",
      "\u001b[1m\u001b[22m`summarise()` has grouped output by 'site'. You can override using the `.groups` argument.\n",
      "Warning message in geom_text_repel(data = df %>% filter(site %in% c(421, 455, 480, :\n",
      "“\u001b[1m\u001b[22mIgnoring unknown parameters: `shape`”\n",
      "Warning message:\n",
      "“\u001b[1m\u001b[22mRemoved 8 rows containing missing values or values outside the scale range (`geom_point()`).”\n"
     ]
    },
    {
     "data": {
      "text/html": [
       "<strong>png:</strong> 2"
      ],
      "text/latex": [
       "\\textbf{png:} 2"
      ],
      "text/markdown": [
       "**png:** 2"
      ],
      "text/plain": [
       "png \n",
       "  2 "
      ]
     },
     "metadata": {},
     "output_type": "display_data"
    }
   ],
   "source": [
    "pdf(\"../plots/Extended/A1_library_dms_compare.pdf\", width=3, height=2.5)\n",
    "df <- read.csv(\"../data/DMS/antibody/both_mAbs_grouped/A1_antigen.csv\") %>% pivot_wider(id_cols=c(site, mutation), names_from=antigen, values_from = mut_escape)\n",
    "colnames(df) <- c('site', 'mutation', 'JN.1 library DMS', 'XBB.1.5 library DMS')\n",
    "\n",
    "ggplot(df, aes(`XBB.1.5 library DMS`, `JN.1 library DMS`))+geom_point_rast(size=0.5, alpha=0.5, color='#dddddd')+\n",
    "    geom_point(data=df%>%filter(site %in% c(421, 455, 480, 485, 487, 488)), aes(color=factor(site)), size=1.5, shape=21)+\n",
    "    scale_color_manual(values=c(\"#EE6439\", \"#60AB59\", \"#FFCF56\", '#AA2055',\"#7193E2\",\"#33A2B0\"))+\n",
    "    geom_abline(linetype='dashed', color='#CC1210')+xlim(0,1)+ylim(0,1)+\n",
    "    theme_classic()+theme(aspect.ratio = 1)\n",
    "\n",
    "df <- read.csv(\"../data/DMS/antibody/both_mAbs_grouped/A1_antigen.csv\") %>% \n",
    "    group_by(site, antigen) %>% summarise(mut_escape=mean(mut_escape)) %>% pivot_wider(id_cols=site, names_from=antigen, values_from = mut_escape)\n",
    "colnames(df) <- c('site', 'JN.1 library DMS', 'XBB.1.5 library DMS')\n",
    "\n",
    "ggplot(df, aes(`XBB.1.5 library DMS`, `JN.1 library DMS`))+geom_point_rast(size=0.5, alpha=0.8, color='#dddddd')+\n",
    "    geom_point(data=df%>%filter(site %in% c(421, 455, 480, 485, 487, 488, 506)), color='black', size=1.5, shape=21)+\n",
    "    geom_text_repel(data=df%>%filter(site %in% c(421, 455, 480, 485, 487, 488, 506)), color='black', min.segment.length = Inf, aes(label=site), shape=21)+\n",
    "\n",
    "    # scale_color_manual(values=c(\"#EE6439\", \"#60AB59\", \"#FFCF56\", '#AA2055',\"#7193E2\",\"#33A2B0\", \"#66ffcc\"))+\n",
    "    geom_abline(linetype='dashed', color='#CC1210')+xlim(0,0.6)+ylim(0,0.6)+\n",
    "    theme_classic()+theme(aspect.ratio = 1)\n",
    "\n",
    "\n",
    "dev.off()"
   ]
  },
  {
   "cell_type": "code",
   "execution_count": 232,
   "id": "b697ff92-502c-47ed-aebb-5b99ed355557",
   "metadata": {
    "tags": [],
    "vscode": {
     "languageId": "r"
    }
   },
   "outputs": [
    {
     "data": {
      "text/html": [
       "<strong>pdf:</strong> 3"
      ],
      "text/latex": [
       "\\textbf{pdf:} 3"
      ],
      "text/markdown": [
       "**pdf:** 3"
      ],
      "text/plain": [
       "pdf \n",
       "  3 "
      ]
     },
     "metadata": {},
     "output_type": "display_data"
    },
    {
     "name": "stdout",
     "output_type": "stream",
     "text": [
      "[1] \"site\"                        \"mutation\"                   \n",
      "[3] \"cross...JN.1_RBD..9.\"        \"cross...XBB.1.5_RBD..8.\"    \n",
      "[5] \"specific...JN.1_RBD..37.\"    \"specific...XBB.1.5_RBD..24.\"\n",
      "[7] \"site_mut\"                   \n"
     ]
    },
    {
     "name": "stderr",
     "output_type": "stream",
     "text": [
      "Warning message:\n",
      "“\u001b[1m\u001b[22mRemoved 342 rows containing missing values or values outside the scale range (`geom_point()`).”\n",
      "Warning message:\n",
      "“\u001b[1m\u001b[22mRemoved 106 rows containing missing values or values outside the scale range (`geom_point()`).”\n"
     ]
    },
    {
     "data": {
      "text/html": [
       "<strong>pdf:</strong> 3"
      ],
      "text/latex": [
       "\\textbf{pdf:} 3"
      ],
      "text/markdown": [
       "**pdf:** 3"
      ],
      "text/plain": [
       "pdf \n",
       "  3 "
      ]
     },
     "metadata": {},
     "output_type": "display_data"
    },
    {
     "name": "stdout",
     "output_type": "stream",
     "text": [
      "[1] \"site\"                        \"mutation\"                   \n",
      "[3] \"cross...JN.1_RBD..13.\"       \"cross...XBB.1.5_RBD..11.\"   \n",
      "[5] \"specific...JN.1_RBD..46.\"    \"specific...XBB.1.5_RBD..32.\"\n",
      "[7] \"site_mut\"                   \n"
     ]
    },
    {
     "name": "stderr",
     "output_type": "stream",
     "text": [
      "Warning message:\n",
      "“\u001b[1m\u001b[22mRemoved 336 rows containing missing values or values outside the scale range (`geom_point()`).”\n",
      "Warning message:\n",
      "“\u001b[1m\u001b[22mRemoved 105 rows containing missing values or values outside the scale range (`geom_point()`).”\n",
      "Warning message:\n",
      "“\u001b[1m\u001b[22mRemoved 8 rows containing missing values or values outside the scale range (`geom_point()`).”\n"
     ]
    },
    {
     "data": {
      "text/html": [
       "<strong>pdf:</strong> 3"
      ],
      "text/latex": [
       "\\textbf{pdf:} 3"
      ],
      "text/markdown": [
       "**pdf:** 3"
      ],
      "text/plain": [
       "pdf \n",
       "  3 "
      ]
     },
     "metadata": {},
     "output_type": "display_data"
    }
   ],
   "source": [
    "library(ggrastr)\n",
    "library(ggrepel)\n",
    "library(tidyverse)\n",
    "dev.off()\n",
    "pdf(\"../plots/Extended/B_reactivity_dms_compare.pdf\", width=3.5, height=3)\n",
    "df <- read.csv(\"../data/DMS/antibody/_B_reactivity_DMS_scores_compare.csv\")\n",
    "print(colnames(df))\n",
    "ggplot(df, aes(cross...JN.1_RBD..9., specific...JN.1_RBD..37.))+geom_point_rast(size=0.5, alpha=0.5, color='#dddddd')+\n",
    "    geom_point(data=df%>%filter(site %in% c(478,486)), aes(color=factor(site)), size=1.5, shape=21)+\n",
    "    scale_color_manual(values=c(\"#7193E2\", \"#B57EDC\"))+\n",
    "    geom_abline(linetype='dashed', color='#CC1210')+xlab('B (cross)')+ylab('B (specific)')+xlim(0,1)+ylim(0,1)+\n",
    "    # geom_text_repel(data=df%>%filter(site %in% c(455, 456, 475, 493)), aes(label=site_mut))+\n",
    "    theme_classic()+theme(aspect.ratio = 1)+ggtitle('JN.1 library')\n",
    "ggplot(df, aes(cross...XBB.1.5_RBD..8., specific...XBB.1.5_RBD..24.))+geom_point_rast(size=0.5, alpha=0.5, color='#dddddd')+\n",
    "    geom_point(data=df%>%filter(site %in% c(478,486)), aes(color=factor(site)), size=1.5, shape=21)+\n",
    "    scale_color_manual(values=c(\"#7193E2\", \"#B57EDC\"))+\n",
    "    geom_abline(linetype='dashed', color='#CC1210')+xlab('B (cross)')+ylab('B (specific)')+xlim(0,1)+ylim(0,1)+\n",
    "    # geom_text_repel(data=df%>%filter(site %in% c(455, 456, 475, 493)), aes(label=site_mut))+\n",
    "    theme_classic()+theme(aspect.ratio = 1)+ggtitle('XBB.1.5 library')\n",
    "dev.off()\n",
    "pdf(\"../plots/Extended/D3_reactivity_dms_compare.pdf\", width=3.5, height=3)\n",
    "df <- read.csv(\"../data/DMS/antibody/_D3_reactivity_DMS_scores_compare.csv\")\n",
    "print(colnames(df))\n",
    "ggplot(df, aes(cross...JN.1_RBD..13., specific...JN.1_RBD..46.))+geom_point_rast(size=0.5, alpha=0.5, color='#dddddd')+\n",
    "    geom_point(data=df%>%filter(site %in% c(440,444)), aes(color=factor(site)), size=1.5, shape=21)+\n",
    "    scale_color_manual(values=c(\"#7193E2\", \"#B57EDC\"))+\n",
    "    geom_abline(linetype='dashed', color='#CC1210')+xlab('D3 (cross)')+ylab('D3 (specific)')+xlim(0,1)+ylim(0,1)+\n",
    "    # geom_text_repel(data=df%>%filter(site %in% c(455, 456, 475, 493)), aes(label=site_mut))+\n",
    "    theme_classic()+theme(aspect.ratio = 1)+ggtitle('JN.1 library')\n",
    "ggplot(df, aes(cross...XBB.1.5_RBD..11., specific...XBB.1.5_RBD..32.))+geom_point_rast(size=0.5, alpha=0.5, color='#dddddd')+\n",
    "    geom_point(data=df%>%filter(site %in% c(440,444)), aes(color=factor(site)), size=1.5, shape=21)+\n",
    "    scale_color_manual(values=c(\"#7193E2\", \"#B57EDC\"))+\n",
    "    geom_abline(linetype='dashed', color='#CC1210')+xlab('D3 (cross)')+ylab('D3 (specific)')+xlim(0,1)+ylim(0,1)+\n",
    "    # geom_text_repel(data=df%>%filter(site %in% c(455, 456, 475, 493)), aes(label=site_mut))+\n",
    "    theme_classic()+theme(aspect.ratio = 1)+ggtitle('XBB.1.5 library')\n",
    "dev.off()\n"
   ]
  },
  {
   "cell_type": "code",
   "execution_count": 233,
   "id": "93b8f811-1692-4b75-b94f-453239d4f532",
   "metadata": {
    "tags": [],
    "vscode": {
     "languageId": "r"
    }
   },
   "outputs": [
    {
     "data": {
      "text/html": [
       "<strong>pdf:</strong> 3"
      ],
      "text/latex": [
       "\\textbf{pdf:} 3"
      ],
      "text/markdown": [
       "**pdf:** 3"
      ],
      "text/plain": [
       "pdf \n",
       "  3 "
      ]
     },
     "metadata": {},
     "output_type": "display_data"
    },
    {
     "name": "stderr",
     "output_type": "stream",
     "text": [
      "Warning message:\n",
      "“\u001b[1m\u001b[22mRemoved 342 rows containing missing values or values outside the scale range (`geom_point()`).”\n",
      "Warning message:\n",
      "“\u001b[1m\u001b[22mRemoved 20 rows containing missing values or values outside the scale range (`geom_point()`).”\n",
      "\u001b[1m\u001b[22m`summarise()` has grouped output by 'site'. You can override using the `.groups` argument.\n",
      "Warning message in geom_text_repel(data = df %>% filter(site %in% c(404, 405, 498, :\n",
      "“\u001b[1m\u001b[22mIgnoring unknown parameters: `shape`”\n",
      "Warning message:\n",
      "“\u001b[1m\u001b[22mRemoved 7 rows containing missing values or values outside the scale range (`geom_point()`).”\n"
     ]
    },
    {
     "data": {
      "text/html": [
       "<strong>pdf:</strong> 3"
      ],
      "text/latex": [
       "\\textbf{pdf:} 3"
      ],
      "text/markdown": [
       "**pdf:** 3"
      ],
      "text/plain": [
       "pdf \n",
       "  3 "
      ]
     },
     "metadata": {},
     "output_type": "display_data"
    }
   ],
   "source": [
    "library(ggrastr)\n",
    "library(ggrepel)\n",
    "library(tidyverse)\n",
    "dev.off()\n",
    "pdf(\"../plots/Figure5_related/F3_VH_dms_compare.pdf\", width=3.5, height=3)\n",
    "df <- read.csv(\"../data/DMS/antibody/_F3_VH_avg_dms.csv\") %>% pivot_wider(id_cols=c(site,mutation), names_from=prop, values_from = mut_escape)\n",
    "colnames(df) <- c('site', 'mutation', 'VH2_5_JN1', 'VH2_5_XBB15', 'VH5_51_JN1', 'VH5_51_XBB15')\n",
    "\n",
    "ggplot(df, aes(VH2_5_JN1, VH5_51_JN1))+geom_point_rast(size=0.5, alpha=0.5, color='#dddddd')+\n",
    "    geom_point(data=df%>%filter(site %in% c(403,404,405,498,502,504,505)), aes(color=factor(site)), size=1.5, shape=21)+\n",
    "    scale_color_manual(values=c(\"#EE6439\", \"#60AB59\", \"#FFCF56\", '#AA2055',\"#7193E2\",\"#33A2B0\", \"#66ffcc\"))+\n",
    "    geom_abline(linetype='dashed', color='#CC1210')+xlim(0,1)+ylim(0,1)+xlab('IGHV2-5 F3')+ylab('IGHV5-51 F3')+\n",
    "    theme_classic()+theme(aspect.ratio = 1)\n",
    "\n",
    "df <- read.csv(\"../data/DMS/antibody/_F3_VH_avg_dms.csv\")  %>% \n",
    "    group_by(site, prop) %>% summarise(mut_escape=sum(mut_escape)) %>% pivot_wider(id_cols=site, names_from=prop, values_from = mut_escape)\n",
    "colnames(df) <- c('site', 'VH2_5_JN1', 'VH2_5_XBB15', 'VH5_51_JN1', 'VH5_51_XBB15')\n",
    "\n",
    "ggplot(df, aes(VH2_5_JN1, VH5_51_JN1))+geom_point_rast(size=0.5, alpha=0.5, color='#dddddd')+\n",
    "    geom_point(data=df%>%filter(site %in% c(404,405,498,502,504,505)), color='black', size=1.5, shape=21)+\n",
    "    geom_text_repel(data=df%>%filter(site %in% c(404,405,498,502,504,505)), color='black', min.segment.length = Inf, aes(label=site), shape=21)+\n",
    "    geom_abline(linetype='dashed', color='#CC1210')+xlab('IGHV2-5 F3')+ylab('IGHV5-51 F3')+\n",
    "    theme_classic()+theme(aspect.ratio = 1)\n",
    "dev.off()\n"
   ]
  },
  {
   "cell_type": "code",
   "execution_count": null,
   "id": "76ec915f-b796-4e72-b154-919578e9df14",
   "metadata": {
    "vscode": {
     "languageId": "r"
    }
   },
   "outputs": [],
   "source": []
  }
 ],
 "metadata": {
  "kernelspec": {
   "display_name": "R-4.3",
   "language": "R",
   "name": "ir43"
  },
  "language_info": {
   "codemirror_mode": "r",
   "file_extension": ".r",
   "mimetype": "text/x-r-source",
   "name": "R",
   "pygments_lexer": "r",
   "version": "4.3.3"
  }
 },
 "nbformat": 4,
 "nbformat_minor": 5
}
