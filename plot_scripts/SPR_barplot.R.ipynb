{
 "cells": [
  {
   "cell_type": "code",
   "execution_count": 1,
   "id": "41c9d897-4176-4d43-be3b-976c137a923b",
   "metadata": {
    "tags": []
   },
   "outputs": [
    {
     "name": "stderr",
     "output_type": "stream",
     "text": [
      "── \u001b[1mAttaching core tidyverse packages\u001b[22m ──────────────────────────────────────────────────────────────────────────────────────────── tidyverse 2.0.0 ──\n",
      "\u001b[32m✔\u001b[39m \u001b[34mdplyr    \u001b[39m 1.1.4     \u001b[32m✔\u001b[39m \u001b[34mreadr    \u001b[39m 2.1.5\n",
      "\u001b[32m✔\u001b[39m \u001b[34mforcats  \u001b[39m 1.0.0     \u001b[32m✔\u001b[39m \u001b[34mstringr  \u001b[39m 1.5.1\n",
      "\u001b[32m✔\u001b[39m \u001b[34mggplot2  \u001b[39m 3.5.0     \u001b[32m✔\u001b[39m \u001b[34mtibble   \u001b[39m 3.2.1\n",
      "\u001b[32m✔\u001b[39m \u001b[34mlubridate\u001b[39m 1.9.3     \u001b[32m✔\u001b[39m \u001b[34mtidyr    \u001b[39m 1.3.1\n",
      "\u001b[32m✔\u001b[39m \u001b[34mpurrr    \u001b[39m 1.0.2     \n",
      "── \u001b[1mConflicts\u001b[22m ────────────────────────────────────────────────────────────────────────────────────────────────────────────── tidyverse_conflicts() ──\n",
      "\u001b[31m✖\u001b[39m \u001b[34mdplyr\u001b[39m::\u001b[32mfilter()\u001b[39m masks \u001b[34mstats\u001b[39m::filter()\n",
      "\u001b[31m✖\u001b[39m \u001b[34mdplyr\u001b[39m::\u001b[32mlag()\u001b[39m    masks \u001b[34mstats\u001b[39m::lag()\n",
      "\u001b[36mℹ\u001b[39m Use the conflicted package (\u001b[3m\u001b[34m<http://conflicted.r-lib.org/>\u001b[39m\u001b[23m) to force all conflicts to become errors\n",
      "========================================\n",
      "circlize version 0.4.16\n",
      "CRAN page: https://cran.r-project.org/package=circlize\n",
      "Github page: https://github.com/jokergoo/circlize\n",
      "Documentation: https://jokergoo.github.io/circlize_book/book/\n",
      "\n",
      "If you use it in published research, please cite:\n",
      "Gu, Z. circlize implements and enhances circular visualization\n",
      "  in R. Bioinformatics 2014.\n",
      "\n",
      "This message can be suppressed by:\n",
      "  suppressPackageStartupMessages(library(circlize))\n",
      "========================================\n",
      "\n",
      "\n"
     ]
    }
   ],
   "source": [
    "library(tidyverse)\n",
    "library(circlize)\n",
    "library(ggrepel)\n",
    "library(ggplot2)\n"
   ]
  },
  {
   "cell_type": "code",
   "execution_count": 18,
   "id": "a0379dec-30b8-49ac-a9d5-3566c574e94f",
   "metadata": {
    "tags": []
   },
   "outputs": [
    {
     "data": {
      "text/html": [
       "<strong>null device:</strong> 1"
      ],
      "text/latex": [
       "\\textbf{null device:} 1"
      ],
      "text/markdown": [
       "**null device:** 1"
      ],
      "text/plain": [
       "null device \n",
       "          1 "
      ]
     },
     "metadata": {},
     "output_type": "display_data"
    },
    {
     "data": {
      "text/html": [
       "<strong>png:</strong> 2"
      ],
      "text/latex": [
       "\\textbf{png:} 2"
      ],
      "text/markdown": [
       "**png:** 2"
      ],
      "text/plain": [
       "png \n",
       "  2 "
      ]
     },
     "metadata": {},
     "output_type": "display_data"
    }
   ],
   "source": [
    "use_levels <- c('WT', 'BA.2.75', 'BA.5','BQ.1.1','XBB.1.5','EG.5','HK.3',\n",
    "                'BA.2.86','BA.2.86+F456L','BA.2.86+L455F+F456L','BA.2.86+L455F+F456L+A475V','JN.1','JN.4','BA.2.86+A475S', 'JN.1+F456L','KP.2','JN.1+Q493E','KP.3','KP.3+A475V','JN.1+F456L+A475V',\n",
    "                 'JN.1+F456V','JN.1.23','JN.1.23+A475V'\n",
    "               )\n",
    "data <- read.csv(\"../data/SPR/data_summary.csv\") %>% filter(antigen %in% use_levels)\n",
    "data$lgKD <- log10(data$KD)\n",
    "data_gmean <- as.data.frame(data %>% group_by(antigen) %>% summarise(ka_gmean=exp(mean(log(ka))), kd_gmean=exp(mean(log(kd))), KD_gmean=exp(mean(log(KD)))))\n",
    "\n",
    "data$antigen <- factor(data$antigen, levels=use_levels)\n",
    "\n",
    "N <- length(unique(data$antigen))\n",
    "\n",
    "cgcolors <- colorRamp2(c(1, 5, 12, 16, 25), c('#113C80', \"#C9E7F1\",'#F6e9dd', '#FBcEc3','#Ec684F'))(data_gmean$KD_gmean*1e9)\n",
    "\n",
    "names(cgcolors) <- data_gmean$antigen\n",
    "\n",
    "rownames(data_gmean) <- data_gmean$antigen\n",
    "\n",
    "data_gmean$label <- sprintf(\"%#.2g\",1e9*data_gmean$KD_gmean)\n",
    "data_gmean$label <- sub(\"\\\\.$\", \"\", data_gmean$label)\n",
    "antigens <- data_gmean$antigen\n",
    "\n",
    "data_plot <- data %>% group_by(antigen) %>% mutate(\n",
    "    rank = rank(runif(n())),\n",
    "    jitter_x = (rank / (n() + 1)) * 0.5 - 0.25\n",
    ")\n",
    "\n",
    "dev.off()\n",
    "pdf(\"../plots/Extended/SPR_ACE2_barplot_supp.pdf\",width=N*0.25+0.5, height=3)\n",
    "ggplot(data_plot, aes(x=antigen, y=lgKD+12, fill=antigen))+stat_summary(fun='mean', geom='bar',show.legend = F, color='#999999',size=0.2)+\n",
    "    geom_point(aes(x=as.numeric(antigen)+jitter_x),size=1.5, alpha=0.5,shape=21, fill='white', show.legend = F)+\n",
    "    scale_y_continuous(breaks=c(2, 3,4, 5), labels=c(expression('10'^{-10}),expression('10'^{-9}),expression('10'^{-8}),expression('10'^{-7})))+ylab(bquote(K[D] (M)))+\n",
    "    coord_cartesian(ylim=c(2,5.5))+\n",
    "    scale_fill_manual(values = cgcolors)+\n",
    "    theme_classic()+theme(axis.text.x=element_text(angle=45, hjust=1,vjust=1),axis.title.x=element_blank())+\n",
    "    geom_text(data=data_gmean, aes(x=antigen, label=label, y=5.4), size=3.2)\n",
    "\n",
    "dev.off()\n",
    "\n",
    "data_gmean <- as.data.frame(data %>% group_by(antigen) %>% summarise(ka_gmean=exp(mean(log(ka))), kd_gmean=exp(mean(log(kd))), KD_gmean=exp(mean(log(KD)))))\n",
    "rownames(data_gmean) <- data_gmean$antigen\n"
   ]
  },
  {
   "cell_type": "code",
   "execution_count": 8,
   "id": "09c45ce6-7f58-4988-a1f0-d016891a3d53",
   "metadata": {
    "tags": []
   },
   "outputs": [
    {
     "data": {
      "text/html": [
       "<strong>null device:</strong> 1"
      ],
      "text/latex": [
       "\\textbf{null device:} 1"
      ],
      "text/markdown": [
       "**null device:** 1"
      ],
      "text/plain": [
       "null device \n",
       "          1 "
      ]
     },
     "metadata": {},
     "output_type": "display_data"
    },
    {
     "data": {
      "text/html": [
       "<strong>png:</strong> 2"
      ],
      "text/latex": [
       "\\textbf{png:} 2"
      ],
      "text/markdown": [
       "**png:** 2"
      ],
      "text/plain": [
       "png \n",
       "  2 "
      ]
     },
     "metadata": {},
     "output_type": "display_data"
    }
   ],
   "source": [
    "use_levels <- c('XBB.1.5','EG.5','HK.3',\n",
    "                'BA.2.86','JN.1','JN.1+F456L','KP.2','JN.1+Q493E','KP.3','KP.3+A475V','JN.1+F456L+A475V'\n",
    "               )\n",
    "data <- read.csv(\"../data/SPR/data_summary.csv\") %>% filter(antigen %in% use_levels)\n",
    "data$lgKD <- log10(data$KD)\n",
    "data_gmean <- as.data.frame(data %>% group_by(antigen) %>% summarise(ka_gmean=exp(mean(log(ka))), kd_gmean=exp(mean(log(kd))), KD_gmean=exp(mean(log(KD)))))\n",
    "\n",
    "data$antigen <- factor(data$antigen, levels=use_levels)\n",
    "\n",
    "N <- length(unique(data$antigen))\n",
    "\n",
    "cgcolors <- colorRamp2(c(1, 5, 12, 16, 25), c('#113C80', \"#C9E7F1\",'#F6e9dd', '#FBcEc3','#Ec684F'))(data_gmean$KD_gmean*1e9)\n",
    "\n",
    "names(cgcolors) <- data_gmean$antigen\n",
    "\n",
    "rownames(data_gmean) <- data_gmean$antigen\n",
    "\n",
    "data_gmean$label <- sprintf(\"%#.2g\",1e9*data_gmean$KD_gmean)\n",
    "data_gmean$label <- sub(\"\\\\.$\", \"\", data_gmean$label)\n",
    "antigens <- data_gmean$antigen\n",
    "\n",
    "data_plot <- data %>% group_by(antigen) %>% mutate(\n",
    "    rank = rank(runif(n())),\n",
    "    jitter_x = (rank / (n() + 1)) * 0.5 - 0.25\n",
    ")\n",
    "\n",
    "dev.off()\n",
    "pdf(\"../plots/Extended/SPR_ACE2_barplot_main.pdf\",width=N*0.25+0.5, height=2.5)\n",
    "ggplot(data_plot, aes(x=antigen, y=lgKD+12, fill=antigen))+stat_summary(fun='mean', geom='bar',show.legend = F, color='#999999',size=0.2)+\n",
    "    geom_point(aes(x=as.numeric(antigen)+jitter_x),size=1.5, alpha=0.5,shape=21, fill='white', show.legend = F)+\n",
    "    scale_y_continuous(breaks=c(2, 3,4, 5), labels=c(expression('10'^{-10}),expression('10'^{-9}),expression('10'^{-8}),expression('10'^{-7})))+ylab(bquote(K[D] (M)))+\n",
    "    coord_cartesian(ylim=c(2,5.5))+\n",
    "    scale_fill_manual(values = cgcolors)+\n",
    "    theme_classic()+theme(axis.text.x=element_text(angle=45, hjust=1,vjust=1),axis.title.x=element_blank())+\n",
    "    geom_text(data=data_gmean, aes(x=antigen, label=label, y=5.4), size=3.2)\n",
    "\n",
    "dev.off()\n",
    "\n",
    "rownames(data_gmean) <- data_gmean$antigen\n"
   ]
  },
  {
   "cell_type": "code",
   "execution_count": 13,
   "id": "2633603e-6524-4f13-bbf4-e7e007b21dfd",
   "metadata": {},
   "outputs": [
    {
     "data": {
      "text/html": [
       "<strong>null device:</strong> 1"
      ],
      "text/latex": [
       "\\textbf{null device:} 1"
      ],
      "text/markdown": [
       "**null device:** 1"
      ],
      "text/plain": [
       "null device \n",
       "          1 "
      ]
     },
     "metadata": {},
     "output_type": "display_data"
    },
    {
     "name": "stderr",
     "output_type": "stream",
     "text": [
      "Warning message:\n",
      "“\u001b[1m\u001b[22mRemoved 1092 rows containing missing values or values outside the scale range (`geom_line()`).”\n",
      "Warning message:\n",
      "“\u001b[1m\u001b[22mRemoved 1092 rows containing missing values or values outside the scale range (`geom_line()`).”\n",
      "Warning message in is.na(x):\n",
      "“is.na() applied to non-(list or vector) of type 'expression'”\n",
      "Warning message in is.na(x):\n",
      "“is.na() applied to non-(list or vector) of type 'expression'”\n",
      "Warning message in is.na(x):\n",
      "“is.na() applied to non-(list or vector) of type 'expression'”\n",
      "Warning message:\n",
      "“\u001b[1m\u001b[22mRemoved 1082 rows containing missing values or values outside the scale range (`geom_line()`).”\n",
      "Warning message:\n",
      "“\u001b[1m\u001b[22mRemoved 1082 rows containing missing values or values outside the scale range (`geom_line()`).”\n",
      "Warning message in is.na(x):\n",
      "“is.na() applied to non-(list or vector) of type 'expression'”\n",
      "Warning message in is.na(x):\n",
      "“is.na() applied to non-(list or vector) of type 'expression'”\n",
      "Warning message in is.na(x):\n",
      "“is.na() applied to non-(list or vector) of type 'expression'”\n",
      "Warning message:\n",
      "“\u001b[1m\u001b[22mRemoved 1083 rows containing missing values or values outside the scale range (`geom_line()`).”\n",
      "Warning message:\n",
      "“\u001b[1m\u001b[22mRemoved 1083 rows containing missing values or values outside the scale range (`geom_line()`).”\n",
      "Warning message in is.na(x):\n",
      "“is.na() applied to non-(list or vector) of type 'expression'”\n",
      "Warning message in is.na(x):\n",
      "“is.na() applied to non-(list or vector) of type 'expression'”\n",
      "Warning message in is.na(x):\n",
      "“is.na() applied to non-(list or vector) of type 'expression'”\n",
      "Warning message:\n",
      "“\u001b[1m\u001b[22mRemoved 1093 rows containing missing values or values outside the scale range (`geom_line()`).”\n",
      "Warning message:\n",
      "“\u001b[1m\u001b[22mRemoved 1093 rows containing missing values or values outside the scale range (`geom_line()`).”\n",
      "Warning message in is.na(x):\n",
      "“is.na() applied to non-(list or vector) of type 'expression'”\n",
      "Warning message in is.na(x):\n",
      "“is.na() applied to non-(list or vector) of type 'expression'”\n",
      "Warning message in is.na(x):\n",
      "“is.na() applied to non-(list or vector) of type 'expression'”\n",
      "Warning message:\n",
      "“\u001b[1m\u001b[22mRemoved 1087 rows containing missing values or values outside the scale range (`geom_line()`).”\n",
      "Warning message:\n",
      "“\u001b[1m\u001b[22mRemoved 1087 rows containing missing values or values outside the scale range (`geom_line()`).”\n",
      "Warning message in is.na(x):\n",
      "“is.na() applied to non-(list or vector) of type 'expression'”\n",
      "Warning message in is.na(x):\n",
      "“is.na() applied to non-(list or vector) of type 'expression'”\n",
      "Warning message in is.na(x):\n",
      "“is.na() applied to non-(list or vector) of type 'expression'”\n",
      "Warning message:\n",
      "“\u001b[1m\u001b[22mRemoved 1083 rows containing missing values or values outside the scale range (`geom_line()`).”\n",
      "Warning message:\n",
      "“\u001b[1m\u001b[22mRemoved 1083 rows containing missing values or values outside the scale range (`geom_line()`).”\n",
      "Warning message in is.na(x):\n",
      "“is.na() applied to non-(list or vector) of type 'expression'”\n",
      "Warning message in is.na(x):\n",
      "“is.na() applied to non-(list or vector) of type 'expression'”\n",
      "Warning message in is.na(x):\n",
      "“is.na() applied to non-(list or vector) of type 'expression'”\n",
      "Warning message:\n",
      "“\u001b[1m\u001b[22mRemoved 1082 rows containing missing values or values outside the scale range (`geom_line()`).”\n",
      "Warning message:\n",
      "“\u001b[1m\u001b[22mRemoved 1082 rows containing missing values or values outside the scale range (`geom_line()`).”\n",
      "Warning message in is.na(x):\n",
      "“is.na() applied to non-(list or vector) of type 'expression'”\n",
      "Warning message in is.na(x):\n",
      "“is.na() applied to non-(list or vector) of type 'expression'”\n",
      "Warning message in is.na(x):\n",
      "“is.na() applied to non-(list or vector) of type 'expression'”\n",
      "Warning message:\n",
      "“\u001b[1m\u001b[22mRemoved 1081 rows containing missing values or values outside the scale range (`geom_line()`).”\n",
      "Warning message:\n",
      "“\u001b[1m\u001b[22mRemoved 1081 rows containing missing values or values outside the scale range (`geom_line()`).”\n",
      "Warning message in is.na(x):\n",
      "“is.na() applied to non-(list or vector) of type 'expression'”\n",
      "Warning message in is.na(x):\n",
      "“is.na() applied to non-(list or vector) of type 'expression'”\n",
      "Warning message in is.na(x):\n",
      "“is.na() applied to non-(list or vector) of type 'expression'”\n",
      "Warning message:\n",
      "“\u001b[1m\u001b[22mRemoved 1083 rows containing missing values or values outside the scale range (`geom_line()`).”\n",
      "Warning message:\n",
      "“\u001b[1m\u001b[22mRemoved 1083 rows containing missing values or values outside the scale range (`geom_line()`).”\n",
      "Warning message in is.na(x):\n",
      "“is.na() applied to non-(list or vector) of type 'expression'”\n",
      "Warning message in is.na(x):\n",
      "“is.na() applied to non-(list or vector) of type 'expression'”\n",
      "Warning message in is.na(x):\n",
      "“is.na() applied to non-(list or vector) of type 'expression'”\n",
      "Warning message:\n",
      "“\u001b[1m\u001b[22mRemoved 1081 rows containing missing values or values outside the scale range (`geom_line()`).”\n",
      "Warning message:\n",
      "“\u001b[1m\u001b[22mRemoved 1081 rows containing missing values or values outside the scale range (`geom_line()`).”\n",
      "Warning message in is.na(x):\n",
      "“is.na() applied to non-(list or vector) of type 'expression'”\n",
      "Warning message in is.na(x):\n",
      "“is.na() applied to non-(list or vector) of type 'expression'”\n",
      "Warning message in is.na(x):\n",
      "“is.na() applied to non-(list or vector) of type 'expression'”\n",
      "Warning message:\n",
      "“\u001b[1m\u001b[22mRemoved 1082 rows containing missing values or values outside the scale range (`geom_line()`).”\n",
      "Warning message:\n",
      "“\u001b[1m\u001b[22mRemoved 1082 rows containing missing values or values outside the scale range (`geom_line()`).”\n",
      "Warning message in is.na(x):\n",
      "“is.na() applied to non-(list or vector) of type 'expression'”\n",
      "Warning message in is.na(x):\n",
      "“is.na() applied to non-(list or vector) of type 'expression'”\n",
      "Warning message in is.na(x):\n",
      "“is.na() applied to non-(list or vector) of type 'expression'”\n"
     ]
    },
    {
     "data": {
      "text/html": [
       "<strong>png:</strong> 2"
      ],
      "text/latex": [
       "\\textbf{png:} 2"
      ],
      "text/markdown": [
       "**png:** 2"
      ],
      "text/plain": [
       "png \n",
       "  2 "
      ]
     },
     "metadata": {},
     "output_type": "display_data"
    }
   ],
   "source": [
    "# sensorgram\n",
    "files <- c(\n",
    "    'XBB.1.5'='../data/SPR/Raw/20230908/XBB.1.5-RBD.txt',\n",
    "    'EG.5'='../data/SPR/Raw/20231018/XBB.1.5.10-RBD.txt',\n",
    "    'HK.3'='../data/SPR/Raw/20231018/XBB.1.5.70-RBD.txt',\n",
    "    'BA.2.86'='../data/SPR/Raw/20230908/BA.2.86-RBD.txt',\n",
    "    'JN.1'='../data/SPR/Raw/20231128/JN.1-RBD-1.txt',\n",
    "    'JN.1+F456L'='../data/SPR/Raw/20231212/JN.1-F456L-RBD-1.txt',\n",
    "    'KP.2'='../data/SPR/Raw/20240403/JN.1+R346T+F456L-RBD-1.txt',\n",
    "    'JN.1+Q493E'='../data/SPR/Raw/20240607/JN.1+Q493E-RBD-1.txt',\n",
    "    'KP.3'='../data/SPR/Raw/20240430/JN.1+Q493E+F456L-RBD-1.txt',\n",
    "    'KP.3+A475V'='../data/SPR/Raw/20240607/JN.1+Q493E+F456L+A475V-RBD-1.txt',\n",
    "    'JN.1+F456L+A475V'='../data/SPR/Raw/20231212/JN.1-F456L-A475V-RBD-1.txt'\n",
    ")\n",
    "\n",
    "dev.off()\n",
    "pdf(\"../plots/Extended/SPR_sensorgram.pdf\", width=3, height=2)\n",
    "for (ag in names(files)) {\n",
    "    df <- read.delim(files[ag])[,1:4] %>% na.omit()\n",
    "    colnames(df) <- c(\"X\", \"Y\", \"Fitted_X\", \"Fitted_Y\")\n",
    "    \n",
    "    p <- ggplot(df) + geom_line(aes(Fitted_X, Fitted_Y), alpha=1.0, size=1.2, color='red')+xlim(0,600)+\n",
    "            geom_line(aes(X,Y), alpha=0.9,size=0.5,color=\"#1212EF\")+theme_classic()+\n",
    "            scale_color_manual(values=colors)+\n",
    "            annotate(\"text\", size=4, x=40, y=max(df$Fitted_Y, na.rm=T)*0.95,hjust=0, label=as.expression(bquote(k[a]~\"=\"~.(format(data_gmean[ag,\"ka_gmean\"]/1e5, digits=2))~phantom()%*% 10^5~M^-1~s^-1)))+\n",
    "            annotate(\"text\", size=4, x=40, y=max(df$Fitted_Y, na.rm=T)*0.80,hjust=0, label=as.expression(bquote(k[d]~\"=\"~.(format(data_gmean[ag,\"kd_gmean\"]*1e3, digits=2))~phantom()%*% 10^-3~s^-1)))+\n",
    "            annotate(\"text\", size=4, x=40, y=max(df$Fitted_Y, na.rm=T)*0.65, hjust=0, label=as.expression(bquote(K[D]~\"=\"~.(data_gmean[ag,\"label\"])~\"nM\")))+\n",
    "            ggtitle(paste0(ag,' RBD'))+xlab(\"Time (s)\")+ylab(\"Relative response (RU)\")+\n",
    "        theme(title = element_text(size=10))\n",
    "    print(p)\n",
    "}\n",
    "dev.off()"
   ]
  },
  {
   "cell_type": "code",
   "execution_count": 44,
   "id": "f09152fb-03b8-42c8-90dd-d03ff198acd0",
   "metadata": {
    "tags": []
   },
   "outputs": [
    {
     "data": {
      "text/html": [
       "<table class=\"dataframe\">\n",
       "<caption>A data.frame: 10 × 4</caption>\n",
       "<thead>\n",
       "\t<tr><th></th><th scope=col>antigen</th><th scope=col>ka_gmean</th><th scope=col>kd_gmean</th><th scope=col>KD_gmean</th></tr>\n",
       "\t<tr><th></th><th scope=col>&lt;fct&gt;</th><th scope=col>&lt;dbl&gt;</th><th scope=col>&lt;dbl&gt;</th><th scope=col>&lt;dbl&gt;</th></tr>\n",
       "</thead>\n",
       "<tbody>\n",
       "\t<tr><th scope=row>XBB.1.5</th><td>XBB.1.5   </td><td>278555.5</td><td>0.0016755333</td><td>6.014974e-09</td></tr>\n",
       "\t<tr><th scope=row>EG.5</th><td>EG.5      </td><td>319482.3</td><td>0.0027182301</td><td>8.507259e-09</td></tr>\n",
       "\t<tr><th scope=row>HK.3</th><td>HK.3      </td><td>426363.7</td><td>0.0009093273</td><td>2.131898e-09</td></tr>\n",
       "\t<tr><th scope=row>BA.2.86</th><td>BA.2.86   </td><td>391708.2</td><td>0.0006666953</td><td>1.702748e-09</td></tr>\n",
       "\t<tr><th scope=row>JN.1</th><td>JN.1      </td><td>373538.4</td><td>0.0049057984</td><td>1.312441e-08</td></tr>\n",
       "\t<tr><th scope=row>JN.1+F456L</th><td>JN.1+F456L</td><td>406647.4</td><td>0.0049240881</td><td>1.211763e-08</td></tr>\n",
       "\t<tr><th scope=row>KP.2</th><td>KP.2      </td><td>417654.2</td><td>0.0047497368</td><td>1.138420e-08</td></tr>\n",
       "\t<tr><th scope=row>JN.1+Q493E</th><td>JN.1+Q493E</td><td>163951.2</td><td>0.0086685293</td><td>5.280625e-08</td></tr>\n",
       "\t<tr><th scope=row>KP.3</th><td>KP.3      </td><td>473619.0</td><td>0.0028630753</td><td>6.039967e-09</td></tr>\n",
       "\t<tr><th scope=row>KP.3+A475V</th><td>KP.3+A475V</td><td>253000.0</td><td>0.0057923570</td><td>2.288930e-08</td></tr>\n",
       "</tbody>\n",
       "</table>\n"
      ],
      "text/latex": [
       "A data.frame: 10 × 4\n",
       "\\begin{tabular}{r|llll}\n",
       "  & antigen & ka\\_gmean & kd\\_gmean & KD\\_gmean\\\\\n",
       "  & <fct> & <dbl> & <dbl> & <dbl>\\\\\n",
       "\\hline\n",
       "\tXBB.1.5 & XBB.1.5    & 278555.5 & 0.0016755333 & 6.014974e-09\\\\\n",
       "\tEG.5 & EG.5       & 319482.3 & 0.0027182301 & 8.507259e-09\\\\\n",
       "\tHK.3 & HK.3       & 426363.7 & 0.0009093273 & 2.131898e-09\\\\\n",
       "\tBA.2.86 & BA.2.86    & 391708.2 & 0.0006666953 & 1.702748e-09\\\\\n",
       "\tJN.1 & JN.1       & 373538.4 & 0.0049057984 & 1.312441e-08\\\\\n",
       "\tJN.1+F456L & JN.1+F456L & 406647.4 & 0.0049240881 & 1.211763e-08\\\\\n",
       "\tKP.2 & KP.2       & 417654.2 & 0.0047497368 & 1.138420e-08\\\\\n",
       "\tJN.1+Q493E & JN.1+Q493E & 163951.2 & 0.0086685293 & 5.280625e-08\\\\\n",
       "\tKP.3 & KP.3       & 473619.0 & 0.0028630753 & 6.039967e-09\\\\\n",
       "\tKP.3+A475V & KP.3+A475V & 253000.0 & 0.0057923570 & 2.288930e-08\\\\\n",
       "\\end{tabular}\n"
      ],
      "text/markdown": [
       "\n",
       "A data.frame: 10 × 4\n",
       "\n",
       "| <!--/--> | antigen &lt;fct&gt; | ka_gmean &lt;dbl&gt; | kd_gmean &lt;dbl&gt; | KD_gmean &lt;dbl&gt; |\n",
       "|---|---|---|---|---|\n",
       "| XBB.1.5 | XBB.1.5    | 278555.5 | 0.0016755333 | 6.014974e-09 |\n",
       "| EG.5 | EG.5       | 319482.3 | 0.0027182301 | 8.507259e-09 |\n",
       "| HK.3 | HK.3       | 426363.7 | 0.0009093273 | 2.131898e-09 |\n",
       "| BA.2.86 | BA.2.86    | 391708.2 | 0.0006666953 | 1.702748e-09 |\n",
       "| JN.1 | JN.1       | 373538.4 | 0.0049057984 | 1.312441e-08 |\n",
       "| JN.1+F456L | JN.1+F456L | 406647.4 | 0.0049240881 | 1.211763e-08 |\n",
       "| KP.2 | KP.2       | 417654.2 | 0.0047497368 | 1.138420e-08 |\n",
       "| JN.1+Q493E | JN.1+Q493E | 163951.2 | 0.0086685293 | 5.280625e-08 |\n",
       "| KP.3 | KP.3       | 473619.0 | 0.0028630753 | 6.039967e-09 |\n",
       "| KP.3+A475V | KP.3+A475V | 253000.0 | 0.0057923570 | 2.288930e-08 |\n",
       "\n"
      ],
      "text/plain": [
       "           antigen    ka_gmean kd_gmean     KD_gmean    \n",
       "XBB.1.5    XBB.1.5    278555.5 0.0016755333 6.014974e-09\n",
       "EG.5       EG.5       319482.3 0.0027182301 8.507259e-09\n",
       "HK.3       HK.3       426363.7 0.0009093273 2.131898e-09\n",
       "BA.2.86    BA.2.86    391708.2 0.0006666953 1.702748e-09\n",
       "JN.1       JN.1       373538.4 0.0049057984 1.312441e-08\n",
       "JN.1+F456L JN.1+F456L 406647.4 0.0049240881 1.211763e-08\n",
       "KP.2       KP.2       417654.2 0.0047497368 1.138420e-08\n",
       "JN.1+Q493E JN.1+Q493E 163951.2 0.0086685293 5.280625e-08\n",
       "KP.3       KP.3       473619.0 0.0028630753 6.039967e-09\n",
       "KP.3+A475V KP.3+A475V 253000.0 0.0057923570 2.288930e-08"
      ]
     },
     "metadata": {},
     "output_type": "display_data"
    }
   ],
   "source": [
    "data_gmean"
   ]
  },
  {
   "cell_type": "code",
   "execution_count": null,
   "id": "f0d3ac43-e4c7-45cf-a77b-b9f44a9e39b0",
   "metadata": {},
   "outputs": [],
   "source": []
  }
 ],
 "metadata": {
  "kernelspec": {
   "display_name": "R-4.3",
   "language": "R",
   "name": "ir43"
  },
  "language_info": {
   "codemirror_mode": "r",
   "file_extension": ".r",
   "mimetype": "text/x-r-source",
   "name": "R",
   "pygments_lexer": "r",
   "version": "4.3.3"
  }
 },
 "nbformat": 4,
 "nbformat_minor": 5
}
